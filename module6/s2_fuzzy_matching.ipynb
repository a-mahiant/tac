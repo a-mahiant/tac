{
 "cells": [
  {
   "cell_type": "markdown",
   "metadata": {},
   "source": [
    "# Détection automatique d'erreurs d'OCR"
   ]
  },
  {
   "cell_type": "markdown",
   "metadata": {},
   "source": [
    "## Imports"
   ]
  },
  {
   "cell_type": "code",
   "execution_count": 16,
   "metadata": {},
   "outputs": [],
   "source": [
    "import nltk\n",
    "from thefuzz import fuzz\n",
    "from thefuzz import process\n",
    "from Levenshtein import distance"
   ]
  },
  {
   "cell_type": "markdown",
   "metadata": {},
   "source": [
    "Nous allons d'abord utiliser la distance de Levenshtein, selon sa formule originale (1965)"
   ]
  },
  {
   "cell_type": "code",
   "execution_count": 17,
   "metadata": {},
   "outputs": [
    {
     "data": {
      "text/plain": [
       "3"
      ]
     },
     "execution_count": 17,
     "metadata": {},
     "output_type": "execute_result"
    }
   ],
   "source": [
    "distance(\"bulletin\", \"ballotins\")"
   ]
  },
  {
   "cell_type": "markdown",
   "metadata": {},
   "source": [
    "Nous allons ensuite faire appel à la librairie TheFuzz (anciennement fuzzywuzzy) qui repose sur python-Levenshtein (https://github.com/seatgeek/thefuzz).\n",
    "Celle-ci permet de normaliser le résultat en calculant un ratio (pourcentage) de similarité entre deux chaînes de caractères :"
   ]
  },
  {
   "cell_type": "code",
   "execution_count": 18,
   "metadata": {},
   "outputs": [
    {
     "data": {
      "text/plain": [
       "71"
      ]
     },
     "execution_count": 18,
     "metadata": {},
     "output_type": "execute_result"
    }
   ],
   "source": [
    "fuzz.ratio(\"bulletin\", \"ballotins\")"
   ]
  },
  {
   "cell_type": "markdown",
   "metadata": {},
   "source": [
    "La fonction  `partial_ratio` se focalise sur la sous-chaîne (substring) la plus similaire : "
   ]
  },
  {
   "cell_type": "code",
   "execution_count": 19,
   "metadata": {},
   "outputs": [
    {
     "data": {
      "text/plain": [
       "100"
      ]
     },
     "execution_count": 19,
     "metadata": {},
     "output_type": "execute_result"
    }
   ],
   "source": [
    "fuzz.partial_ratio(\"Grand\", \"Grand-Place\")"
   ]
  },
  {
   "cell_type": "markdown",
   "metadata": {},
   "source": [
    "La fonction `token_sort_ratio` ignore l'ordre des mots :"
   ]
  },
  {
   "cell_type": "code",
   "execution_count": 20,
   "metadata": {},
   "outputs": [
    {
     "data": {
      "text/plain": [
       "100"
      ]
     },
     "execution_count": 20,
     "metadata": {},
     "output_type": "execute_result"
    }
   ],
   "source": [
    "fuzz.token_sort_ratio(\"archives de la ville de Bruxelles\", \"de Bruxelles la ville de archives\")"
   ]
  },
  {
   "cell_type": "markdown",
   "metadata": {},
   "source": [
    "La fonction `token_set_ratio` ignore les répétitions de mots :"
   ]
  },
  {
   "cell_type": "code",
   "execution_count": 21,
   "metadata": {},
   "outputs": [
    {
     "data": {
      "text/plain": [
       "100"
      ]
     },
     "execution_count": 21,
     "metadata": {},
     "output_type": "execute_result"
    }
   ],
   "source": [
    "fuzz.token_set_ratio(\"plus jamais ça !\", \"plus jamais Jamais JAMAIS ça !!!\")"
   ]
  },
  {
   "cell_type": "markdown",
   "metadata": {},
   "source": [
    "Chargeons à présent le fichier `all.txt` (tronqué) : "
   ]
  },
  {
   "cell_type": "code",
   "execution_count": 22,
   "metadata": {},
   "outputs": [
    {
     "name": "stdout",
     "output_type": "stream",
     "text": [
      "12662126 words (tokens) found\n",
      "790907 different word forms\n"
     ]
    }
   ],
   "source": [
    "data_path = \"../data/all.txt\"\n",
    "LIMIT = 50000000\n",
    "text = open(data_path).read()[:LIMIT]\n",
    "\n",
    "tokens = nltk.wordpunct_tokenize(text)\n",
    "print(f\"{len(tokens)} words (tokens) found\")\n",
    "\n",
    "vocab = set(tokens)\n",
    "print(f\"{len(vocab)} different word forms\")"
   ]
  },
  {
   "cell_type": "markdown",
   "metadata": {},
   "source": [
    "Nous pouvons identifier les variantes d'un mot par ordre décroissant de similarité : "
   ]
  },
  {
   "cell_type": "code",
   "execution_count": 23,
   "metadata": {},
   "outputs": [
    {
     "data": {
      "text/plain": [
       "[('bruxelles', 100),\n",
       " ('Bruxellesâ', 100),\n",
       " ('BRUXElLES', 100),\n",
       " ('BRUXELLES', 100),\n",
       " ('BruxelleS', 100),\n",
       " ('àBruxelles', 100),\n",
       " ('BrUxelles', 100),\n",
       " ('Bruxellesà', 100),\n",
       " ('Bruxelles', 100),\n",
       " ('BruxelLes', 100),\n",
       " ('èëBruxelles', 100),\n",
       " ('üBruxelles', 100),\n",
       " ('BruxelleSi', 95),\n",
       " ('Bruxellesi', 95),\n",
       " ('BruxellesA', 95),\n",
       " ('yBruxelles', 95),\n",
       " ('jâBruxelles', 95),\n",
       " ('Biruxelles', 95),\n",
       " ('jBruxelles', 95),\n",
       " ('SBRUXELLES', 95),\n",
       " ('_BRUXELLES', 95),\n",
       " ('iBruxelles', 95),\n",
       " ('BRUXELLESl', 95),\n",
       " ('Bruxelles9', 95),\n",
       " ('BRUXJELLES', 95),\n",
       " ('Bruxelles1', 95),\n",
       " ('4Bruxelles', 95),\n",
       " ('àlBruxelles', 95),\n",
       " ('Bruxellesa', 95),\n",
       " ('Bruxellies', 95)]"
      ]
     },
     "execution_count": 23,
     "metadata": {},
     "output_type": "execute_result"
    }
   ],
   "source": [
    "word = \"bruxelles\"\n",
    "process.extract(word, vocab, limit=30)"
   ]
  },
  {
   "cell_type": "markdown",
   "metadata": {},
   "source": [
    "Les caractères accentués ne sont pas pris en compte pour le calcul du score, mais cela reste une bonne base pour récupérer les occurrences mal OCRisées d'un mot."
   ]
  }
 ],
 "metadata": {
  "kernelspec": {
   "display_name": "Python 3.10.7 64-bit",
   "language": "python",
   "name": "python3"
  },
  "language_info": {
   "codemirror_mode": {
    "name": "ipython",
    "version": 3
   },
   "file_extension": ".py",
   "mimetype": "text/x-python",
   "name": "python",
   "nbconvert_exporter": "python",
   "pygments_lexer": "ipython3",
   "version": "3.10.7"
  },
  "vscode": {
   "interpreter": {
    "hash": "aee8b7b246df8f9039afb4144a1f6fd8d2ca17a180786b69acc140d282b71a49"
   }
  }
 },
 "nbformat": 4,
 "nbformat_minor": 4
}

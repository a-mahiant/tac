{
 "cells": [
  {
   "cell_type": "markdown",
   "metadata": {},
   "source": [
    "# Extraire le texte dans des documents \"riches\""
   ]
  },
  {
   "cell_type": "markdown",
   "metadata": {},
   "source": [
    "## Imports"
   ]
  },
  {
   "cell_type": "code",
   "execution_count": 13,
   "metadata": {},
   "outputs": [],
   "source": [
    "import os\n",
    "import textract\n",
    "import openpyxl"
   ]
  },
  {
   "cell_type": "markdown",
   "metadata": {},
   "source": [
    "## Lister les fichiers dans le répertoire `dummy`"
   ]
  },
  {
   "cell_type": "code",
   "execution_count": 14,
   "metadata": {},
   "outputs": [
    {
     "name": "stdout",
     "output_type": "stream",
     "text": [
      "['test.docx', 'test.doc', 'test.pptx', 'test.mp3', 'test.jpg', 'test.png', 'test.pdf', 'test.txt', 'test.rtf', 'test.odt', 'test.xls']\n"
     ]
    }
   ],
   "source": [
    "path = 'dummy/'\n",
    "files = os.listdir(path)\n",
    "print(files)"
   ]
  },
  {
   "cell_type": "markdown",
   "metadata": {},
   "source": [
    "## Extraire le texte de chacun des fichiers à l'aide de la librairie `textract`\n"
   ]
  },
  {
   "cell_type": "code",
   "execution_count": 15,
   "metadata": {},
   "outputs": [
    {
     "name": "stdout",
     "output_type": "stream",
     "text": [
      "dummy/test.doc The command `antiword dummy/test.doc` failed because the executable\n",
      "`antiword` is not installed on your system. Please make\n",
      "sure the appropriate dependencies are installed before using\n",
      "textract:\n",
      "\n",
      "    http://textract.readthedocs.org/en/latest/installation.html\n",
      "\n",
      "%%%%%%%%%%%%%%%%%%%%%%%%%\n",
      "Ceci est un document docx.\n",
      "dummy/test.jpg The command `tesseract dummy/test.jpg stdout` failed because the executable\n",
      "`tesseract` is not installed on your system. Please make\n",
      "sure the appropriate dependencies are installed before using\n",
      "textract:\n",
      "\n",
      "    http://textract.readthedocs.org/en/latest/installation.html\n",
      "\n",
      "%%%%%%%%%%%%%%%%%%%%%%%%%\n",
      "dummy/test.mp3 The command `sox -G -c 1 dummy/test.mp3 /var/folders/b4/4ttz9h5j48g80xzndmk2_53w0000gn/T/tmpzxh3_3sh.wav` failed because the executable\n",
      "`sox` is not installed on your system. Please make\n",
      "sure the appropriate dependencies are installed before using\n",
      "textract:\n",
      "\n",
      "    http://textract.readthedocs.org/en/latest/installation.html\n",
      "\n",
      "%%%%%%%%%%%%%%%%%%%%%%%%%\n",
      "Ceci est un document odt.\n",
      "Ceci est un document pdf.\n",
      "dummy/test.png The command `tesseract dummy/test.png stdout` failed because the executable\n",
      "`tesseract` is not installed on your system. Please make\n",
      "sure the appropriate dependencies are installed before using\n",
      "textract:\n",
      "\n",
      "    http://textract.readthedocs.org/en/latest/installation.html\n",
      "\n",
      "%%%%%%%%%%%%%%%%%%%%%%%%%\n",
      "Ceci est un document pptx.\n",
      "dummy/test.rtf The command `unrtf --text dummy/test.rtf` failed because the executable\n",
      "`unrtf` is not installed on your system. Please make\n",
      "sure the appropriate dependencies are installed before using\n",
      "textract:\n",
      "\n",
      "    http://textract.readthedocs.org/en/latest/installation.html\n",
      "\n",
      "%%%%%%%%%%%%%%%%%%%%%%%%%\n",
      "Ceci est un document txt.\n",
      "Ceci est un document xlsx.\n"
     ]
    }
   ],
   "source": [
    "for f in sorted(files):\n",
    "    try:\n",
    "        text = textract.process(os.path.join(path, f))\n",
    "        print(text.decode('utf-8').strip())\n",
    "    except Exception as e:\n",
    "        print(os.path.join(path, f), e)\n",
    "        print(\"%%%%%%%%%%%%%%%%%%%%%%%%%\")"
   ]
  }
 ],
 "metadata": {
  "kernelspec": {
   "display_name": "Python 3.10.7 ('tac_venv': venv)",
   "language": "python",
   "name": "python3"
  },
  "language_info": {
   "codemirror_mode": {
    "name": "ipython",
    "version": 3
   },
   "file_extension": ".py",
   "mimetype": "text/x-python",
   "name": "python",
   "nbconvert_exporter": "python",
   "pygments_lexer": "ipython3",
   "version": "3.10.7 (v3.10.7:6cc6b13308, Sep  5 2022, 14:02:52) [Clang 13.0.0 (clang-1300.0.29.30)]"
  },
  "vscode": {
   "interpreter": {
    "hash": "22eb57bff7284fa477302938a752c329165cd0000dc5945798efe1987041d9d3"
   }
  }
 },
 "nbformat": 4,
 "nbformat_minor": 4
}

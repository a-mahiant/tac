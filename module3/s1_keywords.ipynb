{
 "cells": [
  {
   "cell_type": "markdown",
   "metadata": {},
   "source": [
    "# Extraction de Keywords"
   ]
  },
  {
   "cell_type": "markdown",
   "metadata": {},
   "source": [
    "## Imports"
   ]
  },
  {
   "cell_type": "code",
   "execution_count": 1,
   "metadata": {},
   "outputs": [],
   "source": [
    "import os\n",
    "import yake"
   ]
  },
  {
   "cell_type": "markdown",
   "metadata": {},
   "source": [
    "## Extraire les mots clés d'un document avec Yake"
   ]
  },
  {
   "cell_type": "markdown",
   "metadata": {},
   "source": [
    "https://github.com/LIAAD/yake"
   ]
  },
  {
   "cell_type": "code",
   "execution_count": 2,
   "metadata": {},
   "outputs": [
    {
     "data": {
      "text/plain": [
       "<yake.yake.KeywordExtractor at 0x10b9392a0>"
      ]
     },
     "execution_count": 2,
     "metadata": {},
     "output_type": "execute_result"
    }
   ],
   "source": [
    "# Instantier l'extracteur de mots clés\n",
    "kw_extractor = yake.KeywordExtractor(lan=\"fr\", top=50)\n",
    "kw_extractor"
   ]
  },
  {
   "cell_type": "code",
   "execution_count": 3,
   "metadata": {},
   "outputs": [],
   "source": [
    "# Lister les Fichiers\n",
    "data_path = \"../data/tmp\"\n",
    "files = os.listdir(data_path)"
   ]
  },
  {
   "cell_type": "code",
   "execution_count": 4,
   "metadata": {},
   "outputs": [
    {
     "data": {
      "text/plain": [
       "6"
      ]
     },
     "execution_count": 4,
     "metadata": {},
     "output_type": "execute_result"
    }
   ],
   "source": [
    "# Imprimer le nombre de fichiers identifiés\n",
    "len(files)"
   ]
  },
  {
   "cell_type": "code",
   "execution_count": 5,
   "metadata": {},
   "outputs": [
    {
     "data": {
      "text/plain": [
       "['.DS_Store',\n",
       " '1945_clean.txt',\n",
       " '1969_clean.txt',\n",
       " '1945.txt',\n",
       " '1969.txt',\n",
       " '1969.png']"
      ]
     },
     "execution_count": 5,
     "metadata": {},
     "output_type": "execute_result"
    }
   ],
   "source": [
    "# Les dix premiers fichiers\n",
    "files[:10]"
   ]
  },
  {
   "cell_type": "code",
   "execution_count": 6,
   "metadata": {},
   "outputs": [
    {
     "data": {
      "text/plain": [
       "'1945_clean.txt'"
      ]
     },
     "execution_count": 6,
     "metadata": {},
     "output_type": "execute_result"
    }
   ],
   "source": [
    "# Choisir un fichier\n",
    "this_file = files[1]\n",
    "this_file"
   ]
  },
  {
   "cell_type": "code",
   "execution_count": 7,
   "metadata": {},
   "outputs": [
    {
     "data": {
      "text/plain": [
       "'soir samedi decembre achat brillants buoùx argenterie monnaies obtnptotr général rorlogerte achat maurice lemnnnler midi carburant fume encrasse concessionnaire saturne tué fiancée bruxelles achat brillant bijoux argenterie monnaies bonnet passage souterrain botter nord hausse bijoux brillants monnaies atgen telles ûsbntres tableaux achat ricard tue bofanlquë brüxeljes hsm ijl pfucan erux bkiqu acier smeffielo viate wilovj étu prix spéciaux grossistes essayez gaines corsets àni gorge ceintures m'"
      ]
     },
     "execution_count": 7,
     "metadata": {},
     "output_type": "execute_result"
    }
   ],
   "source": [
    "# Récupérer le texte du fichier\n",
    "text = open(os.path.join(data_path,this_file), 'r').read()\n",
    "text[:500]"
   ]
  },
  {
   "cell_type": "code",
   "execution_count": 8,
   "metadata": {},
   "outputs": [
    {
     "data": {
      "text/plain": [
       "[('ecrire agence rossel', 4.925865547642655e-10),\n",
       " ('ecr agence rossel', 1.3285019909327935e-09),\n",
       " ('ecr rossel dem', 3.6910942517564395e-09),\n",
       " ('agence rossel dem', 3.854738430025336e-09),\n",
       " ('rue royale bruxelles', 5.193092408890776e-09),\n",
       " ('ecrire rossel dem', 7.04826911506971e-09),\n",
       " ('bruxelles ecrire rossel', 7.106913643911179e-09),\n",
       " ('rossel dem bon', 7.63018809801017e-09),\n",
       " ('bruxelles ecr rossel', 8.039098256356346e-09),\n",
       " ('rossel rue royale', 9.894518796777533e-09),\n",
       " ('ecrire rossel dame', 1.2199322253251991e-08),\n",
       " ('ecr rossel cherche', 1.2259844260677818e-08),\n",
       " ('place ecr rossel', 1.478768973664778e-08),\n",
       " ('offres agence rossel', 1.6200208885566726e-08),\n",
       " ('ecr rossel demande', 1.6544703787016737e-08),\n",
       " ('tél écr rossel', 1.6822670696580376e-08),\n",
       " ('agence rossel vendre', 1.8285885824378676e-08),\n",
       " ('prix ecr rossel', 1.865065089969089e-08),\n",
       " ('ecr rossel vendre', 1.876018356852558e-08),\n",
       " ('ecr rossel ach', 1.9032870505764654e-08),\n",
       " ('tient lieu part', 1.957819778691753e-08),\n",
       " ('agence rossel cherche', 1.9916477923061418e-08),\n",
       " ('rossel ach maison', 1.9931645488393902e-08),\n",
       " ('ecrire rossel ach', 2.019110589692446e-08),\n",
       " ('ecr rossel bon', 2.0286072410458167e-08),\n",
       " ('rossel dem jne', 2.1100078341659976e-08),\n",
       " ('bon état rue', 2.2032846974733064e-08),\n",
       " ('ecrire rossel cherche', 2.2295829400086462e-08),\n",
       " ('ecr rossel maison', 2.26087812605741e-08),\n",
       " ('ecrire rossel maison', 2.3984583369760258e-08),\n",
       " ('dem bon serv', 2.4058200450944754e-08),\n",
       " ('ecrire rossel jeune', 2.4284803606607237e-08),\n",
       " ('prétentions agence rossel', 2.437918118591745e-08),\n",
       " ('agence rossel bruxelles', 2.4486928217147073e-08),\n",
       " ('agence rossel bon', 2.471638521854398e-08),\n",
       " ('dem bon ouvrier', 2.481534872717282e-08),\n",
       " ('références agence rossel', 2.577067632430093e-08),\n",
       " ('agence rossel demande', 2.6877332538750022e-08),\n",
       " ('réf prêt rossel', 2.6959288109692784e-08),\n",
       " ('ecrire rossel louer', 2.767698453387578e-08),\n",
       " ('dem trav rossel', 2.8031146981433523e-08),\n",
       " ('bruxelles demande bon', 2.915210026783307e-08),\n",
       " ('ecrire tél rossel', 3.024477170955909e-08),\n",
       " ('rossel vente soir', 3.025339131138818e-08),\n",
       " ('bruxelles ecrire agence', 3.0272394185071625e-08),\n",
       " ('ecr rossel louer', 3.043755810498817e-08),\n",
       " ('bruxelles bonne maison', 3.051557674955042e-08),\n",
       " ('ordre ecr rossel', 3.063942534823616e-08),\n",
       " ('ecr réf rossel', 3.073034796801668e-08),\n",
       " ('francs ecr rossel', 3.0992103938695816e-08)]"
      ]
     },
     "execution_count": 8,
     "metadata": {},
     "output_type": "execute_result"
    }
   ],
   "source": [
    "# Extraire les mots clés de ce texte\n",
    "keywords = kw_extractor.extract_keywords(text)\n",
    "keywords"
   ]
  },
  {
   "cell_type": "code",
   "execution_count": 9,
   "metadata": {},
   "outputs": [
    {
     "data": {
      "text/plain": [
       "[]"
      ]
     },
     "execution_count": 9,
     "metadata": {},
     "output_type": "execute_result"
    }
   ],
   "source": [
    "# Ne garder que les bigrammes\n",
    "kept = []\n",
    "for kw, score in keywords:\n",
    "    words = kw.split()\n",
    "    if len(words) == 2:\n",
    "        kept.append(kw)\n",
    "kept"
   ]
  },
  {
   "cell_type": "markdown",
   "metadata": {},
   "source": [
    "## Faire la même opération sur tous les documents"
   ]
  },
  {
   "cell_type": "code",
   "execution_count": 10,
   "metadata": {},
   "outputs": [
    {
     "name": "stdout",
     "output_type": "stream",
     "text": [
      "1945.txt\n",
      "1945.txt mentions these keywords: Agence Rossel, RUE ROYALE, Bruxelles dem, l’Agence Rossel, rue Van, Ecrire Agence, Van Acker, BONNE MAISON, BELLE MAISON, bon état, ROYALE BRUXELLES, BRUXELLES demande, BRUXELLES Tél, place dem...\n",
      "1945_clean.txt\n",
      "1945_clean.txt mentions these keywords: ...\n",
      "1969.txt\n",
      "1969.txt mentions these keywords: Agence Rossel, Bruxelles Tél, l’Agence Rossel, Bruxelles dem, BRUXELLES DEMANDE, BRUXELLES engage, Bar dem, Dames dem, BRUXELLES CENTRE, Ecrire Agence, bel app, Bruxelles Bruxelles, Faire offre, rue Royale...\n",
      "1969_clean.txt\n",
      "1969_clean.txt mentions these keywords: ...\n"
     ]
    }
   ],
   "source": [
    "for f in sorted(files):\n",
    "    if f.endswith(\".txt\"):\n",
    "        print(f)\n",
    "        text = open(os.path.join(data_path, f), 'r').read()\n",
    "        keywords = kw_extractor.extract_keywords(text)\n",
    "        kept = []\n",
    "        for kw, score in keywords:\n",
    "            words = kw.split()\n",
    "            if len(words) == 2:\n",
    "                kept.append(kw)\n",
    "        print(f\"{f} mentions these keywords: {', '.join(kept)}...\")"
   ]
  }
 ],
 "metadata": {
  "kernelspec": {
   "display_name": "Python 3.10.7 ('tac_venv': venv)",
   "language": "python",
   "name": "python3"
  },
  "language_info": {
   "codemirror_mode": {
    "name": "ipython",
    "version": 3
   },
   "file_extension": ".py",
   "mimetype": "text/x-python",
   "name": "python",
   "nbconvert_exporter": "python",
   "pygments_lexer": "ipython3",
   "version": "3.10.7"
  },
  "vscode": {
   "interpreter": {
    "hash": "22eb57bff7284fa477302938a752c329165cd0000dc5945798efe1987041d9d3"
   }
  }
 },
 "nbformat": 4,
 "nbformat_minor": 4
}

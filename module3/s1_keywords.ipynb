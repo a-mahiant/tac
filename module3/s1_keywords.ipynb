{
 "cells": [
  {
   "cell_type": "markdown",
   "metadata": {},
   "source": [
    "# Extraction de Keywords"
   ]
  },
  {
   "cell_type": "markdown",
   "metadata": {},
   "source": [
    "## Imports"
   ]
  },
  {
   "cell_type": "code",
   "execution_count": 2,
   "metadata": {},
   "outputs": [],
   "source": [
    "import os\n",
    "import yake"
   ]
  },
  {
   "cell_type": "markdown",
   "metadata": {},
   "source": [
    "## Extraire les mots clés d'un document avec Yake"
   ]
  },
  {
   "cell_type": "markdown",
   "metadata": {},
   "source": [
    "https://github.com/LIAAD/yake"
   ]
  },
  {
   "cell_type": "code",
   "execution_count": 3,
   "metadata": {},
   "outputs": [
    {
     "data": {
      "text/plain": [
       "<yake.yake.KeywordExtractor at 0x10c6ca8f0>"
      ]
     },
     "execution_count": 3,
     "metadata": {},
     "output_type": "execute_result"
    }
   ],
   "source": [
    "# Instantier l'extracteur de mots clés\n",
    "kw_extractor = yake.KeywordExtractor(lan=\"fr\", top=50)\n",
    "kw_extractor"
   ]
  },
  {
   "cell_type": "code",
   "execution_count": 4,
   "metadata": {},
   "outputs": [],
   "source": [
    "# Lister les Fichiers\n",
    "data_path = \"../data/tmp\"\n",
    "files = os.listdir(data_path)"
   ]
  },
  {
   "cell_type": "code",
   "execution_count": 5,
   "metadata": {},
   "outputs": [
    {
     "data": {
      "text/plain": [
       "6"
      ]
     },
     "execution_count": 5,
     "metadata": {},
     "output_type": "execute_result"
    }
   ],
   "source": [
    "# Imprimer le nombre de fichiers identifiés\n",
    "len(files)"
   ]
  },
  {
   "cell_type": "code",
   "execution_count": 6,
   "metadata": {},
   "outputs": [
    {
     "data": {
      "text/plain": [
       "['1945_clean.txt',\n",
       " '1969_clean.txt',\n",
       " '1945.txt',\n",
       " '1969.txt',\n",
       " '1945.png',\n",
       " '1969.png']"
      ]
     },
     "execution_count": 6,
     "metadata": {},
     "output_type": "execute_result"
    }
   ],
   "source": [
    "# Les dix premiers fichiers\n",
    "files[:10]"
   ]
  },
  {
   "cell_type": "code",
   "execution_count": 7,
   "metadata": {},
   "outputs": [
    {
     "data": {
      "text/plain": [
       "'1969_clean.txt'"
      ]
     },
     "execution_count": 7,
     "metadata": {},
     "output_type": "execute_result"
    }
   ],
   "source": [
    "# Choisir un fichier\n",
    "this_file = files[1]\n",
    "this_file"
   ]
  },
  {
   "cell_type": "code",
   "execution_count": 8,
   "metadata": {},
   "outputs": [
    {
     "data": {
      "text/plain": [
       "'ets vanden boude chaussée mons anderlectit bruxelles demandent electriciens qualifies installation basse tension plombiers sachant conduire possible magasiniers dépôt rue roue place stable avenir firme continuelle expansion bonne rémunération prière adresser service personnel doct zamenhof anderlecht veeweyde tél poste autobus trams ets vanderborght frères engagent aides magasiniers préparation commandes bons salaires semaines jours pension extra légale gratuite présenter service personnel rue f'"
      ]
     },
     "execution_count": 8,
     "metadata": {},
     "output_type": "execute_result"
    }
   ],
   "source": [
    "# Récupérer le texte du fichier\n",
    "text = open(os.path.join(data_path,this_file), 'r').read()\n",
    "text[:500]"
   ]
  },
  {
   "cell_type": "code",
   "execution_count": 9,
   "metadata": {},
   "outputs": [
    {
     "data": {
      "text/plain": [
       "[('ecrire agence rossel', 3.7878677319903265e-09),\n",
       " ('vitae agence rossel', 1.5461515809802826e-08),\n",
       " ('agence rossel numéro', 2.135870129929022e-08),\n",
       " ('part bruxelles rue', 3.129015531981593e-08),\n",
       " ('agence rossel rue', 3.1934027169436386e-08),\n",
       " ('app liv cuis', 3.377763704739542e-08),\n",
       " ('bar dem serveuse', 3.828594558484896e-08),\n",
       " ('agence rossel bruxelles', 3.897787780916681e-08),\n",
       " ('ecrire curriculum vitae', 3.989204376866549e-08),\n",
       " ('liv cuis sdb', 4.1595667383529796e-08),\n",
       " ('prétentions agence rossel', 4.3007952556524596e-08),\n",
       " ('ecr rossel dem', 4.77914550124123e-08),\n",
       " ('ecr agence rossel', 5.101060482372776e-08),\n",
       " ('tél heures bureau', 5.1091244915512996e-08),\n",
       " ('tient lieu part', 5.265938608544481e-08),\n",
       " ('lieu part bruxelles', 5.312775124995387e-08),\n",
       " ('avenue louise bruxelles', 5.72674731357764e-08),\n",
       " ('agence rossel dem', 5.788310834216407e-08),\n",
       " ('curriculum vitae agence', 6.083985326732925e-08),\n",
       " ('coiff dames dem', 6.158978499315264e-08),\n",
       " ('rue royale bruxelles', 6.608867901112302e-08),\n",
       " ('service personnel rue', 6.869674654571969e-08),\n",
       " ('emp emp emp', 7.065442333629828e-08),\n",
       " ('enfants monsieur madame', 7.092462733708174e-08),\n",
       " ('app gar tél', 7.416470355055629e-08),\n",
       " ('brux tél dem', 7.652681569866267e-08),\n",
       " ('tél hres bur', 7.830053380105632e-08),\n",
       " ('ecrire rossel dem', 8.280656080903191e-08),\n",
       " ('liv sdb cuis', 8.31913347670596e-08),\n",
       " ('app mod chb', 8.346306571249728e-08),\n",
       " ('offre agence rossel', 8.670875304496884e-08),\n",
       " ('app chb liv', 8.913881909446385e-08),\n",
       " ('bruxelles octobre service', 8.983761955835994e-08),\n",
       " ('terr gar tél', 9.096429710187842e-08),\n",
       " ('app app app', 9.282834616981858e-08),\n",
       " ('agence rossel num', 9.287707552836373e-08),\n",
       " ('part décès monsieur', 9.686834529591908e-08),\n",
       " ('liv cuis gar', 9.8496594245865e-08),\n",
       " ('bruxelles ecr rossel', 9.855849620772092e-08),\n",
       " ('app liv terr', 9.955527586512681e-08),\n",
       " ('app cuis liv', 1.0133291114218624e-07),\n",
       " ('brux bar dem', 1.0241768841790465e-07),\n",
       " ('app conf tél', 1.0319052181412811e-07),\n",
       " ('bruxelles tél bruxelles', 1.0325010233837424e-07),\n",
       " ('avis tient lieu', 1.0365781540061461e-07),\n",
       " ('dem jeune fille', 1.0810704479027388e-07),\n",
       " ('dem servante int', 1.084589876549755e-07),\n",
       " ('tél dem serveuse', 1.1033319363376563e-07),\n",
       " ('tél heures dem', 1.1104977279341475e-07),\n",
       " ('dem serveuse ans', 1.1544783477539726e-07)]"
      ]
     },
     "execution_count": 9,
     "metadata": {},
     "output_type": "execute_result"
    }
   ],
   "source": [
    "# Extraire les mots clés de ce texte\n",
    "keywords = kw_extractor.extract_keywords(text)\n",
    "keywords"
   ]
  },
  {
   "cell_type": "code",
   "execution_count": 10,
   "metadata": {},
   "outputs": [
    {
     "data": {
      "text/plain": [
       "[]"
      ]
     },
     "execution_count": 10,
     "metadata": {},
     "output_type": "execute_result"
    }
   ],
   "source": [
    "# Ne garder que les bigrammes\n",
    "kept = []\n",
    "for kw, score in keywords:\n",
    "    words = kw.split()\n",
    "    if len(words) == 2:\n",
    "        kept.append(kw)\n",
    "kept"
   ]
  },
  {
   "cell_type": "markdown",
   "metadata": {},
   "source": [
    "## Faire la même opération sur tous les documents"
   ]
  },
  {
   "cell_type": "code",
   "execution_count": 11,
   "metadata": {},
   "outputs": [
    {
     "ename": "UnicodeDecodeError",
     "evalue": "'utf-8' codec can't decode byte 0x89 in position 0: invalid start byte",
     "output_type": "error",
     "traceback": [
      "\u001b[0;31m---------------------------------------------------------------------------\u001b[0m",
      "\u001b[0;31mUnicodeDecodeError\u001b[0m                        Traceback (most recent call last)",
      "Cell \u001b[0;32mIn [11], line 2\u001b[0m\n\u001b[1;32m      1\u001b[0m \u001b[39mfor\u001b[39;00m f \u001b[39min\u001b[39;00m \u001b[39msorted\u001b[39m(files)[:\u001b[39m10\u001b[39m]:\n\u001b[0;32m----> 2\u001b[0m     text \u001b[39m=\u001b[39m \u001b[39mopen\u001b[39;49m(os\u001b[39m.\u001b[39;49mpath\u001b[39m.\u001b[39;49mjoin(data_path, f), \u001b[39m'\u001b[39;49m\u001b[39mr\u001b[39;49m\u001b[39m'\u001b[39;49m)\u001b[39m.\u001b[39;49mread()\n\u001b[1;32m      3\u001b[0m     keywords \u001b[39m=\u001b[39m kw_extractor\u001b[39m.\u001b[39mextract_keywords(text)\n\u001b[1;32m      4\u001b[0m     kept \u001b[39m=\u001b[39m []\n",
      "File \u001b[0;32m/Library/Frameworks/Python.framework/Versions/3.10/lib/python3.10/codecs.py:322\u001b[0m, in \u001b[0;36mBufferedIncrementalDecoder.decode\u001b[0;34m(self, input, final)\u001b[0m\n\u001b[1;32m    319\u001b[0m \u001b[39mdef\u001b[39;00m \u001b[39mdecode\u001b[39m(\u001b[39mself\u001b[39m, \u001b[39minput\u001b[39m, final\u001b[39m=\u001b[39m\u001b[39mFalse\u001b[39;00m):\n\u001b[1;32m    320\u001b[0m     \u001b[39m# decode input (taking the buffer into account)\u001b[39;00m\n\u001b[1;32m    321\u001b[0m     data \u001b[39m=\u001b[39m \u001b[39mself\u001b[39m\u001b[39m.\u001b[39mbuffer \u001b[39m+\u001b[39m \u001b[39minput\u001b[39m\n\u001b[0;32m--> 322\u001b[0m     (result, consumed) \u001b[39m=\u001b[39m \u001b[39mself\u001b[39;49m\u001b[39m.\u001b[39;49m_buffer_decode(data, \u001b[39mself\u001b[39;49m\u001b[39m.\u001b[39;49merrors, final)\n\u001b[1;32m    323\u001b[0m     \u001b[39m# keep undecoded input until the next call\u001b[39;00m\n\u001b[1;32m    324\u001b[0m     \u001b[39mself\u001b[39m\u001b[39m.\u001b[39mbuffer \u001b[39m=\u001b[39m data[consumed:]\n",
      "\u001b[0;31mUnicodeDecodeError\u001b[0m: 'utf-8' codec can't decode byte 0x89 in position 0: invalid start byte"
     ]
    }
   ],
   "source": [
    "for f in sorted(files)[:10]:\n",
    "    text = open(os.path.join(data_path, f), 'r').read()\n",
    "    keywords = kw_extractor.extract_keywords(text)\n",
    "    kept = []\n",
    "    for kw, score in keywords:\n",
    "        words = kw.split()\n",
    "        if len(words) == 2:\n",
    "            kept.append(kw)\n",
    "    print(f\"{f} mentions these keywords: {', '.join(kept)}...\")"
   ]
  }
 ],
 "metadata": {
  "kernelspec": {
   "display_name": "Python 3.10.7 ('tac_venv': venv)",
   "language": "python",
   "name": "python3"
  },
  "language_info": {
   "codemirror_mode": {
    "name": "ipython",
    "version": 3
   },
   "file_extension": ".py",
   "mimetype": "text/x-python",
   "name": "python",
   "nbconvert_exporter": "python",
   "pygments_lexer": "ipython3",
   "version": "3.10.7"
  },
  "vscode": {
   "interpreter": {
    "hash": "22eb57bff7284fa477302938a752c329165cd0000dc5945798efe1987041d9d3"
   }
  }
 },
 "nbformat": 4,
 "nbformat_minor": 4
}

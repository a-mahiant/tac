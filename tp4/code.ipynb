{
 "cells": [
  {
   "attachments": {},
   "cell_type": "markdown",
   "metadata": {},
   "source": [
    "IMPORTS"
   ]
  },
  {
   "cell_type": "code",
   "execution_count": 291,
   "metadata": {},
   "outputs": [
    {
     "name": "stderr",
     "output_type": "stream",
     "text": [
      "[nltk_data] Downloading package stopwords to\n",
      "[nltk_data]     /Users/alicemahiant/nltk_data...\n",
      "[nltk_data]   Package stopwords is already up-to-date!\n"
     ]
    }
   ],
   "source": [
    "from collections import defaultdict\n",
    "import os\n",
    "import textract\n",
    "\n",
    "import matplotlib.pyplot as plt\n",
    "import numpy as np\n",
    "\n",
    "import nltk\n",
    "nltk.download('stopwords')\n",
    "from nltk.corpus import stopwords\n",
    "\n",
    "import yake"
   ]
  },
  {
   "attachments": {},
   "cell_type": "markdown",
   "metadata": {},
   "source": [
    "COUNTING FILES"
   ]
  },
  {
   "cell_type": "code",
   "execution_count": 292,
   "metadata": {},
   "outputs": [
    {
     "data": {
      "text/plain": [
       "1632"
      ]
     },
     "execution_count": 292,
     "metadata": {},
     "output_type": "execute_result"
    }
   ],
   "source": [
    "path = \"../tp4/datas/\"\n",
    "files = sorted(os.listdir(path))\n",
    "len(files)"
   ]
  },
  {
   "attachments": {},
   "cell_type": "markdown",
   "metadata": {},
   "source": [
    "FILES NAMES EXPLORER: EXAMPLE ON FIRST FILE"
   ]
  },
  {
   "cell_type": "code",
   "execution_count": 293,
   "metadata": {},
   "outputs": [
    {
     "data": {
      "text/plain": [
       "str"
      ]
     },
     "execution_count": 293,
     "metadata": {},
     "output_type": "execute_result"
    }
   ],
   "source": [
    "#fileName model\n",
    "fileName = 'KB_JB421_1905-10-09_01-00002'\n",
    "type(fileName)"
   ]
  },
  {
   "cell_type": "code",
   "execution_count": 294,
   "metadata": {},
   "outputs": [
    {
     "data": {
      "text/plain": [
       "['KB', 'JB421', '1905-10-09', '01-00002']"
      ]
     },
     "execution_count": 294,
     "metadata": {},
     "output_type": "execute_result"
    }
   ],
   "source": [
    "#split_method\n",
    "fileName_split = fileName.split('_')\n",
    "fileName_split"
   ]
  },
  {
   "cell_type": "code",
   "execution_count": 295,
   "metadata": {},
   "outputs": [
    {
     "data": {
      "text/plain": [
       "'1900s'"
      ]
     },
     "execution_count": 295,
     "metadata": {},
     "output_type": "execute_result"
    }
   ],
   "source": [
    "#date_path\n",
    "date = fileName_split[2]\n",
    "\n",
    "#year_path\n",
    "date_split = date.split('-')\n",
    "year = date_split[0]\n",
    "\n",
    "#convert year into decades\n",
    "year[:3]\n",
    "year[-1]\n",
    "year[:3] + '0s'"
   ]
  },
  {
   "attachments": {},
   "cell_type": "markdown",
   "metadata": {},
   "source": [
    "SPLITTING FILES NAMES TO ACCESS NEWSLETTER NAME & DATE"
   ]
  },
  {
   "cell_type": "code",
   "execution_count": 296,
   "metadata": {},
   "outputs": [],
   "source": [
    "all_years = [str(year) for year in range(1831, 1971)]"
   ]
  },
  {
   "cell_type": "code",
   "execution_count": 297,
   "metadata": {},
   "outputs": [
    {
     "name": "stdout",
     "output_type": "stream",
     "text": [
      "Anomalous file: .DS_Store\n"
     ]
    }
   ],
   "source": [
    "count_decade = defaultdict(int)\n",
    "count_month = defaultdict(int)\n",
    "count_newspapers = defaultdict(int)\n",
    "covered_years = set()\n",
    "\n",
    "for fileName in files:\n",
    "    if \"_\" in fileName and fileName.endswith(\"txt\"):\n",
    "        block = fileName.split(\"_\")\n",
    "        \n",
    "        newspaper = block[1]\n",
    "        \n",
    "        year = block[2].split(\"-\")[0]\n",
    "        covered_years.add(year)\n",
    "        decade = year[:3] + \"0s\"\n",
    "        \n",
    "        month = int(block[2].split(\"-\")[1])\n",
    "        \n",
    "        count_decade[decade] += 1\n",
    "        count_newspapers[newspaper] += 1\n",
    "        count_month[month] += 1\n",
    "    else:\n",
    "        print(f\"Anomalous file: {fileName}\")"
   ]
  },
  {
   "attachments": {},
   "cell_type": "markdown",
   "metadata": {},
   "source": [
    "COUNTING FILES BY NEWSLETTER NAME"
   ]
  },
  {
   "cell_type": "code",
   "execution_count": 298,
   "metadata": {},
   "outputs": [
    {
     "name": "stdout",
     "output_type": "stream",
     "text": [
      "Ce corpus comprend:\n",
      "- 883 exemplaires du journal Le Soir\n",
      "- 210 exemplaires de La Meuse\n",
      "- 107 exemplaires de La Libre Belgique\n",
      "- 80 exemplaires de l'Indépendance Belge\n",
      "- 64 exemplaires du Journal de Charleroi\n",
      "- 58 exemplaires du journal Le Drapeau rouge\n",
      "- 52 exemplaires du Journal de Bruxelles\n",
      "- 52 exemplaires du Vingtième Siècle\n",
      "- 51 exemplaires du journal Vers l'Avenir\n",
      "- 37 exemplaires du journal Le Peuple\n",
      "- 27 exemplaires de l'Avenir du Luxembourg\n",
      "- 10 exemplaires du journal Le Petit Bleu\n",
      "- 0 exemplaires de L'Indépendance Belge (édité en Angleterre)\n"
     ]
    }
   ],
   "source": [
    "#stat by newsletterName\n",
    "print(f\"Ce corpus comprend:\")\n",
    "print(f\"- {count_newspapers ['JB838']} exemplaires du journal Le Soir\")\n",
    "print(f\"- {count_newspapers ['JB638']} exemplaires de La Meuse\")\n",
    "print(f\"- {count_newspapers ['JB427']} exemplaires de La Libre Belgique\")\n",
    "print(f\"- {count_newspapers ['JB555']} exemplaires de l'Indépendance Belge\")\n",
    "print(f\"- {count_newspapers ['JB572']} exemplaires du Journal de Charleroi\")\n",
    "print(f\"- {count_newspapers ['JB1051']} exemplaires du journal Le Drapeau rouge\")\n",
    "print(f\"- {count_newspapers ['JB567']} exemplaires du Journal de Bruxelles\")\n",
    "print(f\"- {count_newspapers ['JB729']} exemplaires du Vingtième Siècle\")\n",
    "print(f\"- {count_newspapers ['JB773']} exemplaires du journal Vers l'Avenir\")\n",
    "print(f\"- {count_newspapers ['JB837']} exemplaires du journal Le Peuple\")\n",
    "print(f\"- {count_newspapers ['JB421']} exemplaires de l'Avenir du Luxembourg\")\n",
    "print(f\"- {count_newspapers ['JB685']} exemplaires du journal Le Petit Bleu\")\n",
    "print(f\"- {count_newspapers ['JB555A']} exemplaires de L'Indépendance Belge (édité en Angleterre)\")"
   ]
  },
  {
   "attachments": {},
   "cell_type": "markdown",
   "metadata": {},
   "source": [
    "COUNTING FILES BY DECADES"
   ]
  },
  {
   "cell_type": "code",
   "execution_count": 299,
   "metadata": {},
   "outputs": [
    {
     "name": "stdout",
     "output_type": "stream",
     "text": [
      "Ce corpus comprend:\n",
      "- 0 fichiers pour la décennie 1830s\n",
      "- 0 fichiers pour la décennie 1840s\n",
      "- 5 fichiers pour la décennie 1850s\n",
      "- 9 fichiers pour la décennie 1860s\n",
      "- 7 fichiers pour la décennie 1870s\n",
      "- 30 fichiers pour la décennie 1880s\n",
      "- 80 fichiers pour la décennie 1890s\n",
      "- 146 fichiers pour la décennie 1900s\n",
      "- 111 fichiers pour la décennie 1910s\n",
      "- 177 fichiers pour la décennie 1920s\n",
      "- 306 fichiers pour la décennie 1930s\n",
      "- 192 fichiers pour la décennie 1940s\n",
      "- 238 fichiers pour la décennie 1950s\n",
      "- 316 fichiers pour la décennie 1960s\n",
      "- 14 fichiers pour la décennie 1970s\n",
      "Années manquantes: 1831, 1832, 1833, 1834, 1835, 1836, 1837, 1838, 1839, 1840, 1841, 1842, 1843, 1844, 1845, 1846, 1847, 1848, 1849, 1850, 1851, 1852, 1853, 1854, 1855, 1856, 1861, 1864, 1865, 1870, 1871, 1872, 1876, 1877, 1883, 1885, 1915, 1916, 1917\n"
     ]
    }
   ],
   "source": [
    "#stat by decades\n",
    "print(f\"Ce corpus comprend:\")\n",
    "print(f\"- {count_decade['1830s']} fichiers pour la décennie 1830s\")\n",
    "print(f\"- {count_decade['1840s']} fichiers pour la décennie 1840s\")\n",
    "print(f\"- {count_decade['1850s']} fichiers pour la décennie 1850s\")\n",
    "print(f\"- {count_decade['1860s']} fichiers pour la décennie 1860s\")\n",
    "print(f\"- {count_decade['1870s']} fichiers pour la décennie 1870s\")\n",
    "print(f\"- {count_decade['1880s']} fichiers pour la décennie 1880s\")\n",
    "print(f\"- {count_decade['1890s']} fichiers pour la décennie 1890s\")\n",
    "print(f\"- {count_decade['1900s']} fichiers pour la décennie 1900s\")\n",
    "print(f\"- {count_decade['1910s']} fichiers pour la décennie 1910s\")\n",
    "print(f\"- {count_decade['1920s']} fichiers pour la décennie 1920s\")\n",
    "print(f\"- {count_decade['1930s']} fichiers pour la décennie 1930s\")\n",
    "print(f\"- {count_decade['1940s']} fichiers pour la décennie 1940s\")\n",
    "print(f\"- {count_decade['1950s']} fichiers pour la décennie 1950s\")\n",
    "print(f\"- {count_decade['1960s']} fichiers pour la décennie 1960s\")\n",
    "print(f\"- {count_decade['1970s']} fichiers pour la décennie 1970s\")\n",
    "\n",
    "missing_years = [y for y in all_years if y not in covered_years]\n",
    "print(f\"Années manquantes: {', '.join(missing_years)}\")"
   ]
  },
  {
   "attachments": {},
   "cell_type": "markdown",
   "metadata": {},
   "source": [
    "PUTTING THE FILES IN A BIG txt CORPUS CALLED \"all.txt\""
   ]
  },
  {
   "cell_type": "code",
   "execution_count": 300,
   "metadata": {},
   "outputs": [],
   "source": [
    "!cat ../tp4/datas/*.txt > ../tp4/all/all.txt"
   ]
  },
  {
   "attachments": {},
   "cell_type": "markdown",
   "metadata": {},
   "source": [
    "COUNTING WORDS"
   ]
  },
  {
   "cell_type": "code",
   "execution_count": 301,
   "metadata": {},
   "outputs": [
    {
     "name": "stdout",
     "output_type": "stream",
     "text": [
      "       0 10441576 64227435 ../tp4/all/all.txt\n"
     ]
    }
   ],
   "source": [
    "!wc ../tp4/all/all.txt"
   ]
  },
  {
   "attachments": {},
   "cell_type": "markdown",
   "metadata": {},
   "source": [
    "CREATING A STOPWORDS LIST"
   ]
  },
  {
   "cell_type": "code",
   "execution_count": 302,
   "metadata": {},
   "outputs": [
    {
     "data": {
      "text/plain": [
       "<yake.yake.KeywordExtractor at 0x167e77e80>"
      ]
     },
     "execution_count": 302,
     "metadata": {},
     "output_type": "execute_result"
    }
   ],
   "source": [
    "# Instantier l'extracteur de mots clés\n",
    "kw_extractor = yake.KeywordExtractor(lan=\"fr\", top=50)\n",
    "kw_extractor"
   ]
  },
  {
   "cell_type": "code",
   "execution_count": 303,
   "metadata": {},
   "outputs": [
    {
     "name": "stdout",
     "output_type": "stream",
     "text": [
      "Anomalous file: .DS_Store\n"
     ]
    }
   ],
   "source": [
    "# Lister les Fichiers\n",
    "data_path = \"../tp4/datas\"\n",
    "files = os.listdir(data_path)\n",
    "\n",
    "for fileName in files:\n",
    "    if fileName.endswith(\"DS_Store\"):\n",
    "        print(f\"Anomalous file: {fileName}\")"
   ]
  },
  {
   "cell_type": "code",
   "execution_count": 304,
   "metadata": {},
   "outputs": [
    {
     "data": {
      "text/plain": [
       "1632"
      ]
     },
     "execution_count": 304,
     "metadata": {},
     "output_type": "execute_result"
    }
   ],
   "source": [
    "# Imprimer le nombre de fichiers identifiés\n",
    "len(files)"
   ]
  },
  {
   "cell_type": "markdown",
   "metadata": {},
   "source": []
  }
 ],
 "metadata": {
  "kernelspec": {
   "display_name": "tac_venv",
   "language": "python",
   "name": "python3"
  },
  "language_info": {
   "codemirror_mode": {
    "name": "ipython",
    "version": 3
   },
   "file_extension": ".py",
   "mimetype": "text/x-python",
   "name": "python",
   "nbconvert_exporter": "python",
   "pygments_lexer": "ipython3",
   "version": "3.10.7"
  },
  "orig_nbformat": 4,
  "vscode": {
   "interpreter": {
    "hash": "22eb57bff7284fa477302938a752c329165cd0000dc5945798efe1987041d9d3"
   }
  }
 },
 "nbformat": 4,
 "nbformat_minor": 2
}

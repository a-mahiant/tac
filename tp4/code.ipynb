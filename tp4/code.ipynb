{
 "cells": [
  {
   "attachments": {},
   "cell_type": "markdown",
   "metadata": {},
   "source": [
    "IMPORTS"
   ]
  },
  {
   "cell_type": "code",
   "execution_count": 236,
   "metadata": {},
   "outputs": [
    {
     "name": "stderr",
     "output_type": "stream",
     "text": [
      "[nltk_data] Downloading package stopwords to\n",
      "[nltk_data]     /Users/alicemahiant/nltk_data...\n",
      "[nltk_data]   Package stopwords is already up-to-date!\n"
     ]
    }
   ],
   "source": [
    "from collections import defaultdict\n",
    "import os\n",
    "import textract\n",
    "\n",
    "import matplotlib.pyplot as plt\n",
    "import numpy as np\n",
    "\n",
    "import nltk\n",
    "nltk.download('stopwords')\n",
    "from nltk.corpus import stopwords\n",
    "\n",
    "import yake\n",
    "\n",
    "from collections import Counter\n",
    "from wordcloud import WordCloud\n",
    "from IPython.display import Image"
   ]
  },
  {
   "attachments": {},
   "cell_type": "markdown",
   "metadata": {},
   "source": [
    "COUNTING FILES"
   ]
  },
  {
   "cell_type": "code",
   "execution_count": 198,
   "metadata": {},
   "outputs": [
    {
     "data": {
      "text/plain": [
       "1631"
      ]
     },
     "execution_count": 198,
     "metadata": {},
     "output_type": "execute_result"
    }
   ],
   "source": [
    "path = \"../tp4/datas/\"\n",
    "files = []\n",
    "for name in os.listdir(path):\n",
    "    if name.endswith(\".txt\"):\n",
    "        files.append(name)\n",
    "files = sorted(files)\n",
    "len(files)"
   ]
  },
  {
   "attachments": {},
   "cell_type": "markdown",
   "metadata": {},
   "source": [
    "FILES NAMES EXPLORER: EXAMPLE ON FIRST FILE"
   ]
  },
  {
   "cell_type": "code",
   "execution_count": 199,
   "metadata": {},
   "outputs": [
    {
     "data": {
      "text/plain": [
       "str"
      ]
     },
     "execution_count": 199,
     "metadata": {},
     "output_type": "execute_result"
    }
   ],
   "source": [
    "#fileName model\n",
    "fileName = files [0]\n",
    "type(fileName)"
   ]
  },
  {
   "cell_type": "code",
   "execution_count": 200,
   "metadata": {},
   "outputs": [
    {
     "data": {
      "text/plain": [
       "['KB', 'JB1051', '1925-10-31', '01-00002.txt']"
      ]
     },
     "execution_count": 200,
     "metadata": {},
     "output_type": "execute_result"
    }
   ],
   "source": [
    "#split_method\n",
    "fileName_split = fileName.split('_')\n",
    "fileName_split"
   ]
  },
  {
   "cell_type": "code",
   "execution_count": 201,
   "metadata": {},
   "outputs": [
    {
     "data": {
      "text/plain": [
       "'1920s'"
      ]
     },
     "execution_count": 201,
     "metadata": {},
     "output_type": "execute_result"
    }
   ],
   "source": [
    "#date_path\n",
    "date = fileName_split[2]\n",
    "\n",
    "#year_path\n",
    "date_split = date.split('-')\n",
    "year = date_split[0]\n",
    "\n",
    "#convert year into decades\n",
    "year[:3]\n",
    "year[-1]\n",
    "year[:3] + '0s'"
   ]
  },
  {
   "attachments": {},
   "cell_type": "markdown",
   "metadata": {},
   "source": [
    "SPLITTING FILES NAMES TO ACCESS NEWSLETTER NAME & DATE"
   ]
  },
  {
   "cell_type": "code",
   "execution_count": 202,
   "metadata": {},
   "outputs": [],
   "source": [
    "all_years = [str(year) for year in range(1831, 1971)]"
   ]
  },
  {
   "cell_type": "code",
   "execution_count": 203,
   "metadata": {},
   "outputs": [],
   "source": [
    "count_decade = defaultdict(int)\n",
    "count_month = defaultdict(int)\n",
    "count_year = defaultdict(int)\n",
    "count_newspapers = defaultdict(int)\n",
    "covered_years = set()\n",
    "\n",
    "for f in files:\n",
    "    if \"_\" in f and f.endswith(\"txt\"):\n",
    "        elems = f.split(\"_\")\n",
    "        \n",
    "        newspaper = elems[1]\n",
    "        \n",
    "        year = elems[2].split(\"-\")[0]\n",
    "        covered_years.add(year)\n",
    "        decade = year[:3] + \"0s\"\n",
    "        \n",
    "        month = int(elems[2].split(\"-\")[1])\n",
    "        \n",
    "        count_decade[decade] += 1\n",
    "        count_newspapers[newspaper] += 1\n",
    "        count_month[month] += 1\n",
    "        count_year [year] += 1\n",
    "    else:\n",
    "        print(f\"Anomalous file: {f}\")"
   ]
  },
  {
   "attachments": {},
   "cell_type": "markdown",
   "metadata": {},
   "source": [
    "COUNTING FILES BY NEWSLETTER NAME"
   ]
  },
  {
   "cell_type": "code",
   "execution_count": 204,
   "metadata": {},
   "outputs": [
    {
     "name": "stdout",
     "output_type": "stream",
     "text": [
      "Ce corpus comprend:\n",
      "- 883 exemplaires du journal Le Soir\n",
      "- 210 exemplaires de La Meuse\n",
      "- 107 exemplaires de La Libre Belgique\n",
      "- 80 exemplaires de l'Indépendance Belge\n",
      "- 64 exemplaires du Journal de Charleroi\n",
      "- 58 exemplaires du journal Le Drapeau rouge\n",
      "- 52 exemplaires du Journal de Bruxelles\n",
      "- 52 exemplaires du Vingtième Siècle\n",
      "- 51 exemplaires du journal Vers l'Avenir\n",
      "- 37 exemplaires du journal Le Peuple\n",
      "- 27 exemplaires de l'Avenir du Luxembourg\n",
      "- 10 exemplaires du journal Le Petit Bleu\n",
      "- 0 exemplaires de L'Indépendance Belge (édité en Angleterre)\n"
     ]
    }
   ],
   "source": [
    "#stat by newsletterName\n",
    "print(f\"Ce corpus comprend:\")\n",
    "print(f\"- {count_newspapers ['JB838']} exemplaires du journal Le Soir\")\n",
    "print(f\"- {count_newspapers ['JB638']} exemplaires de La Meuse\")\n",
    "print(f\"- {count_newspapers ['JB427']} exemplaires de La Libre Belgique\")\n",
    "print(f\"- {count_newspapers ['JB555']} exemplaires de l'Indépendance Belge\")\n",
    "print(f\"- {count_newspapers ['JB572']} exemplaires du Journal de Charleroi\")\n",
    "print(f\"- {count_newspapers ['JB1051']} exemplaires du journal Le Drapeau rouge\")\n",
    "print(f\"- {count_newspapers ['JB567']} exemplaires du Journal de Bruxelles\")\n",
    "print(f\"- {count_newspapers ['JB729']} exemplaires du Vingtième Siècle\")\n",
    "print(f\"- {count_newspapers ['JB773']} exemplaires du journal Vers l'Avenir\")\n",
    "print(f\"- {count_newspapers ['JB837']} exemplaires du journal Le Peuple\")\n",
    "print(f\"- {count_newspapers ['JB421']} exemplaires de l'Avenir du Luxembourg\")\n",
    "print(f\"- {count_newspapers ['JB685']} exemplaires du journal Le Petit Bleu\")\n",
    "print(f\"- {count_newspapers ['JB555A']} exemplaires de L'Indépendance Belge (édité en Angleterre)\")"
   ]
  },
  {
   "attachments": {},
   "cell_type": "markdown",
   "metadata": {},
   "source": [
    "COUNTING FILES BY DECADES"
   ]
  },
  {
   "cell_type": "code",
   "execution_count": 205,
   "metadata": {},
   "outputs": [
    {
     "name": "stdout",
     "output_type": "stream",
     "text": [
      "Ce corpus comprend:\n",
      "- 0 fichiers pour la décennie 1830s\n",
      "- 0 fichiers pour la décennie 1840s\n",
      "- 5 fichiers pour la décennie 1850s\n",
      "- 9 fichiers pour la décennie 1860s\n",
      "- 7 fichiers pour la décennie 1870s\n",
      "- 30 fichiers pour la décennie 1880s\n",
      "- 80 fichiers pour la décennie 1890s\n",
      "- 146 fichiers pour la décennie 1900s\n",
      "- 111 fichiers pour la décennie 1910s\n",
      "- 177 fichiers pour la décennie 1920s\n",
      "- 306 fichiers pour la décennie 1930s\n",
      "- 192 fichiers pour la décennie 1940s\n",
      "- 238 fichiers pour la décennie 1950s\n",
      "- 316 fichiers pour la décennie 1960s\n",
      "- 14 fichiers pour la décennie 1970s\n",
      "Années manquantes: 1831, 1832, 1833, 1834, 1835, 1836, 1837, 1838, 1839, 1840, 1841, 1842, 1843, 1844, 1845, 1846, 1847, 1848, 1849, 1850, 1851, 1852, 1853, 1854, 1855, 1856, 1861, 1864, 1865, 1870, 1871, 1872, 1876, 1877, 1883, 1885, 1915, 1916, 1917\n"
     ]
    }
   ],
   "source": [
    "#stat by decades\n",
    "print(f\"Ce corpus comprend:\")\n",
    "print(f\"- {count_decade['1830s']} fichiers pour la décennie 1830s\")\n",
    "print(f\"- {count_decade['1840s']} fichiers pour la décennie 1840s\")\n",
    "print(f\"- {count_decade['1850s']} fichiers pour la décennie 1850s\")\n",
    "print(f\"- {count_decade['1860s']} fichiers pour la décennie 1860s\")\n",
    "print(f\"- {count_decade['1870s']} fichiers pour la décennie 1870s\")\n",
    "print(f\"- {count_decade['1880s']} fichiers pour la décennie 1880s\")\n",
    "print(f\"- {count_decade['1890s']} fichiers pour la décennie 1890s\")\n",
    "print(f\"- {count_decade['1900s']} fichiers pour la décennie 1900s\")\n",
    "print(f\"- {count_decade['1910s']} fichiers pour la décennie 1910s\")\n",
    "print(f\"- {count_decade['1920s']} fichiers pour la décennie 1920s\")\n",
    "print(f\"- {count_decade['1930s']} fichiers pour la décennie 1930s\")\n",
    "print(f\"- {count_decade['1940s']} fichiers pour la décennie 1940s\")\n",
    "print(f\"- {count_decade['1950s']} fichiers pour la décennie 1950s\")\n",
    "print(f\"- {count_decade['1960s']} fichiers pour la décennie 1960s\")\n",
    "print(f\"- {count_decade['1970s']} fichiers pour la décennie 1970s\")\n",
    "\n",
    "missing_years = [y for y in all_years if y not in covered_years]\n",
    "print(f\"Années manquantes: {', '.join(missing_years)}\")"
   ]
  },
  {
   "attachments": {},
   "cell_type": "markdown",
   "metadata": {},
   "source": [
    "EXPLORING DATAS WITH SIMPLE BARCHART"
   ]
  },
  {
   "cell_type": "code",
   "execution_count": 206,
   "metadata": {},
   "outputs": [
    {
     "data": {
      "image/png": "[encoded data removed]",
      "text/plain": [
       "<Figure size 640x480 with 1 Axes>"
      ]
     },
     "metadata": {},
     "output_type": "display_data"
    },
    {
     "data": {
      "image/png": "[encoded data removed]",
      "text/plain": [
       "<Figure size 640x480 with 1 Axes>"
      ]
     },
     "metadata": {},
     "output_type": "display_data"
    },
    {
     "data": {
      "image/png": "[encoded data removed]",
      "text/plain": [
       "<Figure size 640x480 with 1 Axes>"
      ]
     },
     "metadata": {},
     "output_type": "display_data"
    }
   ],
   "source": [
    "ordered_years = sorted(count_year.keys())\n",
    "ordered_count_years = [count_year[year] for year in ordered_years]\n",
    "\n",
    "index = np.arange(len(count_year))\n",
    "plt.bar(index, ordered_count_years)\n",
    "plt.xlabel('Year')\n",
    "plt.ylabel('# files')\n",
    "plt.xticks(index, ordered_years, fontsize=3, rotation=70)\n",
    "plt.title('Number of files per year')\n",
    "plt.show()\n",
    "\n",
    "ordered_decades = sorted(count_decade.keys())\n",
    "ordered_count_decades = [count_decade[decade] for decade in ordered_decades]\n",
    "\n",
    "index = np.arange(len(count_decade))\n",
    "plt.bar(index, ordered_count_decades)\n",
    "plt.xlabel('Decades')\n",
    "plt.ylabel('# files')\n",
    "plt.xticks(index, ordered_decades, fontsize=8, rotation=80)\n",
    "plt.title('Number of files per decades')\n",
    "plt.show()\n",
    "\n",
    "ordered_newspapers = sorted(count_newspapers.keys())\n",
    "ordered_count_newspapers = [count_newspapers[newspaper] for newspaper in ordered_newspapers]\n",
    "\n",
    "index = np.arange(len(count_newspapers))\n",
    "plt.bar(index, ordered_count_newspapers)\n",
    "plt.xlabel('Newspapers')\n",
    "plt.ylabel('# files')\n",
    "plt.xticks(index, ordered_newspapers, fontsize=8, rotation=30)\n",
    "plt.title('Number of files per newspapers')\n",
    "plt.show()"
   ]
  },
  {
   "attachments": {},
   "cell_type": "markdown",
   "metadata": {},
   "source": [
    "PUTTING THE FILES IN A BIG txt CORPUS CALLED \"all.txt\""
   ]
  },
  {
   "cell_type": "code",
   "execution_count": 207,
   "metadata": {},
   "outputs": [],
   "source": [
    "!cat ../tp4/datas/*.txt > ../tp4/all/all.txt"
   ]
  },
  {
   "attachments": {},
   "cell_type": "markdown",
   "metadata": {},
   "source": [
    "COUNTING WORDS IN all.txt"
   ]
  },
  {
   "cell_type": "code",
   "execution_count": 216,
   "metadata": {},
   "outputs": [
    {
     "name": "stdout",
     "output_type": "stream",
     "text": [
      "       0 10441576 64227435 ../tp4/all/all.txt\n"
     ]
    }
   ],
   "source": [
    "!wc ../tp4/all/all.txt"
   ]
  },
  {
   "attachments": {},
   "cell_type": "markdown",
   "metadata": {},
   "source": [
    "CREATING A STOPWORDS LIST"
   ]
  },
  {
   "cell_type": "code",
   "execution_count": null,
   "metadata": {},
   "outputs": [],
   "source": [
    "sw = stopwords.words(\"french\")\n",
    "sw += [\"afin\", \"aie\", \"ai\", \"ainsi\", \"allaient\", \"après\", \"au\", \"aux\", \"aussi\", \"auquel\", \"aura\", \"auront\",\n",
    "       \"aux\", \"auxquels\", \"auxquelles\", \"avaient\", \"avais\", \"avait\", \"avec\", \"avoir\", \"ayant\",\n",
    "       \"bien\",\n",
    "       \"ça\", \"ceci\", \"cela\", \"celle\", \"celle-ci\", \"celle-là\", \"celui\", \"celui-ci\", \"celui-là\", \"cependant\", \"ces\", \"cet\", \"cette\", \n",
    "       \"ceux\", \"ceux-çi\", \"ceux-là\", \"chacun\", \"chaque\", \"chez\", \n",
    "       \"comme\", \"comment\", \"contre\",\n",
    "       \"dans\", \"de\", \"delà\", \"depuis\", \"des\", \"dès\", \"desquels\", \"desquelles\", \"dire\", \"dit\", \"doit\", \"donc\", \"dont\", \"du\", \"duquel\", \"durant\",\n",
    "       \"en\", \"encore\", \"entre\", \"environ\", \"est\", \"es\", \"étant\", \"être\", \"etc\", \n",
    "       \"faire\", \"fait\", \"faut\", \"feront\", \"font\",\n",
    "       \"het\",\n",
    "       \"ils\",\n",
    "       \"jusqu\", \"jusque\",\n",
    "       \"là\", \"la\", \"laquelle\", \"le\", \"lequel\", \"les\", \"lesquels\", \"lesquelles\", \"leur\", \"leurs\", \"lorsque\", \"lui\",\n",
    "       \"mais\", \"malgré\", \"même\", \"mes\", \"mien\", \"miennes\", \"moins\",\n",
    "       \"néanmoins\", \"non\", \"nos\", \"notre\", \"nôtre\",\n",
    "       \"où\", \"ou\", \"outre\",\n",
    "       \"parmi\", \"pas\", \"pendant\", \"peu\", \"peut\", \"plus\",\n",
    "       \"quel\", \"quelle\", \"quelles\", \"quels\", \"quelques\",\n",
    "       \"sans\", \"sauf\", \"se\", \"selon\", \"ses\", \"sous\", \"sur\",\n",
    "       \"tel\", \"telle\", \"tels\", \"telles\", \"tien\", \"tienne\", \"tous\", \"tout\", \"toute\", \"toutes\", \"très\", \"trois\",\n",
    "       \"une\", \"un\",\n",
    "       \"van\", \"vers\",\"vos\", \"vôtre\", \"vôtres\"]\n",
    "sw = set(sw)"
   ]
  },
  {
   "cell_type": "code",
   "execution_count": null,
   "metadata": {},
   "outputs": [
    {
     "name": "stdout",
     "output_type": "stream",
     "text": [
      "256 stopwords:\n",
      " ['afin', 'ai', 'aie', 'aient', 'aies', 'ainsi', 'ait', 'allaient', 'après', 'as', 'au', 'auquel', 'aura', 'aurai', 'auraient', 'aurais', 'aurait', 'auras', 'aurez', 'auriez', 'aurions', 'aurons', 'auront', 'aussi', 'aux', 'auxquelles', 'auxquels', 'avaient', 'avais', 'avait', 'avec', 'avez', 'aviez', 'avions', 'avoir', 'avons', 'ayant', 'ayante', 'ayantes', 'ayants', 'ayez', 'ayons', 'bien', 'c', 'ce', 'ceci', 'cela', 'celle', 'celle-ci', 'celle-là', 'celui', 'celui-ci', 'celui-là', 'cependant', 'ces', 'cet', 'cette', 'ceux', 'ceux-là', 'ceux-çi', 'chacun', 'chaque', 'chez', 'comme', 'comment', 'contre', 'd', 'dans', 'de', 'delà', 'depuis', 'des', 'desquelles', 'desquels', 'dire', 'dit', 'doit', 'donc', 'dont', 'du', 'duquel', 'durant', 'dès', 'elle', 'en', 'encore', 'entre', 'environ', 'es', 'est', 'et', 'etc', 'eu', 'eue', 'eues', 'eurent', 'eus', 'eusse', 'eussent', 'eusses', 'eussiez', 'eussions', 'eut', 'eux', 'eûmes', 'eût', 'eûtes', 'faire', 'fait', 'faut', 'feront', 'font', 'furent', 'fus', 'fusse', 'fussent', 'fusses', 'fussiez', 'fussions', 'fut', 'fûmes', 'fût', 'fûtes', 'het', 'il', 'ils', 'j', 'je', 'jusqu', 'jusque', 'l', 'la', 'laquelle', 'le', 'lequel', 'les', 'lesquelles', 'lesquels', 'leur', 'leurs', 'lorsque', 'lui', 'là', 'm', 'ma', 'mais', 'malgré', 'me', 'mes', 'mien', 'miennes', 'moi', 'moins', 'mon', 'même', 'n', 'ne', 'non', 'nos', 'notre', 'nous', 'néanmoins', 'nôtre', 'on', 'ont', 'ou', 'outre', 'où', 'par', 'parmi', 'pas', 'pendant', 'peut', 'plus', 'pour', 'qu', 'que', 'quel', 'quelle', 'quelles', 'quels', 'qui', 's', 'sa', 'sans', 'sauf', 'se', 'selon', 'sera', 'serai', 'seraient', 'serais', 'serait', 'seras', 'serez', 'seriez', 'serions', 'serons', 'seront', 'ses', 'soient', 'sois', 'soit', 'sommes', 'son', 'sont', 'sous', 'soyez', 'soyons', 'suis', 'sur', 't', 'ta', 'te', 'tel', 'telle', 'telles', 'tels', 'tes', 'tien', 'tienne', 'toi', 'ton', 'tous', 'tout', 'toute', 'toutes', 'trois', 'tu', 'un', 'une', 'van', 'vers', 'vos', 'votre', 'vous', 'vôtre', 'vôtres', 'y', 'à', 'ça', 'étaient', 'étais', 'était', 'étant', 'étante', 'étantes', 'étants', 'étiez', 'étions', 'été', 'étée', 'étées', 'étés', 'êtes', 'être']\n"
     ]
    }
   ],
   "source": [
    "#get the sw list\n",
    "print(f\"{len(sw)} stopwords:\\n {sorted(sw)}\")\n"
   ]
  },
  {
   "attachments": {},
   "cell_type": "markdown",
   "metadata": {},
   "source": [
    "TOKENISATION"
   ]
  },
  {
   "cell_type": "code",
   "execution_count": 210,
   "metadata": {},
   "outputs": [],
   "source": [
    "#get file's content\n",
    "path = \"../tp4/all/all.txt\"\n",
    "\n",
    "with open(path) as f:\n",
    "    text = f.read()"
   ]
  },
  {
   "cell_type": "code",
   "execution_count": 211,
   "metadata": {},
   "outputs": [
    {
     "name": "stdout",
     "output_type": "stream",
     "text": [
      "14194332 words found\n"
     ]
    }
   ],
   "source": [
    "#tokenization\n",
    "words = nltk.wordpunct_tokenize(text)\n",
    "print(f\"{len(words)} words found\")"
   ]
  },
  {
   "attachments": {},
   "cell_type": "markdown",
   "metadata": {},
   "source": [
    "GET NUMBER OF DIFFERENT TERMS (VOCABULARY)"
   ]
  },
  {
   "cell_type": "code",
   "execution_count": 212,
   "metadata": {},
   "outputs": [
    {
     "name": "stdout",
     "output_type": "stream",
     "text": [
      "5028877 words kept\n",
      " > 457819 different word forms\n"
     ]
    }
   ],
   "source": [
    "#GETTING RID OF SW & NON-ALPHABETICAL TERMS\n",
    "kept = [w.lower() for w in words if len(w) > 2 and w.isalpha() and w.lower() not in sw]\n",
    "voc = set(kept)\n",
    "print(f\"{len(kept)} words kept\")\n",
    "print(f\" > {len(voc)} different word forms\")"
   ]
  },
  {
   "attachments": {},
   "cell_type": "markdown",
   "metadata": {},
   "source": [
    "STATISTICS ON WORDS: MOST FREQUENT/ HAPAX/ LONGEST"
   ]
  },
  {
   "cell_type": "code",
   "execution_count": 213,
   "metadata": {},
   "outputs": [
    {
     "data": {
      "text/plain": [
       "[('deux', 15829),\n",
       " ('rue', 14199),\n",
       " ('ans', 10303),\n",
       " ('bruxelles', 10094),\n",
       " ('très', 9283),\n",
       " ('grand', 8534),\n",
       " ('heures', 8496),\n",
       " ('peu', 7787),\n",
       " ('prix', 7666),\n",
       " ('temps', 7563),\n",
       " ('autre', 7471),\n",
       " ('jour', 7184),\n",
       " ('pays', 7017),\n",
       " ('autres', 7004),\n",
       " ('quelques', 6654),\n",
       " ('terre', 6576),\n",
       " ('cours', 6472),\n",
       " ('grande', 6454),\n",
       " ('paris', 6270),\n",
       " ('lieu', 6082),\n",
       " ('soir', 6076),\n",
       " ('lune', 6075),\n",
       " ('mois', 6032),\n",
       " ('belgique', 5993),\n",
       " ('premier', 5517),\n",
       " ('avant', 5499),\n",
       " ('jours', 5412),\n",
       " ('francs', 5313),\n",
       " ('vie', 5264),\n",
       " ('point', 5245)]"
      ]
     },
     "execution_count": 213,
     "metadata": {},
     "output_type": "execute_result"
    }
   ],
   "source": [
    "#get most frequent words\n",
    "fdist = nltk.FreqDist(kept)\n",
    "fdist.most_common(30)"
   ]
  },
  {
   "cell_type": "code",
   "execution_count": 214,
   "metadata": {},
   "outputs": [
    {
     "data": {
      "text/plain": [
       "['mmlll',\n",
       " 'tmtmw',\n",
       " 'wiiot',\n",
       " 'ttiipiffi',\n",
       " 'vnsoelea',\n",
       " 'tooêpbé',\n",
       " 'rlérido',\n",
       " 'totée',\n",
       " 'iioii',\n",
       " 'ôbro',\n",
       " 'prévaricateur',\n",
       " 'démasquée',\n",
       " 'tohéha',\n",
       " 'ausso',\n",
       " 'révooation',\n",
       " 'judieaires',\n",
       " 'malheurcaix',\n",
       " 'sorvile',\n",
       " 'concussionnaire',\n",
       " 'dénonceront',\n",
       " 'jrstico',\n",
       " 'aooompojraé',\n",
       " 'dtsconto',\n",
       " 'appmséa',\n",
       " 'pinances',\n",
       " 'commtri',\n",
       " 'qjé',\n",
       " 'eauso',\n",
       " 'ristournés',\n",
       " 'toumo']"
      ]
     },
     "execution_count": 214,
     "metadata": {},
     "output_type": "execute_result"
    }
   ],
   "source": [
    "#get hapax\n",
    "fdist.hapaxes()[:30]"
   ]
  },
  {
   "cell_type": "code",
   "execution_count": 215,
   "metadata": {},
   "outputs": [
    {
     "data": {
      "text/plain": [
       "['iiiiiiiiiiiiiiiiiiiiiiiiiiiiiiiiiiiiiiiiiiiiiiiiiiiiiiiiiiiiiiiiiiiiiiiiiiiiiiiiiiiiiiiiiiiiiiiiiiiuiiiiiiiiiiiiiiiiiiiiiiiiiiiiiiiiiiiiiiiiiiiiiiiiiiiiiiiiiiiiiililiiiiiiiiiiiiiiiiiiiiii',\n",
       " 'lllllllllllllllllllllllilillllllllllllllllllllllllillllllilllllllllllllllllllllllllllllllllllllllllllllllllllllllllllllllllllllllllllilllllllllllllllllllllllllllllllllllllm',\n",
       " 'llllllülilllllllllllllllllllllllllllllllllllllllllllllilllllllilllllllllllllllllllllllllllllllllllllllllllllllllllllllllllllllllllllllllllllllllulllllllllllllllllllllllllli',\n",
       " 'lllllllllllllllllillllllllllllllllllllllmiiiiiiiiiiiiiiiiiiiiiiiiiiiiiiiiiiiiiiiimiiiiiiiiiiiiiiiiiiiiiiiiiiiiiiiiiiiiiiiiiiiiiiiiiiiiimiiiiiiiiiiiiiiiiiiiii',\n",
       " 'illlllllllllllllilllillllltlllltllllllllllllllllllellllllllllllllllllllllelllllllllllllltllllllllltilltllllllllllllllllllllllllllllllllllllllllllllllllllll',\n",
       " 'iiiiiiiiiiiiiiiiiiiiiiiiiiiiiiiiiiiiiiiiiiiiiiiiiiiiiiiiiiiiiiiiiimiiiiiimiiiiiiiiiiiiiiiiiiiiiiiiiiiiiiiiiiiiiiiiiiiiiiiiiiiiiiiiiiiiiiiiiiiiiiiiiiiiiiii',\n",
       " 'iiiimiiiiiiiiiiiiiiiiiiiiiiiiiiiiiiiiiiiiiiiiiiiiiiiiiiiiiiiiimiiiiiiiiiiiiiimiiiiiiiiiiiiiiiiiiiiiiiiiiiiiiiiiiiiiiiiiiiiiiiiiiiiiiiiimiiiiiiiiiiiiii',\n",
       " 'iniiuiiiiiiiiiiiiiiiiiiiiiiiiiiiiiiminiiiiiiimmmiiiiiaiiiiiiiiiifitiiifiiimiiiiiiiiiiiiiiiiifiiiiiiiiiiiiiiiiiiiiiiiiiiiniiiiiiiiiiiiiiiiiiiiiiimiiiit',\n",
       " 'ililllllmiiiimiiitlillllmiiimiiiiiiiiiiiiiiiiiiiiiiimiilllllllllllllllllllllllllllinillllllllllllllllllllllllllllllllllllllmlllllllllitll',\n",
       " 'iiiuiiuiimiiiiiiliuiilliuilliuuiiiiuhiuuiiiiiimiiililmiiiïiiiiilillitullllililhillllmiiimibiiiliulliiuulhililililllill',\n",
       " 'imimimiiimitiiiniiiiirinniitiiifiihnnniiiiiwttiimmtinîinnnniiimniihnnniriinimiiruiiufniiiuiininnmimnmiiiiniiiuiinmiini',\n",
       " 'iiiiiiinnimiiiniiiiiiiiiiiiiimiiiiiiiiiiiiimiiiiiiiiiiiiiiiniiimiiiiiiiiiiiiiiiiiiiiiiiiiiiiiiiiiiiiiiiiiiiiiiiiiiimi',\n",
       " 'iiiiitiiiiiiiiiiiiiiiitiiiiimiiiiiiiiiiiiiiiiiiiiiiirtiiiiiiiiiiiiiiiiiiiiiiiiiiiitiiiiiiiiitiiifiiiiiiiiiritiiiiit',\n",
       " 'iiiiiiiuiiiiiiiiiiiiiiiiiiiiiiiiiiiiiiiiiiiiiiiiiiiiiiiiiiiiiiiiiiiiiiiiiiiiiiiiiiiiiiiiiiiiiiiiiiiiiiiiiiiiiiiim',\n",
       " 'iiiiiiiiiiitiiiiiiiiiittiiiiiiiiiiiiiiiiiiiiiiimniiiiniiiiiiiiimiiniiiininiiiiiinininnnnniinniiniiiinfiniiin',\n",
       " 'uimiiiiiiiiniiiiiiiiiiiihiiiiiiiniiiiiiiiiiiiiiiiiiiifiiiiiiiiiiiiiiitihiiniifliiiifiiiiiiiiiiiiiiiiiiiiiii',\n",
       " 'iiiiiiiiijiiiiitiiiriiiiiiiiiiiiiiiiiiiiiiiiiiiiiiiittiiiiiiiiiiiiiiiiiiiiiiifiiiiiiiiiiiiiiiiiiiiiiniiiît',\n",
       " 'imiiiiiiiiiiiiiiiiiiiiiiiiiiiiiiiiiiiiiiiiiiiiiiiiiiiiiiiiiiiiiiiiiiiiiiiiiiiiiiihiiiiiiiiiiiiiiiiiiiiiiii',\n",
       " 'iiiiiiiiiiiiiiiiiiiiiiiiiiiiiiiiihiiiiiiiiiiuiiiiiiiiiiiiiiiiiiiiiiiiiiiiiiiiiiiiiiiiiiiiiiiiiiimiiiiimiii',\n",
       " 'iiiiiiiiiiiiiiiiiiiiiiiiiiiiiiiiiiiiiiiiiiiiiiieiiiiiiriaiiiiiiiiiiiiiiiiiiiiiiiiiiiiriiittiiiiiiinujfiii',\n",
       " 'llllllllllllllllllllllllllllllllllllllllllllllllllllllllllllllllllllllllllllllllllllllllllllllltlllllllli',\n",
       " 'illllllllllllllllllllllllllltlllllllllllllllllllllllllllllllllllllllllllilllélllllllllllllllllllllillllil',\n",
       " 'iiiiiiiiiiiiiiiihiiiiiiiiiijiiiiiiiiiiiiiiiiiiiiiiiiiiiiiiiiiiiiiiiiiiiiiiiiiiiiiiiiiiiiiiiiiiiiiiiiiiii',\n",
       " 'illllllllllllllllllllllllllllllllllllllllllllllllllllllllllllllllllllllllllllllllllllllllllllllllllllll',\n",
       " 'tieiiiieiiiiiiiiiiiiiiiiiiiuiiiiiiiiiiiiiijiiiiiiiiiiiiiniiiïiiiffiimiiiihiiijiiiiiiiiiiiiniiifiiiiiiii',\n",
       " 'nmiiiiiiiiiiiiiiirffiiiiiiiiiiiiiiiiiiiitmiiiiiiiiiiiiiiiiiiminitfiiiiiiiiiiiiiiiiiiiiimiiiiiiiiiiiiin',\n",
       " 'rhiiiiiiiiiiiiiiiiiiiiiiiiiiiiiiiiiitimiiiiiiinifriffifiniiiiiiiiiiiiiiiiiiiiiiiiiiiiiiiiiiiiiiiiiiiii',\n",
       " 'laiiiiiiiiiiiiiiiiiiiiiiiiiiimiiiiiiiiiiiiiiiiiiiiiiiiiiiiiiiiiiiiiiniiiiiiiiiiiiiiiinimiiiiniiiiiiiii',\n",
       " 'iiiiiiiiiiiiiiiiiiiiiiiiiiiiiiiiiiiiuiiiiimiiiiiiiiiiiiiuiiiiilllllllllmlililuiiiiiiililllllmlllllllll',\n",
       " 'iiiiiiiiiiiiiiiiiiiiiiiiiiiiiiiiiiiiiiiiiiiiiiiiiiiiiiiiiiiiiiiiiiiiiiiiiiiiiiiiiiiiiiiiiiiiiiiiiiiin',\n",
       " 'iiiiiiiiiiiiiiiiiiiiiihiiiiiiiiiiiiiiiiiiiiiiiiiiinimiiiiiiiiiiiiiiiiiiiiiiiiiiiiiiiiiiieiiiiiiiiiiin',\n",
       " 'uijiilillllllllllllilllllllllllllllljllllllllllllilllllnuinlillicbiinillllllllillllliciljlilllililluu',\n",
       " 'iiiiiiiiiiiiiiiiiiiiiiiiiiiiilllllllllllllllllllllllllllllllllllllllllllllllhililllllllllllullllllll',\n",
       " 'nïïïïiiiiniiiiiiiiiiiiiiiiihimiiiiiiiiiiiiimiiiiiiihiiiiiiiiiiiiiiiiiiiiimiiiiiiiiiiiiiiiiniiiiiiiii',\n",
       " 'iiiiiihiiiiiiiiiiiiiuiiiiiiiiiiiiiiiiiiiiiiilillmiiiiiiiiiiiiiiiiiiiitlilllinilllllllllllllllllllli',\n",
       " 'iiiiiiiiiiiiiiiiiiiiiiiiiiiiiiiiiiitiiiiimiiiiiiiuiiiiiiimiiiiitiiiiimiiiiimiiiiiiiiiiiitiiiiiim',\n",
       " 'miiimiiilirrflllllhillllllllilllmiiiihiiiiiilllllinirillllllihiiillllhiiuiiiiiiiiitlihiiihihlilt',\n",
       " 'niiiiihiiiriiiiiiiiiiiiiiiiiiiiiiiiiiiiiiiiiiiiiiiiiiiiiiniiiiiiiiiiiiiiiiiiiiiiiiiiiiiiiiiiii',\n",
       " 'uvvwvvvwvvvwwvvvvwwvvwvvvwvvvvvvvwwvwwwwvwwwwwwwvwwwwvvvvvvwvvvwwwwvvvvwwvvwwvwwvwvvwvwvwvvw',\n",
       " 'llulumiiiiiiiiiillulilillulullllmiihimlllillimillllhiiiiinillmlllinimlllllllllllllllllliiiii',\n",
       " 'nmmuhiiiiiiiiiiiiiiiiiihiimiiiiuiiiiiiiiitiiiiiiiiniiiiiiiiiihiiiiihihiiuiihiiiiiiiiiiiiiiii',\n",
       " 'niiniiiilniniiiiniiiniiiitiiiitiihiiiniitiniiiiiilniiiifmiiiniiiniiliilmiiniiiiîiiiiiiiiiiii',\n",
       " 'tiiimluiktiiaillllkiillllllulllifllllllllllllllniiiiiiiiiiiiiiiiiiiiiiihiiiiiiiiiiiiiiihl',\n",
       " 'iiiiiiiiiiiiiiiiiiiiiiiiiiiiiihiiiiiiiiiiiiiiiiiiiiiiiiiiiimiiiiiiiiiiiiiiiiiiiiiiiiiiii',\n",
       " 'llllllllllilllllllllllllllllillllllllllllllllllllillllllllllllllllllllllllllllllllllllll',\n",
       " 'iiiiiiiiiiiiiiiniiiitiniiiiiiiimimiiiiiiiiihiiniiimithiiiiiimmiiiiimiimimiiiiiiiiiiiiiim',\n",
       " 'mniiiilllkllllllllimilllllhiiuhiiiiiiuiiiinilhiiitliiiihiiiiihiiiuiiiiiiiiiiiiiiiiiiiij',\n",
       " 'lillllllllllllllllmlllllllllinillllllllillllllllllinilllllllllllllllllllllllllllllnii',\n",
       " 'iiiiiiiiiiiitiiiiiiiiiiiiiiiiiminiiiiiiiiiiiiiiiiiiiiiiiiiiiiiiiiiiiiiiiiniiiiiiiiin',\n",
       " 'hihiiiiiiiiihiimiiiiiihiiiiiiihllimimiiiiiiiliiïiiiiiiiiiiiiiiimiihiuiiiiiiiiiiiiiu']"
      ]
     },
     "execution_count": 215,
     "metadata": {},
     "output_type": "execute_result"
    }
   ],
   "source": [
    "#get longest words\n",
    "n = 50\n",
    "sorted(voc, key=len, reverse=True)[:n]"
   ]
  },
  {
   "attachments": {},
   "cell_type": "markdown",
   "metadata": {},
   "source": [
    "EXTRACTING KW: INSTANTIATION/ LISTING FILES"
   ]
  },
  {
   "cell_type": "code",
   "execution_count": 217,
   "metadata": {},
   "outputs": [
    {
     "data": {
      "text/plain": [
       "<yake.yake.KeywordExtractor at 0x28c054610>"
      ]
     },
     "execution_count": 217,
     "metadata": {},
     "output_type": "execute_result"
    }
   ],
   "source": [
    "#instantiate the kw extractor\n",
    "kw_extractor = yake.KeywordExtractor(lan=\"fr\", top=50)\n",
    "kw_extractor"
   ]
  },
  {
   "cell_type": "code",
   "execution_count": 218,
   "metadata": {},
   "outputs": [
    {
     "name": "stdout",
     "output_type": "stream",
     "text": [
      "Anomalous file: .DS_Store\n"
     ]
    }
   ],
   "source": [
    "#listing files\n",
    "data_path = \"../tp4/datas\"\n",
    "files = os.listdir(data_path)\n",
    "\n",
    "for fileName in files:\n",
    "    if fileName.endswith(\"DS_Store\"):\n",
    "        print(f\"Anomalous file: {fileName}\")"
   ]
  },
  {
   "cell_type": "code",
   "execution_count": 219,
   "metadata": {},
   "outputs": [
    {
     "data": {
      "text/plain": [
       "1632"
      ]
     },
     "execution_count": 219,
     "metadata": {},
     "output_type": "execute_result"
    }
   ],
   "source": [
    "#print nbr of identified files\n",
    "len(files)"
   ]
  },
  {
   "attachments": {},
   "cell_type": "markdown",
   "metadata": {},
   "source": [
    "EXTRACTING KW ON ONE FILE"
   ]
  },
  {
   "cell_type": "code",
   "execution_count": 220,
   "metadata": {},
   "outputs": [
    {
     "data": {
      "text/plain": [
       "'KB_JB838_1950-03-20_01-00004.txt'"
      ]
     },
     "execution_count": 220,
     "metadata": {},
     "output_type": "execute_result"
    }
   ],
   "source": [
    "#choosing a file\n",
    "this_file = files[1]\n",
    "this_file"
   ]
  },
  {
   "cell_type": "code",
   "execution_count": 221,
   "metadata": {},
   "outputs": [
    {
     "data": {
      "text/plain": [
       "'4 LE sçm LUNDI 20 MARS 1950 LA VIE DANS LE PA YS ANVERS Départ vers le Congo Le navire « Mar del Plata » quittera le port à destination de Matadi mardi 21 mars. L’embarquement des passagers aura Heu au n* 214 des bassins, à 15 heures et non à 8 h. 30. BRUGES C A la mémoire de Joseph Muylle Une cérémonie s’est déroulée, dimanche midi, au Palais de justice, à la mémoire de l’ayoeat Muylle, major honoraire de réserve. On notait la présence du gouverneur van Outrvve d’Ydewalle, du général Duthoit, d'"
      ]
     },
     "execution_count": 221,
     "metadata": {},
     "output_type": "execute_result"
    }
   ],
   "source": [
    "#get file's text\n",
    "text = open(os.path.join(data_path,this_file), 'r').read()\n",
    "text[:500]"
   ]
  },
  {
   "cell_type": "code",
   "execution_count": 222,
   "metadata": {},
   "outputs": [
    {
     "data": {
      "text/plain": [
       "[('Mar del Plata', 0.003997819280971551),\n",
       " ('LUNE', 0.007893900101031439),\n",
       " ('van', 0.009437842886725632),\n",
       " ('rue', 0.010371541629592522),\n",
       " ('LUNE PASCALE', 0.013715105806637986),\n",
       " ('Liège', 0.014155788852577733),\n",
       " ('ville', 0.014173727633251285),\n",
       " ('Matadi mardi', 0.01544645664106835),\n",
       " ('del Plata', 0.015460008724239872),\n",
       " ('destination de Matadi', 0.01550091391909344),\n",
       " ('MARS', 0.016119358663679306),\n",
       " ('ans', 0.016756666358287042),\n",
       " ('dimanche', 0.019917217129695627),\n",
       " ('s’est', 0.021143242646999755),\n",
       " ('d’un', 0.02116334711897629),\n",
       " ('Van Ackere', 0.023852013942768664),\n",
       " ('président', 0.02472861331593629),\n",
       " ('Joseph Muylle', 0.025496665302728087),\n",
       " ('pleine lune', 0.02559775696108791),\n",
       " ('général', 0.025921783184571716),\n",
       " ('bourgmestre', 0.027260025036460293),\n",
       " ('travaux', 0.02743220408865043),\n",
       " ('cours', 0.02806259611719105),\n",
       " ('Samedi', 0.03019377951413388),\n",
       " ('Mgr Van Waeyenbergh', 0.03028109893869179),\n",
       " ('Dimanche matin', 0.034136365850407226),\n",
       " ('Samedi soir', 0.03427505742368419),\n",
       " ('gouverneur van Outrvve', 0.03526611032693503),\n",
       " ('d’une', 0.03598423439455847),\n",
       " ('TRAVAIL', 0.03689960611374412),\n",
       " ('directeur général', 0.03800137620931211),\n",
       " ('ANVERS Départ', 0.039179663317790304),\n",
       " ('Fernand Van Ackere', 0.03926503684980124),\n",
       " ('Van Gogh', 0.03948495710633016),\n",
       " ('l’Etat', 0.041180923143463465),\n",
       " ('C’est', 0.04120806562415823),\n",
       " ('fut', 0.0413097368239944),\n",
       " ('van Outrvve d’Ydewalle', 0.04478992628319486),\n",
       " ('rectorat Mgr Van', 0.0453576004211627),\n",
       " ('grande', 0.04567364268208865),\n",
       " ('confrère Joseph Muylle', 0.04578444727598789),\n",
       " ('LUNE PASCALE VOILEE', 0.04654342251893362),\n",
       " ('groupe', 0.047918497114410666),\n",
       " ('pleine lune pascale', 0.0480734217952872),\n",
       " ('feu', 0.04831839669768398),\n",
       " ('cours d’une', 0.049984211385275173),\n",
       " ('Mgr', 0.0503747569857597),\n",
       " ('pris', 0.05082399950761569),\n",
       " ('Mgr Van', 0.05096525944849409),\n",
       " ('police', 0.05163554890518636)]"
      ]
     },
     "execution_count": 222,
     "metadata": {},
     "output_type": "execute_result"
    }
   ],
   "source": [
    "#extracTing kw from this text\n",
    "keywords = kw_extractor.extract_keywords(text)\n",
    "keywords"
   ]
  },
  {
   "cell_type": "code",
   "execution_count": 223,
   "metadata": {},
   "outputs": [
    {
     "data": {
      "text/plain": [
       "['LUNE PASCALE',\n",
       " 'Matadi mardi',\n",
       " 'del Plata',\n",
       " 'Van Ackere',\n",
       " 'Joseph Muylle',\n",
       " 'pleine lune',\n",
       " 'Dimanche matin',\n",
       " 'Samedi soir',\n",
       " 'directeur général',\n",
       " 'ANVERS Départ',\n",
       " 'Van Gogh',\n",
       " 'cours d’une',\n",
       " 'Mgr Van']"
      ]
     },
     "execution_count": 223,
     "metadata": {},
     "output_type": "execute_result"
    }
   ],
   "source": [
    "#keeping the bi-grams only\n",
    "kept = []\n",
    "for kw, score in keywords:\n",
    "    words = kw.split()\n",
    "    if len(words) == 2:\n",
    "        kept.append(kw)\n",
    "kept"
   ]
  },
  {
   "attachments": {},
   "cell_type": "markdown",
   "metadata": {},
   "source": [
    "EXTRACTING KW FROM ALL FILES"
   ]
  },
  {
   "cell_type": "code",
   "execution_count": 224,
   "metadata": {},
   "outputs": [
    {
     "name": "stdout",
     "output_type": "stream",
     "text": [
      "KB_JB1051_1925-10-31_01-00002.txt\n",
      "KB_JB1051_1925-10-31_01-00002.txt mentions these keywords: Van Overstraeten, novembre Orateur, Directeur Général, vieux mineur, Tramways Liégeois, Camille Joset, charbon qu'il...\n",
      "KB_JB1051_1927-03-17_01-00004.txt\n",
      "KB_JB1051_1927-03-17_01-00004.txt mentions these keywords: local habituel, Louis Henrunit, BRUXELLES RAYON, mars Temps, Emile Marchand, nouveau local, parti communiste, Urne oolllision, mars STATION, MARS MONNAIE...\n",
      "KB_JB1051_1928-05-10_01-00004.txt\n",
      "KB_JB1051_1928-05-10_01-00004.txt mentions these keywords: DBAWÎATJ BOT, Jardin Zoologique, niser l'installation, Vie Politique, local habituel, habituel RAYON, grandes expéditions, Jeunesses Communistes, Communiste FEDERATION, Mouvement Ouvrier, Voie Lactée...\n",
      "KB_JB1051_1929-02-01_01-00004.txt\n",
      "KB_JB1051_1929-02-01_01-00004.txt mentions these keywords: Maurice Tourneur, Joseph Kessel, local habituel, réalisateur Maurice, heures précises, Cinématographique Européenne, ASSEMBLEE GENERALE, DRAPEAU ROUGE...\n",
      "KB_JB1051_1936-10-06_01-00004.txt\n",
      "KB_JB1051_1936-10-06_01-00004.txt mentions these keywords: PABLO PICASSO, dit Bill, espagnol PABLO, Picasso nature, nature Picasso, Iritable culture, avions hit, gai reste, pagne démocratique...\n",
      "KB_JB1051_1936-10-13_01-00004.txt\n",
      "KB_JB1051_1936-10-13_01-00004.txt mentions these keywords: GENIE POPULAIRE, organismes vivants, Peuple ARTS, nous nous, INNOCENTS Littérature, BTUN STRESUVSLS, vie primitives, choses inanimées, organisme vivant, matières inanimées, vieux loup, Sap fut...\n",
      "KB_JB1051_1939-07-01_01-00002.txt\n",
      "KB_JB1051_1939-07-01_01-00002.txt mentions these keywords: syndicats soviétiques, GAY VILLAGE, VILLAGE MOSAN, JUILLET HORNU, Grand Palais, ler juillet, grand bruit, d'un phénomène, JUILLET CONCERTS...\n",
      "KB_JB1051_1939-07-02_01-00006.txt\n",
      "KB_JB1051_1939-07-02_01-00006.txt mentions these keywords: Robert Fulton, pâturage nocturne, République Populaire, d'une atmosphère, Altan Boulak, prix moyen...\n",
      "KB_JB1051_1939-07-03_01-00006.txt\n",
      "KB_JB1051_1939-07-03_01-00006.txt mentions these keywords: Joe Louis, Grand Prix, Stade Français, Tony Galento, opposait Joe, Van Dyck, Van Vliet, Prix Cyclistes, Edmond Van, Max Schmeling, record belge, Van Beveren, VAN SIMAEYS, Galento tint, Rue Spintay, Lycée Français...\n",
      "KB_JB1051_1945-07-14_01-00004.txt\n",
      "KB_JB1051_1945-07-14_01-00004.txt mentions these keywords: Grande Révolution, Paris s'emparait, France emprisonnait, Léopoid III, Révolution fut, grandes compositions, d'un jour, grande mer, Révolution Améliorer, peuple fort...\n",
      "KB_JB1051_1945-10-06_01-00004.txt\n",
      "KB_JB1051_1945-10-06_01-00004.txt mentions these keywords: dit Tommy, Parti Communiste, parti dit, dit l'homme, petit garçon, Parti Com, professeur Bayet, DIT ALBERT, découvertes techniques, dit peuple...\n",
      "KB_JB1051_1945-12-19_01-00004.txt\n",
      "KB_JB1051_1945-12-19_01-00004.txt mentions these keywords: l'énergie atomique, Jeune Théâtre, bombe atomique, CONTROLE INTERNATIONAL, ATOMIQUE apporterait, physique atomique, cours d'une, professeur GEHENIAU, physique mathématique, ANS APRES, professeur Géhéniau, cône d'ombre...\n",
      "KB_JB1051_1946-05-08_01-00004.txt\n",
      "KB_JB1051_1946-05-08_01-00004.txt mentions these keywords: Derby County, Parti Communiste, Lune fut, GRAND PRIX, Terre n'était, Terre connut...\n",
      "KB_JB1051_1946-07-31_01-00001.txt\n",
      "KB_JB1051_1946-07-31_01-00001.txt mentions these keywords: Van Acker, Conseil Général, L'honorable sénateur, Bureau Politique, parti socialiste, Acker C'est, Conférence Nationale, d'un grand, Parti Communiste, NAZISME REGAGNE...\n",
      "KB_JB1051_1947-04-26_01-00005.txt\n",
      "KB_JB1051_1947-04-26_01-00005.txt mentions these keywords: petits commerçants, DROIT COMMUN, démocrates espagnols, petit commerce, détenus politiques, qu'il faut, régime franquiste, réparation intégrale, grands magasins, petits industriels...\n",
      "KB_JB1051_1948-03-23_01-00002.txt\n",
      "KB_JB1051_1948-03-23_01-00002.txt mentions these keywords: gouvernement belge, Comité National, Parti communiste, Comité exécutif, comité d'action, Syndicalistes unitaires, Bruxelles PEINES, Conférence nationale, parti populaire, Foreign Office...\n",
      "KB_JB1051_1948-04-29_01-00004.txt\n",
      "KB_JB1051_1948-04-29_01-00004.txt mentions these keywords: PECULE FAISONS, FAISONS ECHOUER, sir Arthur, double pécule, Bec d'Or, désagréables surprises, renommée versatile, sir Williams, l'an dernier, Arthur Collins, dit Rocambole...\n",
      "KB_JB1051_1948-05-20_01-00004.txt\n",
      "KB_JB1051_1948-05-20_01-00004.txt mentions these keywords: jeunes Belges, Jeune Tourisme, Mme Malassis, Fédération Sportive, Bec d'Or, Jeunesse Belges, jeunes ménages, jeunesse nesse, Jeunesse Française, cravates rouges, Jeunes amis, Collège démocratique...\n",
      "KB_JB1051_1948-08-05_01-00004.txt\n",
      "KB_JB1051_1948-08-05_01-00004.txt mentions these keywords: Jeunes travailleurs, jeune comte, nés EXIGEONS, dit Baccarat, jeunes mineurs, jeunes travail, jeunes communistes, JEUNESSE POLONAISE, jeune région, GIL GREEN, jeune Américain...\n",
      "KB_JB1051_1948-10-28_01-00004.txt\n",
      "KB_JB1051_1948-10-28_01-00004.txt mentions these keywords: Jeune Tourisme, jeunes travailleurs, sir Arthur, dit Andréa, Jeunesse Démocratique, dit sir, rue Neuve, dit Armand, Jeunes préparent...\n",
      "KB_JB1051_1949-09-02_01-00001.txt\n",
      "KB_JB1051_1949-09-02_01-00001.txt mentions these keywords: l'aide directe, plan Marshall, James Maugan, Bray S'EST, commerce extérieur, Libre Belgique, BELGIQUE FONDATEUR, baron Snoy...\n",
      "KB_JB1051_1950-11-24_01-00006.txt\n",
      "KB_JB1051_1950-11-24_01-00006.txt mentions these keywords: film américain, Willie Stark, vieil homme, JEUNE GARDE, Howard Vernon, films américains, Nicole Stéphane, Docteur Caligari, Anna Neagle, Glenn Ford...\n",
      "KB_JB1051_1953-08-05_01-00004.txt\n",
      "KB_JB1051_1953-08-05_01-00004.txt mentions these keywords: mètres cubes, Henri Mortin, Libérez Henri, affaire Henri, NICOLAS COPERNIC, PARMELIN Henri, Copernic Copernic, d'Henri Mortin, Henri Mar...\n",
      "KB_JB1051_1956-03-28_01-00004.txt\n",
      "KB_JB1051_1956-03-28_01-00004.txt mentions these keywords: Nation Belge, travail d'une, l'automatisation dons, guerre Atlantique, ment l'automatisation, C'est d'une...\n",
      "KB_JB1051_1956-07-12_01-00004.txt\n",
      "KB_JB1051_1956-07-12_01-00004.txt mentions these keywords: D'aunuiaUdUent afi, plue entendu, salaire horaire, faire conduire, vient d'être, Affaires économiques, afi s'est, sociétés privées, ment d'une, Sans faire, Instructions précises, Carmelo entrerait...\n",
      "KB_JB1051_1957-04-26_01-00003.txt\n",
      "KB_JB1051_1957-04-26_01-00003.txt mentions these keywords: Ginger Roger, David Niven, Tony Ran, coup tient, tient paa, gouvernement égyptien, Conseils d'ouvriers, Affaires étrangères, Suez oui, PROFESSEUR HAHN, STRONTIUM RADIOACTIF...\n",
      "KB_JB1051_1957-07-16_01-00004.txt\n",
      "KB_JB1051_1957-07-16_01-00004.txt mentions these keywords: d'une fusée, vol d'une, Bertha Lambermont, Van Laer, Carlo Ponti, fusée autour, Sophia Loren, Van Heel, d'une voiture...\n",
      "KB_JB1051_1957-08-30_01-00004.txt\n",
      "KB_JB1051_1957-08-30_01-00004.txt mentions these keywords: cjclTU voifc, GRIPPE ASIATIQUE, affaires Interplanétaires, Rajah Chandra, d'autres planètes, Interplanétaires précise, l'enseignement professionnel...\n",
      "KB_JB1051_1957-10-07_01-00006.txt\n",
      "KB_JB1051_1957-10-07_01-00006.txt mentions these keywords: Christophe Colomb, grotte mouche, mouche bourdonnante, GRAND PRIX, d'un con...\n",
      "KB_JB1051_1957-10-08_01-00003.txt\n",
      "KB_JB1051_1957-10-08_01-00003.txt mentions these keywords: Louis Saillant, ourra apotr, Louis Sail, peuple algérien...\n",
      "KB_JB1051_1957-10-09_01-00003.txt\n",
      "KB_JB1051_1957-10-09_01-00003.txt mentions these keywords: nous avons, Parti communiste, dit Khrouchtchev, nous sommes, nous nous, déclaré hier, d'autre part, ajouté Khrouchtchev, d'un satellite...\n",
      "KB_JB1051_1957-12-06_01-00001.txt\n",
      "KB_JB1051_1957-12-06_01-00001.txt mentions these keywords: Affaires étrangères, PARTI COMMUNISTE, communiste algérien, Conférences catholiques, Grandes Conférences, algérien Parti, gouvernement français, camarade Spaak, René Noël...\n",
      "KB_JB1051_1958-01-04_01-00004.txt\n",
      "KB_JB1051_1958-01-04_01-00004.txt mentions these keywords: fulre écharper, cartes postales, Van Puyvelde, sir Edmund, DRAPEAU ROUGE, cartes illustrées, lune d'une, Radio Moscou, Meilleurs vœux, Vahnée précédente, Robert Campin...\n",
      "KB_JB1051_1958-02-04_01-00001.txt\n",
      "KB_JB1051_1958-02-04_01-00001.txt mentions these keywords: von Braun, Imre Horvath, Ernst Heinkel, satellite américain, von Braua, communiste Pierre, Heinkel qu'il, Heinkel fut, Etats Unis, d'un rapport, candidat communiste, Affaires étrangères, d'un satellite...\n",
      "KB_JB1051_1958-05-20_01-00004.txt\n",
      "KB_JB1051_1958-05-20_01-00004.txt mentions these keywords: Marché commun, Cha.sez C'est, conditions sociales, Morché com, seul Spoutnik...\n",
      "KB_JB1051_1958-11-25_01-00004.txt\n",
      "KB_JB1051_1958-11-25_01-00004.txt mentions these keywords: Nicolas Emmanuel, Congo belge, partis belges, professeur Emmanuel, professeur Nicolas, Générale Belge, Belge d'Electricité, Lana Iptchina, Sociétés Réunies, Compagnie Générale, Centrales Electriques, Société Générale, Compagnie belge, grands trusts...\n",
      "KB_JB1051_1959-01-08_01-00004.txt\n",
      "KB_JB1051_1959-01-08_01-00004.txt mentions these keywords: vitesse cosmique, travaux pratiques, Henri Duiieu, c'est dons, Van Houtte, d'une Forest, l'enseignement secondaire, République fédérale, voies nouvelles...\n",
      "KB_JB1051_1959-01-21_01-00004.txt\n",
      "KB_JB1051_1959-01-21_01-00004.txt mentions these keywords: uul polielur, qu'il faut, qu'il n'est, d'un uul, peuple congolais, qu'ils soient, faut qu'ils, ment qu'il...\n",
      "KB_JB1051_1959-09-16_01-00004.txt\n",
      "KB_JB1051_1959-09-16_01-00004.txt mentions these keywords: Fédération nationale, SELWYN LLOYD, associations patriotiques, fusée soviétique, fusée lunaire, MAISONS NEUVES, Comité national, petits villages, l'Union soviétique...\n",
      "KB_JB1051_1959-09-22_01-00004.txt\n",
      "KB_JB1051_1959-09-22_01-00004.txt mentions these keywords: politique scientifique, libre Belgique, service national, Conseil national, d'un tion, création d'un, plan économique...\n",
      "KB_JB1051_1959-10-06_01-00004.txt\n",
      "KB_JB1051_1959-10-06_01-00004.txt mentions these keywords: station automatique, fusée cosmique, d'une fusée, n'est pos, wliu menacés, derniers jours, dernier étage, d'une station, lancement d'une...\n",
      "KB_JB1051_1959-10-30_01-00004.txt\n",
      "KB_JB1051_1959-10-30_01-00004.txt mentions these keywords: fui erie, von Papen, l'espace cosmique, D'un côté, Marcel Grégoire, ondes radio, Lune ment, Communication radio, nels français...\n",
      "KB_JB1051_1960-01-11_01-00004.txt\n",
      "KB_JB1051_1960-01-11_01-00004.txt mentions these keywords: d'un professeur, Khrouchtchev qu'il, défense nationale, KHROUCHTCHEV Mais, Libre Belgique...\n",
      "KB_JB1051_1960-01-18_01-00004.txt\n",
      "KB_JB1051_1960-01-18_01-00004.txt mentions these keywords: Radio Europe, Europe libre, Mars nous, décembre damier, nous savons, Comité central, soviétique nous, décision soviétique...\n",
      "KB_JB1051_1960-07-14_01-00002.txt\n",
      "KB_JB1051_1960-07-14_01-00002.txt mentions these keywords: VIRTUEL VAINQUEUR, Van Beneden, TROISIEME VICTOIRE, DEUXIEME PLACE, Bruxelles français, Quai Van, Bruxelles grand, grands orchestres, Théâtre royal, deoe rétape, Van Aerde...\n",
      "KB_JB1051_1961-05-01_01-00006.txt\n",
      "KB_JB1051_1961-05-01_01-00006.txt mentions these keywords: ricaln qui., satellite lunaire, promior mai, loi unique, Jules Verne, Youri Gagarine, congrès dos, dos Eloit-V, SATELLITES IMMOBILES, lune pourrait, dos SynéW, fédérés dos, lunaire mais...\n",
      "KB_JB1051_1961-08-14_01-00004.txt\n",
      "KB_JB1051_1961-08-14_01-00004.txt mentions these keywords: Marché Commun, ministre Gbenye, Marché pays, Allemagne occidentale, Congo central, pays africains, solide référence, d'un Marché...\n",
      "KB_JB1051_1961-08-21_01-00001.txt\n",
      "KB_JB1051_1961-08-21_01-00001.txt mentions these keywords: COLONIALISME PARTIE, Parti communiste, Berlin Berlin, Willy Brandt, l'ignorance ulatioa, ulatioa urbaine, Berlin Maurage, SOLDATS AMÉRICAINS, Berlin compte...\n",
      "KB_JB1051_1961-08-22_01-00001.txt\n",
      "KB_JB1051_1961-08-22_01-00001.txt mentions these keywords: Youri Gagarine, gouvernement belge, udi soir, rie chauffeur, New York, l'ai pris, Parti Com, major Gagarine, D'UN RÈGLEMENT, firme allemande, RÈGLEMENT PACIFIQUE, PARTI COMMUNISTE, bases allemandes...\n",
      "KB_JB1051_1966-01-07_01-00006.txt\n",
      "KB_JB1051_1966-01-07_01-00006.txt mentions these keywords: Générale eÙe, Colpin constaté, Carbochimique fut, fut créée, Société Carbochimique, nouvelle usine, comité exécutif, l'orbite d'Icare, d'une société, d'une nouvelle, principaux charbonnages, JEAN LURÇAT...\n",
      "KB_JB1051_1966-02-12_01-00020.txt\n",
      "KB_JB1051_1966-02-12_01-00020.txt mentions these keywords: station lunaire, oreille arrivant, propos comn, rendu graphique, commentateur cherchent, problèmes posés, pose doucement, lunaire automatique, station SLA, d'un système, automatique SLA, stations lunaires, d'un homme, èAwins Maintenant, station automatique, système radio...\n",
      "KB_JB1051_1966-03-02_01-00001.txt\n",
      "KB_JB1051_1966-03-02_01-00001.txt mentions these keywords: Joseph Jacquemotte, Jacquemotte Quotidien, planète Vénus, atteint Vénus, L'agence Tass, Vénus qu'elle, Paul Struye, tion spatiale...\n",
      "KB_JB1051_1966-03-08_01-00002.txt\n",
      "KB_JB1051_1966-03-08_01-00002.txt mentions these keywords: octiofl mmitmk, MAJtf comité, iflr êtm, Madame Vllliers, lundi matin, Alors Qu'il, MARS MODAVZ, Ena Mardi, bloc spécial, MARS VtMDRKM, Télévision scolaire...\n",
      "KB_JB1051_1966-03-16_01-00002.txt\n",
      "KB_JB1051_1966-03-16_01-00002.txt mentions these keywords: MEETINGS MltCRIOl, Ena Ena, MARS qWUUSQHOH, Mirage Ena, MARS WABŒS, MARS BRUXELLES, Elder Ena, dit Elder, Jour Ena, MARS ARLOH, Monsieur Lindner, MARS VRRVIRRS, Ena Movy...\n",
      "KB_JB1051_1966-04-05_01-00001.txt\n",
      "KB_JB1051_1966-04-05_01-00001.txt mentions these keywords: ERIC AIN, Parti communiste, Comité central, Saigon Saigon, trouvés côt, posit ations, d'une politique, général Nguyen, Qyj its, Belgique fondé...\n",
      "KB_JB1051_1966-05-04_01-00006.txt\n",
      "KB_JB1051_1966-05-04_01-00006.txt mentions these keywords: Indications Intéressantes, molntes critiques, firmes étrangères, l'Industrie pfifrmeceutique, l'industrie pharmaceutique, firmes existantes, grand nombre, firmes pharmaceutiques, produits pharmaceutiques...\n",
      "KB_JB1051_1966-08-25_01-00001.txt\n",
      "KB_JB1051_1966-08-25_01-00001.txt mentions these keywords: général Panitxki, coûts salariaux, général Werner, DEAN RUSK, Heinz Trettner, général Trettner, général Heinz, Allemagne fédérale, von Hassel, général Gunther, Allemagne occidentale, Horolt HerclJ...\n",
      "KB_JB1051_1966-08-31_01-00002.txt\n",
      "KB_JB1051_1966-08-31_01-00002.txt mentions these keywords: Blagonravov Moscou, Anatole Blagonravov, Jodlêll Bllllr, L'engin continuera, professeur Blagonravov, l'académicien Heu, Interview accordée, d'entreprendre Jodlêll, Lunar Orbiter, l'espace cosmique, continuera tilde, James Bond, Van der, série d'expérlen, almplas vkltmm, pra globe, clichés emmagasinés...\n",
      "KB_JB421_1905-10-09_01-00002.txt\n",
      "KB_JB421_1905-10-09_01-00002.txt mentions these keywords: Patrie belge, majestueuse splendeur, place Poelaert, grand homme, belge apparut, homme grand, Planète Mars, septante fois, Andes Péruviennes...\n",
      "KB_JB421_1909-09-20_01-00001.txt\n",
      "KB_JB421_1909-09-20_01-00001.txt mentions these keywords: planète Mars, Garde champêtre, d'un soleil, Grand Duché, grand séminaire, Dieu n'est, c'est précisément...\n",
      "KB_JB421_1909-10-21_01-00002.txt\n",
      "KB_JB421_1909-10-21_01-00002.txt mentions these keywords: général commandant, von Haeseler, dit Paulette...\n",
      "KB_JB421_1910-05-27_01-00001.txt\n",
      "KB_JB421_1910-05-27_01-00001.txt mentions these keywords: petite ligne, page petite, qu'il faut, comètes c'est, mai dernier...\n",
      "KB_JB421_1910-12-28_01-00002.txt\n",
      "KB_JB421_1910-12-28_01-00002.txt mentions these keywords: Ets fin, prince Max, l'infortuné armateur, qu'il nous, colonel Bailloud, Sainte Vierge, nous savons, dit qu'il, nous dit...\n",
      "KB_JB421_1913-03-08_01-00002.txt\n",
      "KB_JB421_1913-03-08_01-00002.txt mentions these keywords: l'abbé Moreux, Maison Orban, grand gala, d'une société...\n",
      "KB_JB421_1921-05-26_01-00001.txt\n",
      "KB_JB421_1921-05-26_01-00001.txt mentions these keywords: champ d'honneur, Nicolas Lespagnard, président Lefèvre...\n",
      "KB_JB421_1924-08-24_01-00005.txt\n",
      "KB_JB421_1924-08-24_01-00005.txt mentions these keywords: Planète Mars, MOREUX Directeur, nar l'ahhé, d'un grand, GRAND CHOIX, globe mar, canaux n'existent...\n",
      "KB_JB421_1933-07-30_01-00001.txt\n",
      "KB_JB421_1933-07-30_01-00001.txt mentions these keywords: d'une carrière, Montauban Montauban, Hongrie considère, Petite Rosalie, André Citroën...\n",
      "KB_JB421_1933-08-09_01-00002.txt\n",
      "KB_JB421_1933-08-09_01-00002.txt mentions these keywords: président Machado, travailleurs chrétiens, Pierre Guzman, fondation remonte, prix destinée, Monsieur l'abbé, l'abbé Farnir, dimanche dernier, Reich qu'il...\n",
      "KB_JB421_1935-03-21_01-00002.txt\n",
      "KB_JB421_1935-03-21_01-00002.txt mentions these keywords: colonel CHARDOME, Vieux Bruxelles, Georges Claude, ECHOS L'énergie, Ritter Ciampi, mars qu'il, chasseurs ardennais, HEURES D'OUVERTURE, C'est d'ailleurs...\n",
      "KB_JB421_1936-04-05_01-00002.txt\n",
      "KB_JB421_1936-04-05_01-00002.txt mentions these keywords: Père Damien, ECHOS Permis, Travaux publics, permis dominicaux, chasse 1935-1936, ministres catholiques, quarante-quatre licences...\n",
      "KB_JB421_1937-12-09_01-00003.txt\n",
      "KB_JB421_1937-12-09_01-00003.txt mentions these keywords: Chambre s'est, Légion d'honneur, CLASSES MOYENNES, van Zeeland, ancien ministre, rapporteur réclame, CHAMBRE Réunion...\n",
      "KB_JB421_1945-11-17_01-00004.txt\n",
      "KB_JB421_1945-11-17_01-00004.txt mentions these keywords: vente publique, publique d'une, BONNE MAISON, d'une MAISON, MAISON D'HABITATION, d'une BONNE, BELLE MAISON, notaire Henrion, VENTES PUBLIQUES...\n",
      "KB_JB421_1947-11-30_01-00005.txt\n",
      "KB_JB421_1947-11-30_01-00005.txt mentions these keywords: saint Eloi, Ferronnerie Bouillonnaise, Bon Dieu, grand saint, bons moments, bon saint, c'est bon, Grand Hôtel, Grand Prix...\n",
      "KB_JB421_1947-12-31_01-00002.txt\n",
      "KB_JB421_1947-12-31_01-00002.txt mentions these keywords: administrations communales, roi Farouk, gouvernement italien, lundi matin, Plan Marshall, Cour Militaire, d'un million, nouvelle comète, roi Victor-Emmanuel, Meuse s'est...\n",
      "KB_JB421_1948-04-03_01-00005.txt\n",
      "KB_JB421_1948-04-03_01-00005.txt mentions these keywords: Julius ErharT, dit Darcet, LUXEMBOURG Samedi, mademoiselle Regnault, Billet Sportif, Rue Neuve, Bureau Provincial, l'Olympic Charleroi, TOUR EIFFEL, mètres au-dessus, Kin Yuen...\n",
      "KB_JB421_1949-02-12_01-00002.txt\n",
      "KB_JB421_1949-02-12_01-00002.txt mentions these keywords: cardinal Mindszenty, Conseil d'Etat, PRIX LUC, Gouvernement hongrois, LUC JAVAUX, général Weygand, conseil national, cours d'une, Conseil s'est, secrétaire général, L'ENSEIGNEMENT TECHNIQUE...\n",
      "KB_JB421_1949-04-14_01-00003.txt\n",
      "KB_JB421_1949-04-14_01-00003.txt mentions these keywords: Conseil communal, concours d'étalages, Albert Renoy, Hippolyte Renoy, Paul Gourdet, grand concours, jeunes filles, l'Administration communale, Louis Gourdet, Emile Paulus...\n",
      "KB_JB421_1949-07-22_01-00003.txt\n",
      "KB_JB421_1949-07-22_01-00003.txt mentions these keywords: L'AVENIR UIT, Révérend Père, place Léopold, colonel Callens, UIT LUXEMBOURG, colonel Jacoby, Frères Maristes, jeunes filles, parce qu'il, grande distinction, gouvernement provincial...\n",
      "KB_JB421_1949-09-02_01-00003.txt\n",
      "KB_JB421_1949-09-02_01-00003.txt mentions these keywords: Luxembourg belge, René Grousset, Route Bruxellois, fervent Bruxellois, jeunes filles, école Luxembourg, Luxembourg compte, Luxembourg n'est, Letzeburger Chreschtleche, Contribuable bruxellois, Letzeburger Arbechterverband...\n",
      "KB_JB421_1949-12-24_01-00003.txt\n",
      "KB_JB421_1949-12-24_01-00003.txt mentions these keywords: bonne volonté, LUXEMBOURG Paix, salle d'attente, salle Olympia, petites laiteries, Prisonnier politique, Ciné Patton...\n",
      "KB_JB421_1949-12-31_01-00002.txt\n",
      "KB_JB421_1949-12-31_01-00002.txt mentions these keywords: Classes Moyennes, Porte Sainte, Sécurité Sociale, Silva Ramos, Souverain Pontife, l'Année Sainte, Libre Belgique, d'autre part...\n",
      "KB_JB421_1950-01-04_01-00006.txt\n",
      "KB_JB421_1950-01-04_01-00006.txt mentions these keywords: sir Clutha, Pères Blancs, Mlle Josette, monsieur Legagneur, vicaire apostolique, Clutha Mackenzie, fit Antoine...\n",
      "KB_JB421_1950-02-02_01-00007.txt\n",
      "KB_JB421_1950-02-02_01-00007.txt mentions these keywords: chef d'entreprise, Conseils d'entreprise, Grande Ourse, Foires Commerciales, Grand Chien...\n",
      "KB_JB421_1950-05-01_01-00004.txt\n",
      "KB_JB421_1950-05-01_01-00004.txt mentions these keywords: mai prochain, Pleine Lune, Congo Belge, Blanche Delogne, Conseil communal...\n",
      "KB_JB421_1950-09-03_01-00003.txt\n",
      "KB_JB421_1950-09-03_01-00003.txt mentions these keywords: Agricole Belge, l'Alliance Agricole, société Provinciale, Grand Prix, Provinciale d'Agriculture, agricoles belges...\n",
      "KB_JB427_1919-03-30_01-00004.txt\n",
      "KB_JB427_1919-03-30_01-00004.txt mentions these keywords: Sunlight Savon, Red Star, Oamblln fRed...\n",
      "KB_JB427_1919-12-17_01-00002.txt\n",
      "KB_JB427_1919-12-17_01-00002.txt mentions these keywords: gouvernement belge, emprunt français...\n",
      "KB_JB427_1921-05-04_01-00003.txt\n",
      "KB_JB427_1921-05-04_01-00003.txt mentions these keywords: Saint-Jean Berchmans, Huile mais, Huile coco, Van der, bat Bruxelles, BRUXELLES MARDI, Fontaine bat...\n",
      "KB_JB427_1921-09-09_01-00003.txt\n",
      "KB_JB427_1921-09-09_01-00003.txt mentions these keywords: saint Antoine, saint Benoit, Mardi soir, VERRERIES LAMBERT, Mme veuve, Van der, salut Antoine, Mme Spiral...\n",
      "KB_JB427_1924-08-13_01-00003.txt\n",
      "KB_JB427_1924-08-13_01-00003.txt mentions these keywords: battent Mlle, Mlle Mireille, Mlle Nolla, Séance enfantine, Mlle Briggs, Mlle Bidegaray, Mlle Morin-Delperce, Mireille Renoult, Mlle Van, conférence plénière, Mlle Bauwens-Glllard, Séance féminine...\n",
      "KB_JB427_1925-12-20_01-00003.txt\n",
      "KB_JB427_1925-12-20_01-00003.txt mentions these keywords: Van Parys, Van der...\n",
      "KB_JB427_1926-05-17_01-00001.txt\n",
      "KB_JB427_1926-05-17_01-00001.txt mentions these keywords: situation politique, Joseph Ageorges...\n",
      "KB_JB427_1926-06-20_01-00003.txt\n",
      "KB_JB427_1926-06-20_01-00003.txt mentions these keywords: bat Mme, Van der, bat Mlle, LIBRE BELGIQUE, Mlle Van, MARINS BELGES, bat Van, l'Union Belge, Hubert Rogister...\n",
      "KB_JB427_1927-01-18_01-00005.txt\n",
      "KB_JB427_1927-01-18_01-00005.txt mentions these keywords: Cri prolétaire, bulletin météorologique, Plata disp, Plata Jaune., Turquie disp, Plata flott, Lin Plata., stoc. marq, Plata blanc...\n",
      "KB_JB427_1927-10-14_01-00002.txt\n",
      "KB_JB427_1927-10-14_01-00002.txt mentions these keywords: Van Dievoet, Fédération nationale, D'une manière, assurances sociales, grande distinction...\n",
      "KB_JB427_1928-03-22_01-00001.txt\n",
      "KB_JB427_1928-03-22_01-00001.txt mentions these keywords: parti libéral, parti socialiste, d'un parti, Limbourg hollandais, FONDATION CARNEGIE, l'accord franco-allemand...\n",
      "KB_JB427_1928-10-25_01-00001.txt\n",
      "KB_JB427_1928-10-25_01-00001.txt mentions these keywords: hauts salaires, d'un gouverneur, numéro Edition, gouverneur catholique, Mais nous, nomination d'un, c'est qu'il...\n",
      "KB_JB427_1928-11-06_01-00002.txt\n",
      "KB_JB427_1928-11-06_01-00002.txt mentions these keywords: van Hoestenberghe, Altesses Royales, présente loi, bourgmestre van, Fédération nationale, comité organisateur, d'Une route...\n",
      "KB_JB427_1929-01-21_01-00004.txt\n",
      "KB_JB427_1929-01-21_01-00004.txt mentions these keywords: White Star, LIBRE BELGÏCLUE, l'équipe locale, Sport Nautique, Séance enfantine, tombe Van, Concert ballade, Van Rumsl, Club Nautique, Concert populaire...\n",
      "KB_JB427_1929-04-17_01-00003.txt\n",
      "KB_JB427_1929-04-17_01-00003.txt mentions these keywords: Ward Hermans, mardi matin, l'interrogatoire Dar, Van Laethem, INCULPE D'ESPIONNAGE, dimanche soir, d'une hauteur, planète Vénus, Ward Hormnns, Foire Commerciale, lundi soir, luge d'instruction...\n",
      "KB_JB427_1929-06-11_01-00003.txt\n",
      "KB_JB427_1929-06-11_01-00003.txt mentions these keywords: MAC DONALD, plan Young, nouveau gouvernement, nouveau plan, parti libéral, gouvernement travailliste, sociétés belges, Labour Party...\n",
      "KB_JB427_1929-11-22_01-00005.txt\n",
      "KB_JB427_1929-11-22_01-00005.txt mentions these keywords: match fut, Racing Club, prix secret, Rio Grande, Van den, but fut...\n",
      "KB_JB427_1930-01-08_01-00004.txt\n",
      "KB_JB427_1930-01-08_01-00004.txt mentions these keywords: cellule photoélectrique, Snrinlîcfoc allomartrlc, socialistes belges, d'une lampe, réductions d'impôts, JULldlialca dllCUlalIUa, intérêts généraux, capital nécessaire...\n",
      "KB_JB427_1930-02-28_01-00007.txt\n",
      "KB_JB427_1930-02-28_01-00007.txt mentions these keywords: LIBRE BELGIQUE, Victor Hugo, petite sainte, chemins ombragés, Musique légère, c'est Victor, Pilules Pink, Concert symphonique...\n",
      "KB_JB427_1930-04-18_01-00001.txt\n",
      "KB_JB427_1930-04-18_01-00001.txt mentions these keywords: Rouge International, Secours Rouge, travail forcé, Parti communiste, Ouvrier International, Secours Ouvrier, TTI lllll, société indigène, ancien membre, Commission s'est...\n",
      "KB_JB427_1930-05-01_01-00004.txt\n",
      "KB_JB427_1930-05-01_01-00004.txt mentions these keywords: Louis Charller, Mardi soir, psr Louis, Mercredi matin, rue Mal...\n",
      "KB_JB427_1930-10-27_01-00003.txt\n",
      "KB_JB427_1930-10-27_01-00003.txt mentions these keywords: général Mordacq, GOUVERNEMENT PROVISOIRE, ministre français, BILLET PARISIEN, GOUVERNEMENT BELGE, GENERAL MORDACQ, coTremVvndant varticuUeT, Soldat Inconnu, ministre Lippens...\n",
      "KB_JB427_1930-11-02_01-00003.txt\n",
      "KB_JB427_1930-11-02_01-00003.txt mentions these keywords: Vicariat apostolique, C'est Monsieur, Coucou s'est, Pères Blancs...\n",
      "KB_JB427_1931-04-12_01-00001.txt\n",
      "KB_JB427_1931-04-12_01-00001.txt mentions these keywords: Edition dos, Montagne-aux Herbes-Potagèrcs, dos Journaux, numéro Edition, calme dans, gouvernement portugais, matières colorantes, gouvernement belge, Graf Zeppelin, tabac Dans, Caire dans...\n",
      "KB_JB427_1931-10-04_01-00001.txt\n",
      "KB_JB427_1931-10-04_01-00001.txt mentions these keywords: Société Nationale, numéro Edition, Société Belge, canal Albert, COLONEL KELLER, c'est qu'il, commerce d'Anvers...\n",
      "KB_JB427_1932-02-29_01-00001.txt\n",
      "KB_JB427_1932-02-29_01-00001.txt mentions these keywords: d'une part, l'abbé Leclercq, numéro Edition, d'autre part, d'une manière, LIVRES STERLING, Banque Nationale, crise monétaire, Mme Ludendorff...\n",
      "KB_JB427_1932-05-04_01-00006.txt\n",
      "KB_JB427_1932-05-04_01-00006.txt mentions these keywords: lOHïEIIEIT LITTEBIUE, LITTEBIUE Elise, Elise CHAMPAGNE, Concert d'orgue, Mme Elise, Jean PAULUS, d'un concert, Concert symphonîque, Musique reproduite...\n",
      "KB_JB427_1932-05-25_01-00002.txt\n",
      "KB_JB427_1932-05-25_01-00002.txt mentions these keywords: Objet Delporte, petites planètes, petite planète, Cercle Gaulois, LIBRE BELGIQUE, l'abbé Van, l'Observatoire Royal...\n",
      "KB_JB427_1932-07-13_01-00006.txt\n",
      "KB_JB427_1932-07-13_01-00006.txt mentions these keywords: Société Royale, Vande Voorde, Entrée gratuite, théâtre royal, sociétés royales, représentation dramatique, Veuve Vande, Veuve Van, Van Poucke, ILA LIBRE...\n",
      "KB_JB427_1933-03-24_01-00006.txt\n",
      "KB_JB427_1933-03-24_01-00006.txt mentions these keywords: bain Voire, Jeanne d'Arc, planète Mars, Voire peau, Savon Cadum, mars avril, Ire catégorie, but fut, Jeu fut...\n",
      "KB_JB427_1933-05-22_01-00004.txt\n",
      "KB_JB427_1933-05-22_01-00004.txt mentions these keywords: Van Kempen, Grand Prix, Falk Hansen, Van Eyck, Van Luyck, mars dernier, planète Mars, Van Belllnghen, Van Vlockhoven, Van Impe, Mars d'une...\n",
      "KB_JB427_1933-09-08_01-00001.txt\n",
      "KB_JB427_1933-09-08_01-00001.txt mentions these keywords: LALI BRE, LIBRE BELGIQUE, gittrAra Lvia, Cardinal Verdier, nous nous, Saint Sulpice, pierres sèches, numéro Edition, travailleurs wallons, Grand Séminaire, l'on nous, Faucons Rouges, nous sommes...\n",
      "KB_JB427_1933-12-21_01-00004.txt\n",
      "KB_JB427_1933-12-21_01-00004.txt mentions these keywords: Van Eesvelde, Van Caenegem, l'Abbé Hénocque, Lucien Lejeune...\n",
      "KB_JB427_1934-04-17_01-00001.txt\n",
      "KB_JB427_1934-04-17_01-00001.txt mentions these keywords: numéro Edition, dépenses militaires, écoles communales, d'une chambre, historique belge, BELGIQUE ANNONCES...\n",
      "KB_JB427_1934-04-22_01-00007.txt\n",
      "KB_JB427_1934-04-22_01-00007.txt mentions these keywords: roi Léopoid, roi Albert, Roi s'est, Juge d'instruction, grand Roi, jeune roi, MONNA LISA, d'une voix, tour Zimmer...\n",
      "KB_JB427_1934-07-06_01-00008.txt\n",
      "KB_JB427_1934-07-06_01-00008.txt mentions these keywords: d'un film, Paquebot Tenacity, titre d'une, Georges Carpentier, film qu'ils, films d'un, prochain film, scène d'une, temps qu'il...\n",
      "KB_JB427_1934-07-18_01-00007.txt\n",
      "KB_JB427_1934-07-18_01-00007.txt mentions these keywords: Van Volxem, Idem ilott, Rio Tinto, Idem Ind, Idem liv., Idem liv...\n",
      "KB_JB427_1934-07-31_01-00003.txt\n",
      "KB_JB427_1934-07-31_01-00003.txt mentions these keywords: maréchal Lyautey, MORALE PROFESSIONNELLE, Dieu veut, citoyen Renier, Mgr Petit, eut lieu, ballon stratosphérique...\n",
      "KB_JB427_1935-02-02_01-00006.txt\n",
      "KB_JB427_1935-02-02_01-00006.txt mentions these keywords: TRIBUNAL CORRECTIONNEL, francs d'amende, ler février, René Sneppe, Van der, Van Puyvelde, jour plus...\n",
      "KB_JB427_1935-05-04_01-00005.txt\n",
      "KB_JB427_1935-05-04_01-00005.txt mentions these keywords: Adolphe Quetelet, Chronique religieuse, salut solennel, messe solennelle, grand messe, demeurant rue...\n",
      "KB_JB427_1935-11-01_01-00007.txt\n",
      "KB_JB427_1935-11-01_01-00007.txt mentions these keywords: plus grande, Comédie dramatique, Jeunesse Arlonaise...\n",
      "KB_JB427_1935-11-07_01-00009.txt\n",
      "KB_JB427_1935-11-07_01-00009.txt mentions these keywords: Musique enregistrée, LIBRE BELGIQUE, Programme varié, Orchestre musette, bur. journal, Journal parlé, Bulletin météorologique, Signal horaire, Petit orchestre, NOVEMBRE BELGIQUE, Concert Mozart, Matinée enfantine, bureau journal...\n",
      "KB_JB427_1936-01-01_01-00001.txt\n",
      "KB_JB427_1936-01-01_01-00001.txt mentions these keywords: Libre Belgique, Cardinal Baudrillart, paix scolaire, l'abbé Geoffroy, alors qu'ils, propriétaires voisins...\n",
      "KB_JB427_1936-03-20_01-00009.txt\n",
      "KB_JB427_1936-03-20_01-00009.txt mentions these keywords: poésie pure, postes français, d'un Etat, d'une qualité, l'esprit français, d'une langue, d'une vie...\n",
      "KB_JB427_1936-04-01_01-00008.txt\n",
      "KB_JB427_1936-04-01_01-00008.txt mentions these keywords: Alexandre Sakharoff, Mme Leugras, Clotilde Sakharoff, Ernest qu'il, Leugras sentaient, J'vous remercie, résumeraient l'existence...\n",
      "KB_JB427_1936-04-04_01-00004.txt\n",
      "KB_JB427_1936-04-04_01-00004.txt mentions these keywords: Société Minière, Mme Vve, Commission mixte, Société Anonyme, LIBRE BELGiaUE, troupes italiennes, Mme Notté, Mme Jean, loi militaire, Congo Belge...\n",
      "KB_JB427_1936-08-01_01-00008.txt\n",
      "KB_JB427_1936-08-01_01-00008.txt mentions these keywords: Iles Marquises, Grands Palais, d'un point, l'avenue Astrid, semblent acclimatées, Mgr Lecadre, Sud Août, avenue Astrid, Cheval blanc...\n",
      "KB_JB427_1936-09-21_01-00009.txt\n",
      "KB_JB427_1936-09-21_01-00009.txt mentions these keywords: l'eau froide, Madame Norédion, l'eau bouillante, petit Jésus, petite Yolande, TANTE ROSALIE, petite fille, jeune fille, faubourg périphérique, Monsieur Jacques, Monsieur Hervé, longue lunette, Monsieur Norédion, petites filles...\n",
      "KB_JB427_1937-03-01_01-00007.txt\n",
      "KB_JB427_1937-03-01_01-00007.txt mentions these keywords: BRUSSELS SWIMMING, francs d'amende, TRIBUNAL CORRECTIONNEL, SWIMMING CLUB, Prix Léon, Teddy Matthieu...\n",
      "KB_JB427_1937-03-14_01-00002.txt\n",
      "KB_JB427_1937-03-14_01-00002.txt mentions these keywords: L'ASSOCIATION CATHOLIQUE, groupe catholique, étudiants catholiques, catholique Patria, plus grand, catholique Monico, Front Catholique, Thomas Braun, CATHOLIQUE CANTONALE, Van Belligen, Caisse d'Epargne, JOURNEE Taxe, fois plus, jeunes catholiques, Intellectuels catholiques...\n",
      "KB_JB427_1937-04-25_01-00010.txt\n",
      "KB_JB427_1937-04-25_01-00010.txt mentions these keywords: Musique enregistrée, AVBIL ECOUTEZ, Concert varié, Orchestre symphonique, RADIODIFFUSION rBOOBAMMES, Musique religieuse, Paul Chaubet, concert donné, Concert symphonique, César Franck, Musique d'opéras, Programme varié, Orchestre militaire, Société Générale, Musique légère, Musique variés, SOCIETE ANONYME...\n",
      "KB_JB427_1937-05-25_01-00004.txt\n",
      "KB_JB427_1937-05-25_01-00004.txt mentions these keywords: président Lebrun, Grand Palais, s'est rendu, cortège présidentiel, S'EST OUVERTE...\n",
      "KB_JB427_1937-07-16_01-00009.txt\n",
      "KB_JB427_1937-07-16_01-00009.txt mentions these keywords: Idem Idem, Tendance soutenue, Nettes réserves, idem livr, Idem liv, dollars Manit, Idem Idera, Idera Idem, Idem Industr, Idem Brésil, Idem Synthétique, Nord Belge...\n",
      "KB_JB427_1938-02-26_01-00004.txt\n",
      "KB_JB427_1938-02-26_01-00004.txt mentions these keywords: miséricorde divine, Mont Wilson, présent avis, Foire Internationale, service actif...\n",
      "KB_JB427_1938-07-01_01-00007.txt\n",
      "KB_JB427_1938-07-01_01-00007.txt mentions these keywords: Pouliches prenant, AtIs Important, Juments reproductrices, pigeons lâchés, Dernier prix, Idem Ilvr, Diamètre apparent, Van Moer...\n",
      "KB_JB427_1938-11-07_01-00002.txt\n",
      "KB_JB427_1938-11-07_01-00002.txt mentions these keywords: millions d'impôts, Jeunes Belges, budget extraordinaire, communes belges, Gouvernement belge, Gouvernement français, impôts Indirects, cône d'ombre, l'éclipsé totale...\n",
      "KB_JB427_1938-12-02_01-00009.txt\n",
      "KB_JB427_1938-12-02_01-00009.txt mentions these keywords: LIBRE BELGIQUE, brillantine Roja, Dern cours, ler décembre, décembre fut, Idem déc, Idem emb., Tendance soutenue, Uccle coucher...\n",
      "KB_JB427_1939-01-01_01-00007.txt\n",
      "KB_JB427_1939-01-01_01-00007.txt mentions these keywords: décembre Beurre, Goncerts MOI.IKKE, idem livr, Idem janv, Idem emb., tendance calme, Nettes réserves, diamètre apparent, Lune Agée, Idem emb, petite distance...\n",
      "KB_JB427_1939-03-02_01-00010.txt\n",
      "KB_JB427_1939-03-02_01-00010.txt mentions these keywords: Concert varié, Musique légère, Diamètre apparent, fin mars, Concert nocturne, Concert léger, Concerts angl, Grands Concerts, Température moyenne, BLANCHEUR NATURELLE...\n",
      "KB_JB427_1939-05-04_01-00003.txt\n",
      "KB_JB427_1939-05-04_01-00003.txt mentions these keywords: Prusse orientale, gouvernement britannique, Affaires étrangères, avions Japonais, densité moyenne, Kurier Codzienny, Société belge, Gouvernement provincial, Pologne JWViV, Diète polonaise...\n",
      "KB_JB427_1939-07-15_01-00008.txt\n",
      "KB_JB427_1939-07-15_01-00008.txt mentions these keywords: Vve Oger, planète Mara, LIBRE BELGIQUE, diamètre apparent, d'une opposition, voir Mars...\n",
      "KB_JB427_1946-02-26_01-00004.txt\n",
      "KB_JB427_1946-02-26_01-00004.txt mentions these keywords: battent Mme, LIBRE BELGIQUE, prie d'annoncer, Van Sande, Van Marcke, Van Dyck, suffisamment nourris, sont-ils suffisamment, doléances suscitées, rue Van, soldats sont-ils...\n",
      "KB_JB427_1946-07-17_01-00005.txt\n",
      "KB_JB427_1946-07-17_01-00005.txt mentions these keywords: Vitesses critiques, LIBRE BELGIQUE, fête nationale, Grand Orchestre, remise d'un, Garde Grand, l'abbé Fransen...\n",
      "KB_JB427_1947-01-16_01-00001.txt\n",
      "KB_JB427_1947-01-16_01-00001.txt mentions these keywords: parti communiste, propagande communiste, Affaires étrangères, drame indochinois, communiste français, Conseil d'Etat, communiste fort, communistes indochinois, PATRIOTE ILLUSTRE, gouvernement Italien...\n",
      "KB_JB427_1947-02-13_01-00008.txt\n",
      "KB_JB427_1947-02-13_01-00008.txt mentions these keywords: Porteur d'aigrettes, MEMORIAM L'ENFANT, L'ENFANT TUÉ, Ernest Hemingway, d'une voix, jeunes hommes, jeune homme, René Benjamin, jeune fille, d'un grand, d'un homme, d'une vie, fulml liant, étin celant, d'aigrettes électriques, l'adjudant scrongneugneu...\n",
      "KB_JB427_1947-03-20_01-00008.txt\n",
      "KB_JB427_1947-03-20_01-00008.txt mentions these keywords: compa Îjnonnages, gàs Johnny, Ardennaîs montaient, montaient Hesbaye, AMERICAINES JOHN, IDEES LETTRES, LETTRES AMERICAINES, parce qu'il, JOHN STEINBECK, qu'il faut, livre Paris, cheveux blonds, semblables compa, c'est qu'il, Hesbaye lors...\n",
      "KB_JB427_1947-05-01_01-00008.txt\n",
      "KB_JB427_1947-05-01_01-00008.txt mentions these keywords: j'ai dit, Jules Sottiaux, Evelyn Waugh, qu'il n'est, c'est qu'il, livres qu'il, comte Henry, jeunes hommes...\n",
      "KB_JB427_1947-05-04_01-00012.txt\n",
      "KB_JB427_1947-05-04_01-00012.txt mentions these keywords: vendre HACH, Planteurs Réunis, LIBRE BELGIQUE...\n",
      "KB_JB427_1947-05-09_01-00007.txt\n",
      "KB_JB427_1947-05-09_01-00007.txt mentions these keywords: Ondes séismiques, LIBRE BELGIQUE, BELGIQUE Désarroi, sénateur janaudi, Musique variée, Musique légère, Explosions provoquées, frontière ouest...\n",
      "KB_JB427_1947-05-22_01-00010.txt\n",
      "KB_JB427_1947-05-22_01-00010.txt mentions these keywords: IDEES Jean, Paul SARTRE, c'est qu'il, Robert CAMPBELL, grands hommes, grands romans, LIBRE BELGIQUE, MANON ROLAND, parce qu'il, qu'il n'est, grand homme...\n",
      "KB_JB427_1947-06-04_01-00007.txt\n",
      "KB_JB427_1947-06-04_01-00007.txt mentions these keywords: COTE OFFICIELLE, Musique variée, Musique légère, BELGIQUE COTE, Grand Orchestre, OFFICIELLE MARDI, leil atteint, crépuscule civil, Jacques Bonhomme, crépuscule astronomique, Juin astronomique...\n",
      "KB_JB427_1947-07-06_01-00008.txt\n",
      "KB_JB427_1947-07-06_01-00008.txt mentions these keywords: Fusées Postales, rue Emile, Immeuble rue, Musique variée, Musique légère, Emile Feron, Timour Leng, LIBRE BELGIQUE, Société Générale, Sociétés Société, Monsieur Timour, Société Belge, rue César, Banques Suisses, Société Anonyme, Banque Nagelmackers...\n",
      "KB_JB427_1947-07-21_01-00004.txt\n",
      "KB_JB427_1947-07-21_01-00004.txt mentions these keywords: grande distinction, disques volants, Mgr Pelzer, PIEDS PLATS, pied plat, prix moyen, Mgr Van, peuple suisse, Grand Prix, Mgr Mercier, Parlement fédé, voûte plantaire, d'un Parlement, pied d'un, dimanche matin, Auguste Pelzer...\n",
      "KB_JB427_1947-07-24_01-00008.txt\n",
      "KB_JB427_1947-07-24_01-00008.txt mentions these keywords: van Veldeke, c'est qu'il, Pierre Domec, BELGIQUE Pensées, d'un homme, Hendrlk van, LIBRE BELGIQUE, Bmmtté d'un, Joseph Droogmans, André Allard, vie d'un, voua tte, tte l'offriez...\n",
      "KB_JB427_1947-08-03_01-00006.txt\n",
      "KB_JB427_1947-08-03_01-00006.txt mentions these keywords: Bsque Bornet, Mit livre, Sue livre, ler août, dit Sœur, Francisque Bornet, gros Jacques, gros lot, Sœur Marie-Amélie, C'est Sœur, Grande distinction, lot d'un...\n",
      "KB_JB427_1947-11-03_01-00003.txt\n",
      "KB_JB427_1947-11-03_01-00003.txt mentions these keywords: gouvernement britannique, BELGIQUE Lundi, LIBRE BELGIQUE, Foreign Office, parti communiste, cours d'un, commissaires slovaques, ancien chef, d'autre part...\n",
      "KB_JB427_1947-12-04_01-00010.txt\n",
      "KB_JB427_1947-12-04_01-00010.txt mentions these keywords: DER MEERSCH, VAN DER, parce qu'il, Sainte Thérèse, Albert Mockel, Simone WEIL, Simone Bergmans, IDEES Sainte, parce qu'elle, Mlle Simone, WEIL Introduction, saint Jean, MAXENCE VAN...\n",
      "KB_JB427_1947-12-27_01-00008.txt\n",
      "KB_JB427_1947-12-27_01-00008.txt mentions these keywords: Musique légère, VENTE PUBLIQUE, Programme varié, grande vente, Soleil vient, Disques demandés, Janvier astronomique...\n",
      "KB_JB427_1947-12-30_01-00005.txt\n",
      "KB_JB427_1947-12-30_01-00005.txt mentions these keywords: BILLET LIEGEOIS, logis chefs, Sergent Van, logis Van, Van den, lers sergents, Van der, Van Damme, Van Roey, Van Driessche, prie d'annoncer...\n",
      "KB_JB427_1948-01-04_01-00007.txt\n",
      "KB_JB427_1948-01-04_01-00007.txt mentions these keywords: BELGIQUE FOOTBALL, matière interstellaire, division d'honneur, nébuleuses galactiques, nne bouc, boucler ponctuellement, élais prévus, Uccle Sport, White Star, d'une équipe...\n",
      "KB_JB427_1948-02-05_01-00001.txt\n",
      "KB_JB427_1948-02-05_01-00001.txt mentions these keywords: Sécurité sociale, parti libéral, Fianna Fail, LIBRE BELGIQUE, ancien président, président Roosevelt, comptes courants...\n",
      "KB_JB427_1948-02-10_01-00007.txt\n",
      "KB_JB427_1948-02-10_01-00007.txt mentions these keywords: Musique variée, Musique populaire, Pays Liège, fusées automatiques, EMPRUNTS Dette, Congo belge, 12-134 Obi, 19-204 Obi...\n",
      "KB_JB427_1948-03-02_01-00007.txt\n",
      "KB_JB427_1948-03-02_01-00007.txt mentions these keywords: Musique variée, Musique douce, Musique légère, Musique classique, Congo Belge, MARS ASTRONOMIQUE, petit timbre, Pays Liège, Mars Saturne, Mars Jupiter, timbres belges...\n",
      "KB_JB427_1948-04-03_01-00006.txt\n",
      "KB_JB427_1948-04-03_01-00006.txt mentions these keywords: Musique variée, Musique populaire, Musique enregistrée, XKCI UAKKEKE, AVRIL BRUXELLES, Disques demandés, dttge ilAKItKKK, jour Vincent, avril inclus...\n",
      "KB_JB427_1948-04-08_01-00007.txt\n",
      "KB_JB427_1948-04-08_01-00007.txt mentions these keywords: BELGIQUE Jeudi, OFFICIELLE MERCREDI, mouvement apparent, d'un jour, Bénéfice exercice, d'un astéroïde, d'un mouvement, net exercice...\n",
      "KB_JB427_1948-04-16_01-00006.txt\n",
      "KB_JB427_1948-04-16_01-00006.txt mentions these keywords: Van Belle, ancien record, monde 1938-39, LIBRE BELGIQUE, BELGIQUE ATHLETISME, championnat d'Europe, Congo Belge, Pays Liège, Xanll Zatopek, BOMBE ATOMIQUE...\n",
      "KB_JB427_1948-05-03_01-00006.txt\n",
      "KB_JB427_1948-05-03_01-00006.txt mentions these keywords: litre lait, Musique légère, petit malade, LUNE Vénus...\n",
      "KB_JB427_1948-05-04_01-00004.txt\n",
      "KB_JB427_1948-05-04_01-00004.txt mentions these keywords: station Bées, événements COMMENTES, Terre Sain, Grande Ourse, lundi soir, FOREIGX OFFICE, ler mal, dimanche soir, gouverneur général, lundi matin, quartiers arabes...\n",
      "KB_JB427_1948-06-14_01-00006.txt\n",
      "KB_JB427_1948-06-14_01-00006.txt mentions these keywords: JEUNES CAROTTES, LKS HUMANTS, crème pâtissière, Thierry Desperriers, jeunes pois, jeunes enfants, jmn iwa...\n",
      "KB_JB427_1948-11-03_01-00006.txt\n",
      "KB_JB427_1948-11-03_01-00006.txt mentions these keywords: Van Frachen, Van Dam, Luc Van, PETROLE HAHN, Van Wesel, LIBRE BELGIQUE, Courtrai Sport, Berchem Sport, Sporting Club, championnat d'Europe...\n",
      "KB_JB427_1948-12-01_01-00007.txt\n",
      "KB_JB427_1948-12-01_01-00007.txt mentions these keywords: machines mathématiques, ler Oéc, machine électronique, DAVROS RONDE, minimum d'Algol, ler décembre, d'une machine...\n",
      "KB_JB427_1948-12-22_01-00008.txt\n",
      "KB_JB427_1948-12-22_01-00008.txt mentions these keywords: nébuleuses extragalactiques, Permanente TONI, d'une nébuleuse, nébuleuses spirales, qu'une Permanente, bras spiraux, systèmes extragalactiques, TONI Div., nébuleuses extra, vitesse radiale, nécessaire TONI, Mont Wilson, TONI ondule, TONI tiendra, rechange TONI, Demandez TONI, d'un million...\n",
      "KB_JB427_1949-01-14_01-00007.txt\n",
      "KB_JB427_1949-01-14_01-00007.txt mentions these keywords: IDEES RETROSPECTIVE, IJES AMERICAINS, AMERICAINS PROJETANT, PAUL MORAND, Pierre BENOIT, MORAND IJES, RETROSPECTIVE PAUL, MAN'S LAND, Fanny HURST, BILBOQUET AVEO, grand Morand, c'est d'un, Pierre Taittinger...\n",
      "KB_JB427_1949-02-10_01-00010.txt\n",
      "KB_JB427_1949-02-10_01-00010.txt mentions these keywords: IDEES BARRÉS, dit Vun, Geneviève FAUCONNIER, BARRÉS 1919-1920, voudrait-on qu'ils, Voyez Steinbeck, Baudelaire qu'il, Jean Cocteau, recueil d'attitudes, der Essen, roman fabriqué...\n",
      "KB_JB427_1949-11-05_01-00008.txt\n",
      "KB_JB427_1949-11-05_01-00008.txt mentions these keywords: blancheur SOLEIL, LIBRE BELGIQUE, d'un mouvement, SOLEIL LAVE, blancheur Incomparable, BELLES COUVERTURES, linge Soleil, BELLE LAINE, d'une étoile, Soleil n'est, étoiles géantes, COUVERTURES UINTES, d'une belle, Soleil contient, TRES BELLE, CONGO BELGE...\n",
      "KB_JB427_1949-11-22_01-00008.txt\n",
      "KB_JB427_1949-11-22_01-00008.txt mentions these keywords: Pierre Minne, Crème Chantilly, Georges Fourrenoir, lait chaud, chocolat dit, pain sucré, Vénus fut, grand gâteau, Jacques Druet, petits gâteaux...\n",
      "KB_JB427_1949-11-24_01-00008.txt\n",
      "KB_JB427_1949-11-24_01-00008.txt mentions these keywords: Pôle Nord, Pays Liège, BELGIQUE Bourse, Société belge, tonne franco, Congo Belge...\n",
      "KB_JB427_1949-12-06_01-00007.txt\n",
      "KB_JB427_1949-12-06_01-00007.txt mentions these keywords: jours martiens, temps Immémoriaux, MONDE MARTIEN, planète Mars, CALOTTES POLAIRES, monde mar, MARTIEN Mars, LIBRE BELGIQUE, calotte polaire, vapeur d'eau, saint Nicolas, planète énigmatique, francs congolais, Congo Belge, Cie Ind...\n",
      "KB_JB427_1950-02-02_01-00009.txt\n",
      "KB_JB427_1950-02-02_01-00009.txt mentions these keywords: BELGIQUE Jeodl, heure officielle, Congo Belge, LIBRE BELGIQUE, Société Belge, semaine précédente, Pays Liège, bénéfice net, tonne fob...\n",
      "KB_JB427_1950-04-01_01-00005.txt\n",
      "KB_JB427_1950-04-01_01-00005.txt mentions these keywords: général Eisenhower, général américain, général Clay, maréchal Joukoff, BELGIQUE Sam, général Chabaline, général d'un, carte d'identité, soldats américains, d'un soldat, présence d'un...\n",
      "KB_JB427_1950-06-05_01-00007.txt\n",
      "KB_JB427_1950-06-05_01-00007.txt mentions these keywords: Vaches laitières, lait contrôlées, Van Rysselberghe, Van der, LIBRE BELGIQUE, Van Daele, Van Hoecke, Vaches pleines, Van Buggenhout...\n",
      "KB_JB427_1950-07-11_01-00005.txt\n",
      "KB_JB427_1950-07-11_01-00005.txt mentions these keywords: BELGIQUE Wftrnt, Mus. légère, Katanga ord, musique légère...\n",
      "KB_JB427_1950-08-02_01-00007.txt\n",
      "KB_JB427_1950-08-02_01-00007.txt mentions these keywords: LGIQUE Mfcecaâwte, Concert symphonlque, installations sanitaires, peau rèche, dures rendant, Août Saturne, Août Lever, Musique vocale, satellite III, Août Matin, Août Mercure...\n",
      "KB_JB427_1950-09-01_01-00008.txt\n",
      "KB_JB427_1950-09-01_01-00008.txt mentions these keywords: disques demandés, Mus. légère, Mus. variée, Concert symphonique, COUCHER MODERNES...\n",
      "KB_JB427_1950-10-04_01-00005.txt\n",
      "KB_JB427_1950-10-04_01-00005.txt mentions these keywords: von Falkenhausen, LGIQUE Mercredi, tient lieu, général von, faire part, avis tient, Sainte Eglise, Bruxelles Ville...\n",
      "KB_JB427_1950-11-24_01-00010.txt\n",
      "KB_JB427_1950-11-24_01-00010.txt mentions these keywords: Willie Stark, King Men, the King, jeune homme, Robert Rossen, Tour Blanche, d'une œuvre, film qu'il, réalisateur Robert, qu'il s'était, CINÉMA AMÉRICAIN, jeune fille...\n",
      "KB_JB427_1950-12-01_01-00008.txt\n",
      "KB_JB427_1950-12-01_01-00008.txt mentions these keywords: Enfants admis, Trevor Howard, Enf. admis, Lfl LIBRE, Grande Parade, Fenffe date, Cold Cream, Vanishing Cream, Lune observables...\n",
      "KB_JB555_1857-09-15_01-00002.txt\n",
      "KB_JB555_1857-09-15_01-00002.txt mentions these keywords: pari d'un, faire pari, France l'empereur, nouvelle d'un, Paris voyage, Paris maintenant, serait d'un...\n",
      "KB_JB555_1858-08-07_01-00003.txt\n",
      "KB_JB555_1858-08-07_01-00003.txt mentions these keywords: Vierge Marie, pôle sud, l'enfant Jésus, Crédit mobilier...\n",
      "KB_JB555_1858-12-31_01-00006.txt\n",
      "KB_JB555_1858-12-31_01-00006.txt mentions these keywords: Fails Paris...\n",
      "KB_JB555_1860-07-03_01-00003.txt\n",
      "KB_JB555_1860-07-03_01-00003.txt mentions these keywords: prince Jérôme, Albanais chargés, qu'il serait, parce qu'elle, Jérôme Napoléon, circonslance récente, Van Holsbeék, discussion générale, membres présents...\n",
      "KB_JB555_1863-04-10_01-00003.txt\n",
      "KB_JB555_1863-04-10_01-00003.txt mentions these keywords: Dro uvé, d'un corps, corps céleste, présent Jugement, d'une planète, maij l'évidence, érupijonj ïoIcaniques, érolithes n'avaient, docteur Hopkins...\n",
      "KB_JB555_1866-10-06_01-00001.txt\n",
      "KB_JB555_1866-10-06_01-00001.txt mentions these keywords: gouvernement belge, l'autre jour, Journal île...\n",
      "KB_JB555_1874-07-26_01-00001.txt\n",
      "KB_JB555_1874-07-26_01-00001.txt mentions these keywords: Casimir Périer, proposition Casimir, c'est qu'il...\n",
      "KB_JB555_1889-07-28_01-00005.txt\n",
      "KB_JB555_1889-07-28_01-00005.txt mentions these keywords: Miss Arabella, SUPPLÉMENT LITTERAIRE, Nouvelle Ecbatane, EGBATANË Miss, L'INDÉPENDANCE BELGE, Arabella Jennims, comte Guy, maison Jennims, comte Gontran, Jennims and, C'est qu'on, Arabella n'avait, bonne parole...\n",
      "KB_JB555_1889-12-14_01-00003.txt\n",
      "KB_JB555_1889-12-14_01-00003.txt mentions these keywords: Jules Verne, Lots turcs, Banque ottomane, Robert Browning, Froment disponible, richement cartonné...\n",
      "KB_JB555_1889-12-19_01-00002.txt\n",
      "KB_JB555_1889-12-19_01-00002.txt mentions these keywords: grade d'ingénieur, GRADES ACADÉMIQUES, s'arrête indécise, ABONNÉS D'UN, libertés d'un...\n",
      "KB_JB555_1889-12-31_01-00003.txt\n",
      "KB_JB555_1889-12-31_01-00003.txt mentions these keywords: l'année dernière, s'esta iiçtl'ttelrrs, DOM PEDRO, Sainte Russie, grand nombre, Charles Floquet, beau volume...\n",
      "KB_JB555_1890-05-10_01-00003.txt\n",
      "KB_JB555_1890-05-10_01-00003.txt mentions these keywords: Lots turcs, Crédit foncier, Rente turque, monté pai, Van Grootven, s'éteint doucement...\n",
      "KB_JB555_1890-05-21_01-00002.txt\n",
      "KB_JB555_1890-05-21_01-00002.txt mentions these keywords: Dorothy Tennant, classes ouvrières, miss Dorothy, miss Tennant, hommes politiques, questions sociales, Francis Train...\n",
      "KB_JB555_1891-07-13_01-00003.txt\n",
      "KB_JB555_1891-07-13_01-00003.txt mentions these keywords: GRAND HOTEL, d'une longueur, planète Mars, DERNIERS TELEGRAMMES, MIT DERNIERS, Gagné d'une, lord Salisbury, Maurice Souffrain, PARIS Lundi, Prix Fitz, d'une communication...\n",
      "KB_JB555_1891-07-27_01-00003.txt\n",
      "KB_JB555_1891-07-27_01-00003.txt mentions these keywords: GRAND HOTEL, Beau Géant, DERNIERS TÉLÉGRAMMES, Sarah Bernhardt, Clarisse Masson, HOTEL FONTAINE, prince Ferdinand...\n",
      "KB_JB555_1892-05-12_01-00003.txt\n",
      "KB_JB555_1892-05-12_01-00003.txt mentions these keywords: Lots turcs, Van Hinsberg, PARIS FRANCE, mais Boudeau, Hongrie Rente, lots hongrois, Sarah Bernhardt, Rente papier...\n",
      "KB_JB555_1892-07-06_01-00001.txt\n",
      "KB_JB555_1892-07-06_01-00001.txt mentions these keywords: Bruxetles Abonnement, course plate, parce qu'il, Hongrie Rente...\n",
      "KB_JB555_1893-04-02_01-00006.txt\n",
      "KB_JB555_1893-04-02_01-00006.txt mentions these keywords: théâtre d'idées, c'est qu'il, vie intérieure, c'est ici, dit qu'il, d'un petit, partout sentir, tori tèque, point équinoxial...\n",
      "KB_JB555_1893-04-16_01-00007.txt\n",
      "KB_JB555_1893-04-16_01-00007.txt mentions these keywords: l'expédition Bia, l'expédition Delcommune, capitaine Stairs, capitaine Bia, expéditions belges, l'Etat indépendant, lieutenant Francqui, Mais Delcommune, Alexandre Delcommune, capitaine Bodson, c'est Delcommune...\n",
      "KB_JB555_1894-09-02_01-00006.txt\n",
      "KB_JB555_1894-09-02_01-00006.txt mentions these keywords: général Billot, général Pallu, général Bourbaki, grosses boules, petites boules, POÈMES ANTIQUES, vieil homme, général Bonnet...\n",
      "KB_JB555_1894-12-16_01-00006.txt\n",
      "KB_JB555_1894-12-16_01-00006.txt mentions these keywords: Dalaï Lama, Grand Lama, Granvelle homme, cardinal Granvelle, tréteaux maginalreB.im, maginalreB.im sosie, temps n'existe, Granvelle qu'il...\n",
      "KB_JB555_1894-12-23_01-00005.txt\n",
      "KB_JB555_1894-12-23_01-00005.txt mentions these keywords: SUPPLEMENT LITTÉRAIRE, L'INDEPENDANCE BELGE, dit Labarthe, NOUVELLE Suite, C'est Lespardat, dit Lespardat, Monsieur Mérimée...\n",
      "KB_JB555_1895-10-21_01-00003.txt\n",
      "KB_JB555_1895-10-21_01-00003.txt mentions these keywords: faux bonshommes, GRAND HOTEL, Henri Rochefort, Paul Forestier, jeune homme, Rand Mines, jeune fllle, BRUXELLES HOTEL, C'est Péponet...\n",
      "KB_JB555_1895-12-26_01-00003.txt\n",
      "KB_JB555_1895-12-26_01-00003.txt mentions these keywords: crédit foncier, Van Zoen, Gertrude Van, rue Cadet, mgsm jet, Action Banque, nouvelle banque, Cour. janv...\n",
      "KB_JB555_1896-01-11_01-00001.txt\n",
      "KB_JB555_1896-01-11_01-00001.txt mentions these keywords: Hercules Robinson, sir Hercules, général Baratieri, président Krueger, jolies Actrices, BRUXELLES Abonnement...\n",
      "KB_JB555_1896-02-16_01-00003.txt\n",
      "KB_JB555_1896-02-16_01-00003.txt mentions these keywords: VAN ZANDT, Marché calme, Léon XIII, mars mars, distillerie clandestine...\n",
      "KB_JB555_1896-08-30_01-00005.txt\n",
      "KB_JB555_1896-08-30_01-00005.txt mentions these keywords: NOUVELLE ANGLETERRE, Joe Dagget, L'INDEPENDANCE BELGE, Lily Dyer, Louisa Ellis, vieux chien, voir Louisa, Esther Pallut, Jamais Louisa, petite Louisa, fois Louisa...\n",
      "KB_JB555_1896-09-12_01-00003.txt\n",
      "KB_JB555_1896-09-12_01-00003.txt mentions these keywords: SJÏS au'un, Marché calme, maison dana, militaire supérieure, militaire qu'il...\n",
      "KB_JB555_1897-12-12_01-00005.txt\n",
      "KB_JB555_1897-12-12_01-00005.txt mentions these keywords: SUPPLEMENT LITTERA, L'INDEPENDANCE BELGE, Mrs Satthianadhan, Maurice Favier, Satthianadhan qu'il, Satthianadhan d'une, Hoksaï n'est...\n",
      "KB_JB555_1898-01-23_01-00005.txt\n",
      "KB_JB555_1898-01-23_01-00005.txt mentions these keywords: SUPPLEMENT LITTERAIRE, Race blanche, d'une voix, jeune fille, races inférieures, C'est Pietro...\n",
      "KB_JB555_1898-06-19_01-00005.txt\n",
      "KB_JB555_1898-06-19_01-00005.txt mentions these keywords: L'INDÉPENDANCE BELGE, Georges beaume, SUPPLÉMENT LITTERAIRE, pur Georges, point Sidore, d'un chemin...\n",
      "KB_JB555_1898-09-17_01-00002.txt\n",
      "KB_JB555_1898-09-17_01-00002.txt mentions these keywords: général Zurlinden, général Mercier, l'affaire Dreyfus, Pierre Vaux, Félix Faure, mission Marchand, dossier Dreyfus, capitaine Dreyfus, qu'il faut...\n",
      "KB_JB555_1898-11-27_01-00003.txt\n",
      "KB_JB555_1898-11-27_01-00003.txt mentions these keywords: Pierre LOTI, mais c'est, C'est alors, c'est qu'il, l'Indépendance belge, yen qu'il, l'autre jour, qu'il serait...\n",
      "KB_JB555_1898-12-29_01-00002.txt\n",
      "KB_JB555_1898-12-29_01-00002.txt mentions these keywords: Van Malderghem, Van Waefelghem, d'un seul, Cour d'appel, commune qu'il...\n",
      "KB_JB555_1899-01-04_01-00003.txt\n",
      "KB_JB555_1899-01-04_01-00003.txt mentions these keywords: Grand Prix, Avril Mai, Marché ferme, Marché soutenu, Janvier Février...\n",
      "KB_JB555_1899-01-08_01-00006.txt\n",
      "KB_JB555_1899-01-08_01-00006.txt mentions these keywords: c'est uno, c'est qu'il...\n",
      "KB_JB555_1899-05-01_01-00002.txt\n",
      "KB_JB555_1899-05-01_01-00002.txt mentions these keywords: Van Reken, L'élection d'un, Emile Rasse, mandat d'un, juges suppléants, Henri Vandewalle, suffrage universel, Van Crombrugge...\n",
      "KB_JB555_1900-01-29_01-00002.txt\n",
      "KB_JB555_1900-01-29_01-00002.txt mentions these keywords: Conseil communal, Conseil s'est, d'un ingénieur, quo tous...\n",
      "KB_JB555_1900-06-04_01-00002.txt\n",
      "KB_JB555_1900-06-04_01-00002.txt mentions these keywords: cléricaux élus, conseillers sortants, socialistes élus, clérical élu, libéraux élus, liste libérale, Ubéraux élus, Conseil provincial, Uste socialiste, liste cléricale, Uste libérale, députation permanente, liste Ubérale, Uste Ubérale, liste socialiste, progressistes élus...\n",
      "KB_JB555_1901-10-03_01-00002.txt\n",
      "KB_JB555_1901-10-03_01-00002.txt mentions these keywords: école moyenne, olonel Gallet, mention honorable, honorable partagée, accessit partagé, prix partagé, moyenne communale, Conseil communal, Nouveaux quais, L'administration communale, FÉLIX FAURE...\n",
      "KB_JB555_1902-02-09_01-00006.txt\n",
      "KB_JB555_1902-02-09_01-00006.txt mentions these keywords: Victor Hugo, père Lagoutte, grand poète, grand homme, Berliner Morgenp-jst, Hugo qu'on, Martyr qu'il...\n",
      "KB_JB555_1903-04-16_01-00002.txt\n",
      "KB_JB555_1903-04-16_01-00002.txt mentions these keywords: saint Thomas, contre-amiral Juhol, l'abbé Hébert, l'honorable ministre, déclaré qu'il, qu'il ferait, Thomas n'est...\n",
      "KB_JB555_1904-12-21_01-00003.txt\n",
      "KB_JB555_1904-12-21_01-00003.txt mentions these keywords: c'est d'un, cortège s'est, n'est point, qu'il s'agit, jeune femme, d'une jeune, d'un accident, René Bazin...\n",
      "KB_JB555_1905-10-10_01-00004.txt\n",
      "KB_JB555_1905-10-10_01-00004.txt mentions these keywords: indépendance Eeigts, langue russe, conférence d'Algésiras...\n",
      "KB_JB555_1906-06-09_01-00004.txt\n",
      "KB_JB555_1906-06-09_01-00004.txt mentions these keywords: Jean Simons, Xj'ïnaépenanricG BéTgëi, vendredi matin, Pierre Hennebault, Juin isuo, pauvre Jean, Pierre s'est, aveo Geneviève, Pierre Chien, Geneviève coupent, tfn pauvre, pauvre diable...\n",
      "KB_JB555_1907-05-26_01-00003.txt\n",
      "KB_JB555_1907-05-26_01-00003.txt mentions these keywords: parce qu'il, van Zuylen, Zuylen van, Mais c'est, qu'il pouvait, seul peuple, Juifs n'est, qu'il fut...\n",
      "KB_JB555_1908-05-18_01-00004.txt\n",
      "KB_JB555_1908-05-18_01-00004.txt mentions these keywords: théâtre belge, théâtre français, exclusivement belge, théâtre exclusivement, bonnes pièces, Grande Revue, mkmm cttaëpéiittTïOë, cttaëpéiittTïOë tfc, ifflBf îStre...\n",
      "KB_JB555_1908-07-30_01-00005.txt\n",
      "KB_JB555_1908-07-30_01-00005.txt mentions these keywords: Robert Godineau, grand jardin, beau jardin, d'une gare, Autriche Rente, Rente cour, petit jardin, minutes d'une, maison moderne...\n",
      "KB_JB555_1910-09-26_01-00003.txt\n",
      "KB_JB555_1910-09-26_01-00003.txt mentions these keywords: monsieur Kainz, C'est Kainz, Kainz reçut, Kainz fut, roi Louis, moment Kainz, Bonne année, Kainz fit, Kainz artiste, tragédien Kainz, Kainz naquit...\n",
      "KB_JB555_1911-10-30_01-00004.txt\n",
      "KB_JB555_1911-10-30_01-00004.txt mentions these keywords: vie musicale, c'est vivre, unie richesse, Bouquets fanés, c'est mourir, vie nouvelle, d'une vie, Liszt fut, c'est assurément, François Léonard...\n",
      "KB_JB555_1912-04-07_01-00002.txt\n",
      "KB_JB555_1912-04-07_01-00002.txt mentions these keywords: nouveau ministre, FRÉQUENTATION SCOLAIRE, simplicité élé, gante l'impuissance, l'impuissance gouvernementale, Fernand Halleux, Paul Wilmotte, Albert Lamarche, baron Fernand...\n",
      "KB_JB555_1912-04-19_01-00002.txt\n",
      "KB_JB555_1912-04-19_01-00002.txt mentions these keywords: home rule, Palace Hôtel, grande phase, John Redmond, Madrid Palace, van der, croissant solaire...\n",
      "KB_JB555_1913-09-25_01-00005.txt\n",
      "KB_JB555_1913-09-25_01-00005.txt mentions these keywords: importations belges, Afrique australe, pierres précieuses, couche moyenne...\n",
      "KB_JB555_1913-10-11_01-00002.txt\n",
      "KB_JB555_1913-10-11_01-00002.txt mentions these keywords: Louis Veuillot, mmmestaaammamm Constantinople, Comité Central, projet scolaire, conseil communal, situation politique, Conseil supérieur, conseil provincial, attaques albanaises, députation permanente, parti unioniste, nouvelle campagne...\n",
      "KB_JB555_1913-10-23_01-00005.txt\n",
      "KB_JB555_1913-10-23_01-00005.txt mentions these keywords: LTODEPEND-ANCE BELGE, BELGE Commerce, Brut Net, CORRESPONDANTS BEVUE, BEVUE METALLURGIQUE, mmmm LTODEPEND-ANCE, grosses planètes...\n",
      "KB_JB555_1914-02-02_01-00004.txt\n",
      "KB_JB555_1914-02-02_01-00004.txt mentions these keywords: mot primitif, radical simple, l'Espéranto primitif, mot simple, immédiatement dérivés, général Bizot, verbe immédiatement, substantif immédiatement, dérivé d'un, légende n'est, mot composé, mots simples...\n",
      "KB_JB555_1914-05-18_01-00004.txt\n",
      "KB_JB555_1914-05-18_01-00004.txt mentions these keywords: Vie Heureuse, Von Essen, Vie militaire, seulement d'une...\n",
      "KB_JB555_1919-04-28_01-00003.txt\n",
      "KB_JB555_1919-04-28_01-00003.txt mentions these keywords: Viande congelée, viandes congelées, l'armée belge, grande guerre, transports frigorifiques, viande fraîche, nourrir convenablement, sus société, Société coopérative, grandes villes, Navire anglais, guerre qu'il...\n",
      "KB_JB555_1919-05-26_01-00003.txt\n",
      "KB_JB555_1919-05-26_01-00003.txt mentions these keywords: ire classe, Commission intercommunale, Conseil communal, CROIX MILITAIRE, nouveau riche, d'un jour, Nouveaux Riches, Van Meenen, aciéries allemandes, dimanche matin, jour qu'il, étrangers nui, croix civique...\n",
      "KB_JB555_1921-10-20_01-00003.txt\n",
      "KB_JB555_1921-10-20_01-00003.txt mentions these keywords: Gouvernement français, gouvernement luxembourgeois, relations économiques, gouvernement belge, gouvernement grand-ducal, BELGE Jfc, chargé d'affaires, L'Accord Belgo-Luxembourgeois, Nation Belge...\n",
      "KB_JB555_1925-01-30_01-00001.txt\n",
      "KB_JB555_1925-01-30_01-00001.txt mentions these keywords: gauche libérale, qu'il faut, discours qu'il, parti libéral, Milly qu'il, conserver Milly...\n",
      "KB_JB555_1925-10-10_01-00001.txt\n",
      "KB_JB555_1925-10-10_01-00001.txt mentions these keywords: parti libéral, ministre Finances, n'est perdu, ministre allemand...\n",
      "KB_JB555_1929-05-16_01-00003.txt\n",
      "KB_JB555_1929-05-16_01-00003.txt mentions these keywords: Jean Heuriaut, Laurent Renzaro, SOUVENIRS D'UN, C'est Laurent, Albert Giraud, Jean Heûrtaut, L'Indépendance Belg, JEAN TOUSSEUL, langue qu'il, Joseph Jolinon, langue française, d'un ami, qu'il faut...\n",
      "KB_JB555_1930-06-04_01-00003.txt\n",
      "KB_JB555_1930-06-04_01-00003.txt mentions these keywords: pompier David, eur Gomment, rue VIsconti, Gomment l'on, Congrès International, Bureau International, l'enseignement secondaire, Gabriel Hanotaux, rue Casslni, faisait apposer, prim eur, l'Immeuble situé, séjour qu'y, qu'y fit, Idées Balzac...\n",
      "KB_JB555_1930-08-21_01-00004.txt\n",
      "KB_JB555_1930-08-21_01-00004.txt mentions these keywords: Mme Leone, Mme Doire, Grand Théâtre, d'un Gœthe, C'est Leone, Vie Littér, dit Gœthe, madame Leone, vie d'un...\n",
      "KB_JB555_1931-01-17_01-00001.txt\n",
      "KB_JB555_1931-01-17_01-00001.txt mentions these keywords: Monsieur Masson, police Judiciaire, Fulgence Masson, cumuls aveo, BOMBAY Bombay, faire observer, Ministre d'Etat, d'un gouvernement, Hautes Etudes, Gand Tireae...\n",
      "KB_JB555_1931-02-09_01-00001.txt\n",
      "KB_JB555_1931-02-09_01-00001.txt mentions these keywords: centimes Lundi, d'actions privilégiées, cours d'une, PARIS Abonnement, caporal Trésignies, maréchal Pilsudski, porteurs d'actions, Monument Trésignies, c'est l'assemblée, grandes nations, ABONNEMENTS Belgique...\n",
      "KB_JB555_1931-10-01_01-00005.txt\n",
      "KB_JB555_1931-10-01_01-00005.txt mentions these keywords: Christophe Colomb, Ymago mundi, miss Hamston, BELGE JEUDI, Luigi Centurione, qu'il faut, docteur O'Kirty, Bibliothèque nationale, Barthélémy Colomb, iiiiiiiiiiiiiiiiiiiiiiiiiiiiin uiiiiiiiiiniii, mniiiiiiiiiiiiiiiiiiiiiiiimiiiiiiiiiiiiiiiiiiiiiiiiiiiiiiiiiiii iiiiiiiiiiiiiiiiiiiiiiiiii, iiiiiiiiiiiiiiiiiiiiiiiiii iiiiiiiiiiiiiiiiiiiiiiiiiiiiiiHiiiiiiiiiiiiiiiiiiiiiiiiiiiimiiiiiiiiiiiiiiiiiiiiiiiiiiii...\n",
      "KB_JB555_1931-10-31_01-00001.txt\n",
      "KB_JB555_1931-10-31_01-00001.txt mentions these keywords: l'agent Lagey, chômage permanent, Indépendance Belge, LAMPE DELTA, MEILLEURE LAMPE, parti socialiste, gouvernement japonais, gouvernement soviétique, centimes Samedi...\n",
      "KB_JB555_1932-06-12_01-00004.txt\n",
      "KB_JB555_1932-06-12_01-00004.txt mentions these keywords: bat Van, PROFESSIO NNELS, bat Mlle, Van Stalle, routiers Professionnels, Joseph Van, L'INDEPENDANCE BELQE, NNELS Alphonse, Van Hauwaert, Van Hevel, JULES VAN...\n",
      "KB_JB555_1933-08-18_01-00002.txt\n",
      "KB_JB555_1933-08-18_01-00002.txt mentions these keywords: Charles PETTIT, soldats rouges, L'INUCPENDANOE BELC.lL, l'écran touffu, devait réduire, dépouille mortelle, vieille Aloukine, île France...\n",
      "KB_JB555_1933-12-08_01-00006.txt\n",
      "KB_JB555_1933-12-08_01-00006.txt mentions these keywords: Ketti Gallian, jeune fille, BELGE VENDREDI, Don Quichotte, Sylvia Sidney, jeune Française, Judex ressuscite, jeune Ketti, L'INDEPENDANCE BELGE, Symphonie Inachevée, Mortha Eggerth, Hans Jaray...\n",
      "KB_JB555_1934-01-30_01-00002.txt\n",
      "KB_JB555_1934-01-30_01-00002.txt mentions these keywords: Mme Suzy, Suzy Landon, Comtesse Jean, Comte Jean, Paul-Louis HERVIER, Comtesse Cornet, délia Faille, Comtesse John, Mme Jean, Pierre Duchamp, Comtesse Louis, Comtesse Guy...\n",
      "KB_JB555_1934-07-06_01-00004.txt\n",
      "KB_JB555_1934-07-06_01-00004.txt mentions these keywords: mais dans, grand prix, grande fête, état dans, pris dans, demeurant rue, Jeudi matin, voiture dans, sac dans...\n",
      "KB_JB555_1935-06-08_01-00006.txt\n",
      "KB_JB555_1935-06-08_01-00006.txt mentions these keywords: Grands Palais, Congrès international, l'Union internationale, Presse belge, XXIe Congrès, MétrOpOlC Journal, Journal quotidien, Comité exécutif, Congrès régional, JOURNEE EXPOSITION, Associations Internationales, Semaine luxembourgeoise, Pavillon d'Egypte, Tournoi international, MUSIQUE MILITAIRE, XVIIe Congrès...\n",
      "KB_JB555_1936-05-19_01-00005.txt\n",
      "KB_JB555_1936-05-19_01-00005.txt mentions these keywords: l'Entre Sambre, Impressionnant virage, transports effectués, Automobile Aviation, règlement général, Véhicules Automobiles, L'arrêté royal, transports Oes, Grand Prix, compte d'autrui, véhicules automoteurs...\n",
      "KB_JB555_1936-07-17_01-00002.txt\n",
      "KB_JB555_1936-07-17_01-00002.txt mentions these keywords: Bernard GERVAISE, LITTERAIRE Oui, VIE LITTERAIRE, Roi Edouard, l'Ecole Française, Monsieur Farelet, petite femme, Furnes C'est...\n",
      "KB_JB555_1937-01-01_01-00001.txt\n",
      "KB_JB555_1937-01-01_01-00001.txt mentions these keywords: Bonne année, CTEUR POLITIQUE, BONS ELECTRICIENS, Quai d'Orsay, Belgique n'est, c'est l'affaire, Belgique sortait, prétendant Otto, Belgique pourrait, Belgique pourra, l'affaire Linder...\n",
      "KB_JB555_1937-07-09_01-00003.txt\n",
      "KB_JB555_1937-07-09_01-00003.txt mentions these keywords: L'ETRANGER LETTRE, Etat juif, Etat arabe, D'autre part, Gouvernement britannique, gouvernement central, Commission royale, parti fasciste, d'une part, famille Horthy, jeunes fascistes...\n",
      "KB_JB555_1939-04-09_01-00008.txt\n",
      "KB_JB555_1939-04-09_01-00008.txt mentions these keywords: notaire Vanisterbeek, bonne Maison, dit notaire, belle Maison, maison d'habitation, dits notaires, BRUXELLES Etude, Rentier rue, rue Joseph...\n",
      "KB_JB567_1857-11-28_01-00003.txt\n",
      "KB_JB567_1857-11-28_01-00003.txt mentions these keywords: froment blanc, s'est vendu, beurre s'est, seigle s'est...\n",
      "KB_JB567_1859-10-01_01-00003.txt\n",
      "KB_JB567_1859-10-01_01-00003.txt mentions these keywords: peuple romain, monde entier, train impérial, Pape Eugène...\n",
      "KB_JB567_1860-08-05_01-00003.txt\n",
      "KB_JB567_1860-08-05_01-00003.txt mentions these keywords: grand nombre, taches solaires, quartier chrétien...\n",
      "KB_JB567_1862-03-27_01-00003.txt\n",
      "KB_JB567_1862-03-27_01-00003.txt mentions these keywords: Constitution fédérale, Constitution cantonale, haut conseil, conseil fédéral, droit public, culte catholique, religion catholique, travaux publics, haut Etat, l'autorité fédérale, confédération qu'ils...\n",
      "KB_JB567_1867-02-05_01-00002.txt\n",
      "KB_JB567_1867-02-05_01-00002.txt mentions these keywords: Van den, den Branden, plâtre hydraté, Félix Van, baron Van, sessss gnalé...\n",
      "KB_JB567_1873-02-12_01-00002.txt\n",
      "KB_JB567_1873-02-12_01-00002.txt mentions these keywords: Grande Compagnie, conseil communal, février courant, Félix Rotsaer, République Française, résulte d'uno, l'actf réalisable, passif exigible, gouvernement s'est, d'uno situation...\n",
      "KB_JB567_1878-01-28_01-00004.txt\n",
      "KB_JB567_1878-01-28_01-00004.txt mentions these keywords: Namur exc, Landen exc, Lokeren exc, Lille exc, Denderleeuw exc, rue Royale, rue Van, époux Van, enfants au-dessous...\n",
      "KB_JB567_1881-07-16_01-00003.txt\n"
     ]
    },
    {
     "ename": "KeyboardInterrupt",
     "evalue": "",
     "output_type": "error",
     "traceback": [
      "\u001b[0;31m---------------------------------------------------------------------------\u001b[0m",
      "\u001b[0;31mKeyboardInterrupt\u001b[0m                         Traceback (most recent call last)",
      "Cell \u001b[0;32mIn [224], line 6\u001b[0m\n\u001b[1;32m      4\u001b[0m \u001b[39mprint\u001b[39m(f)\n\u001b[1;32m      5\u001b[0m text \u001b[39m=\u001b[39m \u001b[39mopen\u001b[39m(os\u001b[39m.\u001b[39mpath\u001b[39m.\u001b[39mjoin(data_path, f), \u001b[39m'\u001b[39m\u001b[39mr\u001b[39m\u001b[39m'\u001b[39m)\u001b[39m.\u001b[39mread()\n\u001b[0;32m----> 6\u001b[0m keywords \u001b[39m=\u001b[39m kw_extractor\u001b[39m.\u001b[39;49mextract_keywords(text)\n\u001b[1;32m      7\u001b[0m kept \u001b[39m=\u001b[39m []\n\u001b[1;32m      8\u001b[0m \u001b[39mfor\u001b[39;00m kw, score \u001b[39min\u001b[39;00m keywords:\n",
      "File \u001b[0;32m~/Desktop/e.ulb/2022_MA2_STIC/1_quadri/tac/tac/tac_venv/lib/python3.10/site-packages/yake/yake.py:64\u001b[0m, in \u001b[0;36mKeywordExtractor.extract_keywords\u001b[0;34m(self, text)\u001b[0m\n\u001b[1;32m     61\u001b[0m     \u001b[39mreturn\u001b[39;00m []\n\u001b[1;32m     63\u001b[0m text \u001b[39m=\u001b[39m text\u001b[39m.\u001b[39mreplace(\u001b[39m'\u001b[39m\u001b[39m\\n\u001b[39;00m\u001b[39m\\t\u001b[39;00m\u001b[39m'\u001b[39m,\u001b[39m'\u001b[39m\u001b[39m \u001b[39m\u001b[39m'\u001b[39m)\n\u001b[0;32m---> 64\u001b[0m dc \u001b[39m=\u001b[39m DataCore(text\u001b[39m=\u001b[39;49mtext, stopword_set\u001b[39m=\u001b[39;49m\u001b[39mself\u001b[39;49m\u001b[39m.\u001b[39;49mstopword_set, windowsSize\u001b[39m=\u001b[39;49m\u001b[39mself\u001b[39;49m\u001b[39m.\u001b[39;49mwindowsSize, n\u001b[39m=\u001b[39;49m\u001b[39mself\u001b[39;49m\u001b[39m.\u001b[39;49mn)\n\u001b[1;32m     65\u001b[0m dc\u001b[39m.\u001b[39mbuild_single_terms_features(features\u001b[39m=\u001b[39m\u001b[39mself\u001b[39m\u001b[39m.\u001b[39mfeatures)\n\u001b[1;32m     66\u001b[0m dc\u001b[39m.\u001b[39mbuild_mult_terms_features(features\u001b[39m=\u001b[39m\u001b[39mself\u001b[39m\u001b[39m.\u001b[39mfeatures)\n",
      "File \u001b[0;32m~/Desktop/e.ulb/2022_MA2_STIC/1_quadri/tac/tac/tac_venv/lib/python3.10/site-packages/yake/datarepresentation.py:30\u001b[0m, in \u001b[0;36mDataCore.__init__\u001b[0;34m(self, text, stopword_set, windowsSize, n, tagsToDiscard, exclude)\u001b[0m\n\u001b[1;32m     28\u001b[0m     \u001b[39mself\u001b[39m\u001b[39m.\u001b[39mfreq_ns[i\u001b[39m+\u001b[39m\u001b[39m1\u001b[39m] \u001b[39m=\u001b[39m \u001b[39m0.\u001b[39m\n\u001b[1;32m     29\u001b[0m \u001b[39mself\u001b[39m\u001b[39m.\u001b[39mstopword_set \u001b[39m=\u001b[39m stopword_set\n\u001b[0;32m---> 30\u001b[0m \u001b[39mself\u001b[39;49m\u001b[39m.\u001b[39;49m_build(text, windowsSize, n)\n",
      "File \u001b[0;32m~/Desktop/e.ulb/2022_MA2_STIC/1_quadri/tac/tac/tac_venv/lib/python3.10/site-packages/yake/datarepresentation.py:83\u001b[0m, in \u001b[0;36mDataCore._build\u001b[0;34m(self, text, windowsSize, n)\u001b[0m\n\u001b[1;32m     81\u001b[0m     candidate\u001b[39m.\u001b[39mappend(block_of_word_obj[w])\n\u001b[1;32m     82\u001b[0m     \u001b[39mself\u001b[39m\u001b[39m.\u001b[39mfreq_ns[\u001b[39mlen\u001b[39m(candidate)] \u001b[39m+\u001b[39m\u001b[39m=\u001b[39m \u001b[39m1.\u001b[39m\n\u001b[0;32m---> 83\u001b[0m     cand \u001b[39m=\u001b[39m composed_word(candidate[::\u001b[39m-\u001b[39;49m\u001b[39m1\u001b[39;49m])\n\u001b[1;32m     84\u001b[0m     \u001b[39mself\u001b[39m\u001b[39m.\u001b[39maddOrUpdateComposedWord(cand)\n\u001b[1;32m     86\u001b[0m \u001b[39m# Add term to the block of words' buffer\u001b[39;00m\n",
      "File \u001b[0;32m~/Desktop/e.ulb/2022_MA2_STIC/1_quadri/tac/tac/tac_venv/lib/python3.10/site-packages/yake/datarepresentation.py:191\u001b[0m, in \u001b[0;36mcomposed_word.__init__\u001b[0;34m(self, terms)\u001b[0m\n\u001b[1;32m    189\u001b[0m      \u001b[39mreturn\u001b[39;00m\n\u001b[1;32m    190\u001b[0m \u001b[39mself\u001b[39m\u001b[39m.\u001b[39mtags \u001b[39m=\u001b[39m \u001b[39mset\u001b[39m([\u001b[39m'\u001b[39m\u001b[39m'\u001b[39m\u001b[39m.\u001b[39mjoin([ w[\u001b[39m0\u001b[39m] \u001b[39mfor\u001b[39;00m w \u001b[39min\u001b[39;00m terms ])])\n\u001b[0;32m--> 191\u001b[0m \u001b[39mself\u001b[39m\u001b[39m.\u001b[39mkw \u001b[39m=\u001b[39m \u001b[39m'\u001b[39m\u001b[39m \u001b[39m\u001b[39m'\u001b[39m\u001b[39m.\u001b[39mjoin( [ w[\u001b[39m1\u001b[39m] \u001b[39mfor\u001b[39;00m w \u001b[39min\u001b[39;00m terms ] )\n\u001b[1;32m    192\u001b[0m \u001b[39mself\u001b[39m\u001b[39m.\u001b[39munique_kw \u001b[39m=\u001b[39m \u001b[39mself\u001b[39m\u001b[39m.\u001b[39mkw\u001b[39m.\u001b[39mlower()\n\u001b[1;32m    193\u001b[0m \u001b[39mself\u001b[39m\u001b[39m.\u001b[39msize \u001b[39m=\u001b[39m \u001b[39mlen\u001b[39m(terms)\n",
      "File \u001b[0;32m~/Desktop/e.ulb/2022_MA2_STIC/1_quadri/tac/tac/tac_venv/lib/python3.10/site-packages/yake/datarepresentation.py:191\u001b[0m, in \u001b[0;36m<listcomp>\u001b[0;34m(.0)\u001b[0m\n\u001b[1;32m    189\u001b[0m      \u001b[39mreturn\u001b[39;00m\n\u001b[1;32m    190\u001b[0m \u001b[39mself\u001b[39m\u001b[39m.\u001b[39mtags \u001b[39m=\u001b[39m \u001b[39mset\u001b[39m([\u001b[39m'\u001b[39m\u001b[39m'\u001b[39m\u001b[39m.\u001b[39mjoin([ w[\u001b[39m0\u001b[39m] \u001b[39mfor\u001b[39;00m w \u001b[39min\u001b[39;00m terms ])])\n\u001b[0;32m--> 191\u001b[0m \u001b[39mself\u001b[39m\u001b[39m.\u001b[39mkw \u001b[39m=\u001b[39m \u001b[39m'\u001b[39m\u001b[39m \u001b[39m\u001b[39m'\u001b[39m\u001b[39m.\u001b[39mjoin( [ w[\u001b[39m1\u001b[39m] \u001b[39mfor\u001b[39;00m w \u001b[39min\u001b[39;00m terms ] )\n\u001b[1;32m    192\u001b[0m \u001b[39mself\u001b[39m\u001b[39m.\u001b[39munique_kw \u001b[39m=\u001b[39m \u001b[39mself\u001b[39m\u001b[39m.\u001b[39mkw\u001b[39m.\u001b[39mlower()\n\u001b[1;32m    193\u001b[0m \u001b[39mself\u001b[39m\u001b[39m.\u001b[39msize \u001b[39m=\u001b[39m \u001b[39mlen\u001b[39m(terms)\n",
      "\u001b[0;31mKeyboardInterrupt\u001b[0m: "
     ]
    }
   ],
   "source": [
    "#extracting kw from all files\n",
    "for f in sorted(files):\n",
    "    if f.endswith(\".txt\"):\n",
    "        print(f)\n",
    "        text = open(os.path.join(data_path, f), 'r').read()\n",
    "        keywords = kw_extractor.extract_keywords(text)\n",
    "        kept = []\n",
    "        for kw, score in keywords:\n",
    "            words = kw.split()\n",
    "            if len(words) == 2:\n",
    "                kept.append(kw)\n",
    "        print(f\"{f} mentions these keywords: {', '.join(kept)}...\")"
   ]
  },
  {
   "attachments": {},
   "cell_type": "markdown",
   "metadata": {},
   "source": [
    "EXTRACTING KW ON all.txt"
   ]
  },
  {
   "cell_type": "code",
   "execution_count": 231,
   "metadata": {},
   "outputs": [
    {
     "name": "stdout",
     "output_type": "stream",
     "text": [
      "Anomalous file: .DS_Store\n"
     ]
    }
   ],
   "source": [
    "# Lister les Fichiers\n",
    "data_path = \"../tp4/all\"\n",
    "files = os.listdir(data_path)\n",
    "\n",
    "for fileName in files:\n",
    "    if fileName.endswith(\"DS_Store\"):\n",
    "        print(f\"Anomalous file: {fileName}\")"
   ]
  },
  {
   "cell_type": "code",
   "execution_count": 232,
   "metadata": {},
   "outputs": [
    {
     "data": {
      "text/plain": [
       "['all.txt', '.DS_Store']"
      ]
     },
     "execution_count": 232,
     "metadata": {},
     "output_type": "execute_result"
    }
   ],
   "source": [
    "len(files)\n",
    "files"
   ]
  },
  {
   "cell_type": "code",
   "execution_count": 233,
   "metadata": {},
   "outputs": [
    {
     "data": {
      "text/plain": [
       "'all.txt'"
      ]
     },
     "execution_count": 233,
     "metadata": {},
     "output_type": "execute_result"
    }
   ],
   "source": [
    "this_file = files[0]\n",
    "this_file"
   ]
  },
  {
   "cell_type": "code",
   "execution_count": 234,
   "metadata": {},
   "outputs": [
    {
     "data": {
      "text/plain": [
       "\".'■ HE! WW.'i I MMlll l Wil l lMJ i iH'-g-H tMTMW*lItr «ouoi i ' tai.i i 'ji'WiiOT' i' ttiipiffi'.i'^ lions, en même temps qu'il y combinait VI o fructueuses ut faire* de publicité et de presse! S. M. .Vnsoelea cédé aux instances dos pu i* sait ta protecteurs et des puissantes protectrices de M. Joset, si M. Anseele o tooêpbé de jouer la comédie de la remise lu dossier au parquet afin que celui-ci rlérido dos sanctions quo comportent lea totée délictueux du directeur d'adminis- ta.i*iioii Joset,\""
      ]
     },
     "execution_count": 234,
     "metadata": {},
     "output_type": "execute_result"
    }
   ],
   "source": [
    "# Récupérer le texte du fichier\n",
    "text = open(os.path.join(data_path,this_file), 'r').read()\n",
    "text[:500]"
   ]
  },
  {
   "cell_type": "code",
   "execution_count": 235,
   "metadata": {},
   "outputs": [
    {
     "data": {
      "text/plain": [
       "[('Société royale belge', 1.815031905376956e-07),\n",
       " ('Monsieur Jean VAN', 1.880312837721939e-07),\n",
       " ('RUE ROYALE FRANCE', 2.4219091350094683e-07),\n",
       " ('Congo belge', 2.849523969199073e-07),\n",
       " ('cours d’une conférence', 2.8772810806922426e-07),\n",
       " ('Cie Congo Belge', 2.9135465864335316e-07),\n",
       " ('BELGIQUE BRUXELLES français', 2.9245955170790866e-07),\n",
       " ('Bruxelles', 3.087257806243034e-07),\n",
       " ('BRUXELLES Vendredi BRUXELLES', 3.609851700488988e-07),\n",
       " ('rue Jules Van', 3.61646076067992e-07),\n",
       " ('Cours jour Mars', 3.6212257178616587e-07),\n",
       " ('rue Jean Van', 4.050487712347595e-07),\n",
       " ('Paris Paris', 4.854979301984312e-07),\n",
       " ('Belgique Hollande Italie', 5.335487792668244e-07),\n",
       " ('Société France Belge', 5.502505451757981e-07),\n",
       " ('York Belgique Hollande', 5.772560259153339e-07),\n",
       " ('MONSIEUR JOSEPH VAN', 5.900058779505061e-07),\n",
       " ('Bruxelles Miss Belgique', 6.096253443293359e-07),\n",
       " ('MADAME Jean Van', 6.681350400875306e-07),\n",
       " ('roi Léopold III', 6.8800168186743e-07),\n",
       " ('BRUXELLES LIBRE BELGIQUE', 6.903208930767581e-07),\n",
       " ('BRUXELLES Paris', 7.043118713466717e-07),\n",
       " ('Belgique', 7.126626294002013e-07),\n",
       " ('rue Van', 7.54284276965565e-07),\n",
       " ('Paris', 7.671736027457082e-07),\n",
       " ('Nouvelle Lune', 8.091833158787787e-07),\n",
       " ('rue Royale', 8.341414256221621e-07),\n",
       " ('Bruxelles samedi soir', 8.443853880222974e-07),\n",
       " ('Société Belge', 8.916374959482466e-07),\n",
       " ('Grand Prix', 9.193332080596943e-07),\n",
       " ('rue', 9.265861651156009e-07),\n",
       " ('Nord Charleroi Nord', 9.29030919679336e-07),\n",
       " ('Mercure Vénus Mars', 9.328209871123827e-07),\n",
       " ('Vénus Mars Jupiter', 9.347663392689297e-07),\n",
       " ('grande société belge', 9.531726974859406e-07),\n",
       " ('fédération Royale Belge', 9.619212444249613e-07),\n",
       " ('Belgique Mgr Van', 9.770081288468345e-07),\n",
       " ('course Paris Bruxelles', 1.0103272247538034e-06),\n",
       " (\"d'une BONNE MAISON\", 1.0314210949150572e-06),\n",
       " ('PARIS FRANCE Mercredi', 1.0477282372765198e-06),\n",
       " ('MONSIEUR Henri VAN', 1.0556294958555182e-06),\n",
       " (\"d'un jeune homme\", 1.0679098334320206e-06),\n",
       " ('Van', 1.0693406321470058e-06),\n",
       " ('Jean Van', 1.0764755123233515e-06),\n",
       " ('cours d’une réunion', 1.0770576692054448e-06),\n",
       " (\"Belgique d'une terre\", 1.0787135446450062e-06),\n",
       " ('New York Times', 1.086861532649652e-06),\n",
       " ('BRUXELLES ANVERS LIEGE', 1.1183841290123246e-06),\n",
       " ('jeune homme', 1.1240827680050038e-06),\n",
       " ('France', 1.157662740711104e-06)]"
      ]
     },
     "execution_count": 235,
     "metadata": {},
     "output_type": "execute_result"
    }
   ],
   "source": [
    "# Extraire les mots clés de ce texte\n",
    "keywords = kw_extractor.extract_keywords(text)\n",
    "keywords"
   ]
  },
  {
   "cell_type": "code",
   "execution_count": 237,
   "metadata": {},
   "outputs": [
    {
     "data": {
      "text/plain": [
       "['Congo belge',\n",
       " 'Paris Paris',\n",
       " 'BRUXELLES Paris',\n",
       " 'rue Van',\n",
       " 'Nouvelle Lune',\n",
       " 'rue Royale',\n",
       " 'Société Belge',\n",
       " 'Grand Prix',\n",
       " 'Jean Van',\n",
       " 'jeune homme']"
      ]
     },
     "execution_count": 237,
     "metadata": {},
     "output_type": "execute_result"
    }
   ],
   "source": [
    "# Ne garder que les bigrammes\n",
    "kept = []\n",
    "for kw, score in keywords:\n",
    "    words = kw.split()\n",
    "    if len(words) == 2:\n",
    "        kept.append(kw)\n",
    "kept"
   ]
  },
  {
   "attachments": {},
   "cell_type": "markdown",
   "metadata": {},
   "source": [
    "WORDCLOUDS ON SPECIFIC YEARS"
   ]
  },
  {
   "cell_type": "code",
   "execution_count": null,
   "metadata": {},
   "outputs": [],
   "source": [
    "#sw list\n",
    "sw = stopwords.words(\"french\")\n",
    "sw += [#sw for all contexts:\n",
    "       # déterminants et pronoms\n",
    "       \"celle\", \"celui\", \"cet\", \"cette\", \"ceux\", \"chaque\", \"elles\", \"ils\", \"la\", \"le\", \"leurs\",\n",
    "       \"les\", \"plusieurs\", \"quelques\", \"toutes\",\n",
    "\n",
    "       # abréviations\n",
    "       \"réf\", \"rens\", \"sal\", \"eng\", \"puis\", \"déjà\", \"tel\", \"apr\", \"sal\",\n",
    "       \"mat\", \"mén\", \"chf\", \"rem\", \"fem\",  \"cft\", \"poss\", \"conf\", \"aven\",\n",
    "       \"coiff\", \"sit\", \"bil\", \"jrs\", \"adr\", \"dem\", \"trav\", \"mod\", \"comm\",\n",
    "       \"pet\", \"chauff\", \"maz\", \"act\", \"serv\", \"pts\", \"env\", \"emp\", \"max\",\n",
    "       \"curr\", \"ouv\", \"rapp\",\n",
    "\n",
    "       # divers\n",
    "       \"plus\", \"fait\", \"faire\", \"être\", \"deux\", \"comme\", \"dont\", \"tout\",\"pendant\", \n",
    "       \"moins\", \"dire\", \"cela\", \"non\", \"faut\", \"trois\", \"aussi\", \"dit\", \"avoir\", \n",
    "       \"doit\", \"contre\", \"depuis\", \"autres\",  \"hommes\", \"dames\", \"homme\", \"chez\",\n",
    "       \"cependant\", \"car\", \"fille\", \"van\", \"het\", \"entre\", \"encore\", \"autre\", \n",
    "       \"jusqu\", \"monsieur\", \"dame\", \"etc\", \"vis\", \"avant\", \"lieu\", \"peu\", \"jean\", \n",
    "       \"dès\", \"voit\", \"bien\", \"sans\", \"peut\", \"tous\", \"après\", \"ainsi\", \"donc\", \n",
    "       \"sous\", \"toute\", \"fois\", \"trop\", \"dés\", \"femme\", \"assez\", \"très\", \"alors\",\n",
    "       \"mme\", \"vers\", \"pierre\", \"belges\", \"and\", \"demi\",\n",
    "\n",
    "       #//////////////////////////////////////////////////////////////////////////\n",
    "       #sw by specific contexts:\n",
    "       # météo et temporalité\n",
    "       \"année\", \"pays\", \"temps\", \"samedi\", \"saint\", \"jour\", \"septembre\", \"sept\",\n",
    "       \"octobre\", \"novembre\", \"décembre\", \"janvier\", \"février\", \"avril\", \n",
    "       \"mai\", \"juin\", \"juillet\", \"août\", \"sam\", \"samedi\", \"matin\", \"midi\", \"fin\", \n",
    "       \"dimanche\", \"lundi\", \"mardi\", \"mercredi\", \"jeudi\", \"vendredi\",\n",
    "\n",
    "       #immobilier petites annonces\n",
    "       \"ville\", \"rossel\", \"app\", \"ter\", \"tél\", \"rue\", \"maison\", \"villa\", \"porte\", \n",
    "       \"avenue\", \"chb\", \"prix\", \"agence\", \"appart\", \"liv\", \"téléph\", \"louer\", \"terr\", \n",
    "       \"centre\", \"terrain\", \"grand\", \"cuis\", \"libre\", \"cours\", \"part\", \"ares\", \n",
    "       \"étage\", \"lib\", \"grd\", \"belge\", \"belgique\", \"prés\", \"place\", \"chff\", \"bel\", \n",
    "       \"rez\", \"offre\", \"vendre\", \"garage\", \"sdb\", \"parc\", \"jardin\", \"lux\", \"vente\", \n",
    "       \"francs\", \"int\", \"imm\", \"près\", \"salle\", \"vue\", \"enfants\", \"eau\", \"situation\", \n",
    "       \"tour\", \"sud\", \"appartements\", \"chambres\", \"recherche\", \"jard\", \"gar\", \"hall\",\n",
    "       \"chée\", \"flats\", \"faç\", \"chaussée\", \"quartier\", \"cuisine\",\n",
    "\n",
    "       # villes et lieux belges\n",
    "       \"waterloo\", \"namur\", \"anvers\", \"charleroi\", \"liège\", \"anderlecht\",\n",
    "       \"uccle\", \"louise\", \"bruxelles\", \"brux\", \"forest\", \"schaerbeek\", \"bxl\", \n",
    "       \"ixelles\", \"brabant\", \"wavre\", \"louvain\", \"gand\", \"woluwe\", \"lambert\",\n",
    "       \"mons\", \"jette\", \n",
    "\n",
    "       #job\n",
    "       \"demande\", \"agence\", \"heures\", \"service\", \"ans\", \"engage\", \"ecr\", \"bilingue\", \n",
    "       \"mois\", \"ecrire\", \"madame\", \"présenter\", \"jours\", \"soir\", \"bur\", \"bureau\", \n",
    "       \"cherche\", \"bon\", \"bonne\", \"travail\", \"téléphone\", \"dactylo\", \"hres\", \"jeune\",\n",
    "       \"vitae\", \"curriculum\", \"français\", \"semaine\", \"expérience\", \"sem\", \"jeunes\",\n",
    "       \"pers\", \"serveuse\", \"min\", \"jne\", \"cond\"]\n",
    "       \n",
    "sw = set(sw)"
   ]
  },
  {
   "cell_type": "code",
   "execution_count": null,
   "metadata": {},
   "outputs": [],
   "source": [
    "# Ecrire tout le contenu dans un fichier temporaire\n",
    "temp_path = '../all/tmp'\n",
    "if not os.path.exists(temp_path):\n",
    "    os.mkdir(temp_path)\n",
    "with open(os.path.join(temp_path, f'{year}.txt'), 'w') as f:\n",
    "    f.write(' '.join(content_list))"
   ]
  }
 ],
 "metadata": {
  "kernelspec": {
   "display_name": "tac_venv",
   "language": "python",
   "name": "python3"
  },
  "language_info": {
   "codemirror_mode": {
    "name": "ipython",
    "version": 3
   },
   "file_extension": ".py",
   "mimetype": "text/x-python",
   "name": "python",
   "nbconvert_exporter": "python",
   "pygments_lexer": "ipython3",
   "version": "3.10.7"
  },
  "orig_nbformat": 4,
  "vscode": {
   "interpreter": {
    "hash": "22eb57bff7284fa477302938a752c329165cd0000dc5945798efe1987041d9d3"
   }
  }
 },
 "nbformat": 4,
 "nbformat_minor": 2
}

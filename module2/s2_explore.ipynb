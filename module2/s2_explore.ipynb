{
 "cells": [
  {
   "cell_type": "markdown",
   "metadata": {},
   "source": [
    "# Explorer un corpus"
   ]
  },
  {
   "cell_type": "markdown",
   "metadata": {},
   "source": [
    "## Imports"
   ]
  },
  {
   "cell_type": "code",
   "execution_count": 81,
   "metadata": {},
   "outputs": [],
   "source": [
    "from collections import defaultdict\n",
    "import os\n",
    "\n",
    "import matplotlib.pyplot as plt\n",
    "import numpy as np"
   ]
  },
  {
   "cell_type": "markdown",
   "metadata": {},
   "source": [
    "## Compter le nombre de documents dans le corpus"
   ]
  },
  {
   "cell_type": "code",
   "execution_count": 82,
   "metadata": {},
   "outputs": [
    {
     "data": {
      "text/plain": [
       "1632"
      ]
     },
     "execution_count": 82,
     "metadata": {},
     "output_type": "execute_result"
    }
   ],
   "source": [
    "path = \"../tp4/datas/\"\n",
    "files = sorted(os.listdir(path))\n",
    "len(files)"
   ]
  },
  {
   "cell_type": "markdown",
   "metadata": {},
   "source": [
    "## Explorer les noms de fichier"
   ]
  },
  {
   "cell_type": "markdown",
   "metadata": {},
   "source": [
    "Nous allons manipuler ici les chaines de caractères.\n",
    "\n",
    "Il s'agit de la classe `str` en Python.\n",
    "\n",
    "Pour en savoir plus : https://openclassrooms.com/fr/courses/235344-apprenez-a-programmer-en-python/231888-creez-votre-premier-objet-les-chaines-de-caracteres"
   ]
  },
  {
   "cell_type": "code",
   "execution_count": 95,
   "metadata": {},
   "outputs": [],
   "source": [
    "chaine = 'KB_JB838_1887-12-22_01-00001'\n",
    "type(chaine)"
   ]
  },
  {
   "cell_type": "code",
   "execution_count": 84,
   "metadata": {},
   "outputs": [
    {
     "data": {
      "text/plain": [
       "['KB', 'JB838', '1887-12-22', '01-00001']"
      ]
     },
     "execution_count": 84,
     "metadata": {},
     "output_type": "execute_result"
    }
   ],
   "source": [
    "# la méthode split\n",
    "chaine_split = chaine.split('_')\n",
    "chaine_split"
   ]
  },
  {
   "cell_type": "code",
   "execution_count": 85,
   "metadata": {},
   "outputs": [],
   "source": [
    "# Accéder à la date\n",
    "date = chaine_split[2]\n",
    "\n",
    "# Accéder à l'année\n",
    "date_split = date.split('-')\n",
    "year = date_split[0]"
   ]
  },
  {
   "cell_type": "code",
   "execution_count": 86,
   "metadata": {},
   "outputs": [
    {
     "data": {
      "text/plain": [
       "'188'"
      ]
     },
     "execution_count": 86,
     "metadata": {},
     "output_type": "execute_result"
    }
   ],
   "source": [
    "# Manipuler les str pour convertir une année en décennie\n",
    "year[:3]"
   ]
  },
  {
   "cell_type": "code",
   "execution_count": 87,
   "metadata": {},
   "outputs": [
    {
     "data": {
      "text/plain": [
       "'7'"
      ]
     },
     "execution_count": 87,
     "metadata": {},
     "output_type": "execute_result"
    }
   ],
   "source": [
    "year[-1]"
   ]
  },
  {
   "cell_type": "code",
   "execution_count": 88,
   "metadata": {},
   "outputs": [
    {
     "data": {
      "text/plain": [
       "'1880s'"
      ]
     },
     "execution_count": 88,
     "metadata": {},
     "output_type": "execute_result"
    }
   ],
   "source": [
    "year[:3] + '0s'"
   ]
  },
  {
   "cell_type": "markdown",
   "metadata": {},
   "source": [
    "## Quelques statistiques"
   ]
  },
  {
   "cell_type": "code",
   "execution_count": 89,
   "metadata": {},
   "outputs": [],
   "source": [
    "all_years = [str(year) for year in range(1831, 1971)]"
   ]
  },
  {
   "cell_type": "code",
   "execution_count": 90,
   "metadata": {
    "tags": []
   },
   "outputs": [
    {
     "name": "stdout",
     "output_type": "stream",
     "text": [
      "Anomalous file: .DS_Store\n"
     ]
    }
   ],
   "source": [
    "count_decade = defaultdict(int)\n",
    "count_month = defaultdict(int)\n",
    "count_newspapers = defaultdict(int)\n",
    "covered_years = set()\n",
    "\n",
    "for f in files:\n",
    "    if \"_\" in f and f.endswith(\"txt\"):\n",
    "        elems = f.split(\"_\")\n",
    "        \n",
    "        newspaper = elems[1]\n",
    "        \n",
    "        year = elems[2].split(\"-\")[0]\n",
    "        covered_years.add(year)\n",
    "        decade = year[:3] + \"0s\"\n",
    "        \n",
    "        month = int(elems[2].split(\"-\")[1])\n",
    "        \n",
    "        count_decade[decade] += 1\n",
    "        count_newspapers[newspaper] += 1\n",
    "        count_month[month] += 1\n",
    "    else:\n",
    "        print(f\"Anomalous file: {f}\")"
   ]
  },
  {
   "cell_type": "code",
   "execution_count": 91,
   "metadata": {},
   "outputs": [
    {
     "name": "stdout",
     "output_type": "stream",
     "text": [
      "Ce corpus comprend:\n",
      "- 27 exemplaires de l'Avenir du Luxembourg\n",
      "- 107 exemplaires de La Libre Belgique\n",
      "- 80 exemplaires de l'Indépendance Belge\n",
      "- 0 exemplaires de L'Indépendance Belge (édité en Angleterre)\n",
      "- 52 exemplaires du Journal de Bruxelles\n",
      "- 64 exemplaires du Journal de Charleroi\n",
      "- 210 exemplaires de La Meuse\n",
      "- 10 exemplaires du journal Le Petit Bleu\n",
      "- 52 exemplaires du Vingtième Siècle\n",
      "- 51 exemplaires du journal Vers l'Avenir\n",
      "- 37 exemplaires du journal Le Peuple\n",
      "- 883 exemplaires du journal Le Soir\n",
      "- 58 exemplaires du journal Le Drapeau rouge\n"
     ]
    }
   ],
   "source": [
    "print(f\"Ce corpus comprend:\")\n",
    "print(f\"- {count_newspapers ['JB421']} exemplaires de l'Avenir du Luxembourg\")\n",
    "print(f\"- {count_newspapers ['JB427']} exemplaires de La Libre Belgique\")\n",
    "print(f\"- {count_newspapers ['JB555']} exemplaires de l'Indépendance Belge\")\n",
    "print(f\"- {count_newspapers ['JB555A']} exemplaires de L'Indépendance Belge (édité en Angleterre)\")\n",
    "print(f\"- {count_newspapers ['JB567']} exemplaires du Journal de Bruxelles\")\n",
    "print(f\"- {count_newspapers ['JB572']} exemplaires du Journal de Charleroi\")\n",
    "print(f\"- {count_newspapers ['JB638']} exemplaires de La Meuse\")\n",
    "print(f\"- {count_newspapers ['JB685']} exemplaires du journal Le Petit Bleu\")\n",
    "print(f\"- {count_newspapers ['JB729']} exemplaires du Vingtième Siècle\")\n",
    "print(f\"- {count_newspapers ['JB773']} exemplaires du journal Vers l'Avenir\")\n",
    "print(f\"- {count_newspapers ['JB837']} exemplaires du journal Le Peuple\")\n",
    "print(f\"- {count_newspapers ['JB838']} exemplaires du journal Le Soir\")\n",
    "print(f\"- {count_newspapers ['JB1051']} exemplaires du journal Le Drapeau rouge\")"
   ]
  },
  {
   "cell_type": "code",
   "execution_count": 92,
   "metadata": {},
   "outputs": [
    {
     "name": "stdout",
     "output_type": "stream",
     "text": [
      "Ce corpus comprend:\n",
      "- 0 fichiers pour la décennie 1830s\n",
      "- 0 fichiers pour la décennie 1840s\n",
      "- 5 fichiers pour la décennie 1850s\n",
      "- 9 fichiers pour la décennie 1860s\n",
      "- 7 fichiers pour la décennie 1870s\n",
      "- 30 fichiers pour la décennie 1880s\n",
      "- 80 fichiers pour la décennie 1890s\n",
      "- 146 fichiers pour la décennie 1900s\n",
      "- 111 fichiers pour la décennie 1910s\n",
      "- 177 fichiers pour la décennie 1920s\n",
      "- 306 fichiers pour la décennie 1930s\n",
      "- 192 fichiers pour la décennie 1940s\n",
      "- 238 fichiers pour la décennie 1950s\n",
      "- 316 fichiers pour la décennie 1960s\n",
      "- 14 fichiers pour la décennie 1970s\n"
     ]
    }
   ],
   "source": [
    "print(f\"Ce corpus comprend:\")\n",
    "print(f\"- {count_decade['1830s']} fichiers pour la décennie 1830s\")\n",
    "print(f\"- {count_decade['1840s']} fichiers pour la décennie 1840s\")\n",
    "print(f\"- {count_decade['1850s']} fichiers pour la décennie 1850s\")\n",
    "print(f\"- {count_decade['1860s']} fichiers pour la décennie 1860s\")\n",
    "print(f\"- {count_decade['1870s']} fichiers pour la décennie 1870s\")\n",
    "print(f\"- {count_decade['1880s']} fichiers pour la décennie 1880s\")\n",
    "print(f\"- {count_decade['1890s']} fichiers pour la décennie 1890s\")\n",
    "print(f\"- {count_decade['1900s']} fichiers pour la décennie 1900s\")\n",
    "print(f\"- {count_decade['1910s']} fichiers pour la décennie 1910s\")\n",
    "print(f\"- {count_decade['1920s']} fichiers pour la décennie 1920s\")\n",
    "print(f\"- {count_decade['1930s']} fichiers pour la décennie 1930s\")\n",
    "print(f\"- {count_decade['1940s']} fichiers pour la décennie 1940s\")\n",
    "print(f\"- {count_decade['1950s']} fichiers pour la décennie 1950s\")\n",
    "print(f\"- {count_decade['1960s']} fichiers pour la décennie 1960s\")\n",
    "print(f\"- {count_decade['1970s']} fichiers pour la décennie 1970s\")"
   ]
  },
  {
   "cell_type": "code",
   "execution_count": 93,
   "metadata": {},
   "outputs": [
    {
     "name": "stdout",
     "output_type": "stream",
     "text": [
      "Années manquantes: 1831, 1832, 1833, 1834, 1835, 1836, 1837, 1838, 1839, 1840, 1841, 1842, 1843, 1844, 1845, 1846, 1847, 1848, 1849, 1850, 1851, 1852, 1853, 1854, 1855, 1856, 1861, 1864, 1865, 1870, 1871, 1872, 1876, 1877, 1883, 1885, 1915, 1916, 1917\n"
     ]
    }
   ],
   "source": [
    "missing_years = [y for y in all_years if y not in covered_years]\n",
    "print(f\"Années manquantes: {', '.join(missing_years)}\")"
   ]
  },
  {
   "cell_type": "markdown",
   "metadata": {},
   "source": [
    "## Visualisation du nombre de journaux par mois\n",
    "\n",
    "Ces visualisations sont obtenues avec la librairie Matplotlib.\n",
    "\n",
    "Pour en savoir plus : https://openclassrooms.com/fr/courses/4452741-decouvrez-les-librairies-python-pour-la-data-science/4740942-maitrisez-les-possibilites-offertes-par-matplotlib."
   ]
  },
  {
   "cell_type": "code",
   "execution_count": 94,
   "metadata": {},
   "outputs": [
    {
     "data": {
      "image/png": "[encoded data removed]",
      "text/plain": [
       "<Figure size 640x480 with 1 Axes>"
      ]
     },
     "metadata": {},
     "output_type": "display_data"
    }
   ],
   "source": [
    "index = np.arange(len(count_month))\n",
    "plt.bar(index, count_month.values())\n",
    "plt.xlabel('Mois')\n",
    "plt.ylabel('# documents')\n",
    "plt.xticks(index, count_month.keys(), fontsize=8, rotation=30)\n",
    "plt.title('Nombre de documents par mois')\n",
    "plt.show()"
   ]
  }
 ],
 "metadata": {
  "kernelspec": {
   "display_name": "Python 3.10.7 ('tac_venv': venv)",
   "language": "python",
   "name": "python3"
  },
  "language_info": {
   "codemirror_mode": {
    "name": "ipython",
    "version": 3
   },
   "file_extension": ".py",
   "mimetype": "text/x-python",
   "name": "python",
   "nbconvert_exporter": "python",
   "pygments_lexer": "ipython3",
   "version": "3.10.7 (v3.10.7:6cc6b13308, Sep  5 2022, 14:02:52) [Clang 13.0.0 (clang-1300.0.29.30)]"
  },
  "vscode": {
   "interpreter": {
    "hash": "22eb57bff7284fa477302938a752c329165cd0000dc5945798efe1987041d9d3"
   }
  }
 },
 "nbformat": 4,
 "nbformat_minor": 4
}

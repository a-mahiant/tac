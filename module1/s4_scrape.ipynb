{
 "cells": [
  {
   "cell_type": "markdown",
   "metadata": {},
   "source": [
    "# Scraping: récupération de la page d'accueil du journal Le Soir\n",
    "\n",
    "Dans ce notebook, nous créons un robot qui va ouvrir la page d'accueil du site du journal [Le Soir](https://www.lesoir.be/) et récupérer le titre de tous les articles du jour et les stocker dans un fichier csv."
   ]
  },
  {
   "cell_type": "markdown",
   "metadata": {},
   "source": [
    "## Imports"
   ]
  },
  {
   "cell_type": "code",
   "execution_count": 1,
   "metadata": {},
   "outputs": [],
   "source": [
    "import os\n",
    "import re\n",
    "import time\n",
    "import requests\n",
    "from bs4 import BeautifulSoup\n",
    "import pandas as pd"
   ]
  },
  {
   "cell_type": "markdown",
   "metadata": {},
   "source": [
    "## Récupération de tous les articles de la page d'accueil\n",
    "\n"
   ]
  },
  {
   "cell_type": "code",
   "execution_count": 5,
   "metadata": {},
   "outputs": [
    {
     "data": {
      "text/plain": [
       "[['https://www.lesoir.be/470628/article/2022-10-11/le-gouvernement-survit-lepreuve-budgetaire-de-croo-se-relance',\n",
       "  'Décodage\\nLe gouvernement survit à l’épreuve budgétaire, De Croo se relance'],\n",
       " ['https://www.lesoir.be/470604/article/2022-10-11/des-dizaines-de-civils-dont-un-enfant-exhumes-dans-les-villes-reconquises-par',\n",
       "  'Des dizaines de civils, dont un enfant, exhumés dans les villes reconquises par l’armée ukrainienne'],\n",
       " ['https://www.lesoir.be/470526/article/2022-10-11/sauve-par-des-soldats-russes-et-des-medecins-ukrainiens-un-journaliste-italien',\n",
       "  'Sauvé par des soldats russes et des médecins ukrainiens, un journaliste italien témoigne'],\n",
       " ['https://www.lesoir.be/470642/article/2022-10-11/un-vaisseau-de-la-nasa-reussi-devier-un-asteroide-de-sa-trajectoire-un-moment',\n",
       "  'Un vaisseau de la Nasa a réussi à dévier un astéroïde de sa trajectoire: «Un moment décisif pour l’humanité»'],\n",
       " ['https://www.lesoir.be/470641/article/2022-10-11/ligue-des-champions-hazard-titulaire-avec-le-real-le-psg-peut-se-qualifier-pour',\n",
       "  'Ligue des champions: Hazard titulaire avec le Real, le PSG peut se qualifier pour les 8es (direct à 21h)'],\n",
       " ['https://www.lesoir.be/470621/article/2022-10-11/cest-reparti-pour-une-nouvelle-saga-mbappe',\n",
       "  'Analyse\\nC’est reparti pour une nouvelle saga Mbappé'],\n",
       " ['https://www.lesoir.be/470618/article/2022-10-11/podcast-que-faut-il-retenir-de-laccord-budgetaire',\n",
       "  'Podcast – Que faut-il retenir de l’accord budgétaire?'],\n",
       " ['https://www.lesoir.be/470587/article/2022-10-11/bruxelles-des-changements-autour-de-la-place-flagey-des-la-fin-du-mois-doctobre',\n",
       "  'Bruxelles: des changements autour de la place Flagey dès la fin du mois d’octobre'],\n",
       " ['https://www.lesoir.be/470596/article/2022-10-11/charbon-ou-nucleaire-greta-thunberg-tranche',\n",
       "  'Charbon ou nucléaire? Greta Thunberg a tranché'],\n",
       " ['https://www.lesoir.be/470610/article/2022-10-11/chaos-migratoire-fedasil-est-contraint-de-laisser-des-ados-la-rue',\n",
       "  'Chaos migratoire: Fedasil est contraint de laisser des ados à la rue'],\n",
       " ['https://www.lesoir.be/470640/article/2022-10-11/gelees-plus-de-20-degres-voici-les-previsions-meteo-paradoxales-des-prochains',\n",
       "  'Gelées, plus de 20 degrés… voici les prévisions météo paradoxales des prochains jours'],\n",
       " ['https://www.lesoir.be/470614/article/2022-10-11/enquete-comment-vous-sentez-vous-face-toutes-ces-crises',\n",
       "  'Enquête: comment vous sentez-vous face à toutes ces crises?'],\n",
       " ['https://www.lesoir.be/470627/article/2022-10-11/le-roi-charles-iii-sera-couronne-le-6-mai-labbaye-de-westminster',\n",
       "  'Le roi Charles III sera couronné le 6 mai à l’abbaye de Westminster'],\n",
       " ['https://www.lesoir.be/470583/article/2022-10-11/france-le-gouvernement-choisit-la-force-pour-debloquer-les-raffineries',\n",
       "  'France: le gouvernement choisit la force pour débloquer les raffineries'],\n",
       " ['https://www.lesoir.be/470430/article/2022-10-11/un-accord-sur-le-budget-federal-les-mesures-daide-pour-lenergie-sont-prolongees',\n",
       "  'Un accord sur le budget fédéral: les mesures d’aide pour l’énergie sont prolongées tout l’hiver'],\n",
       " ['https://www.lesoir.be/469982/article/2022-10-07/le-conseiller-ps-le-policier-ripou-et-les-400-kilos-de-coke',\n",
       "  'Le conseiller PS, le policier ripou et les 400 kilos de coke'],\n",
       " ['https://www.lesoir.be/469985/article/2022-10-08/crise-energetique-une-chute-du-pouvoir-dachat-dune-ampleur-inedite-surtout-pour',\n",
       "  'Dossier\\nCrise énergétique: une chute du pouvoir d’achat d’une ampleur inédite, surtout pour la petite classe moyenne (infographies)'],\n",
       " ['https://www.lesoir.be/470633/article/2022-10-11/budget-negocier-au-finish-cest-du-belge',\n",
       "  'Budget: négocier au finish, c’est du belge!'],\n",
       " ['https://www.lesoir.be/470628/article/2022-10-11/le-gouvernement-survit-lepreuve-budgetaire-de-croo-se-relance',\n",
       "  'Décodage\\nLe gouvernement survit à l’épreuve budgétaire, De Croo se relance'],\n",
       " ['https://www.lesoir.be/470618/article/2022-10-11/podcast-que-faut-il-retenir-de-laccord-budgetaire',\n",
       "  'Podcast – Que faut-il retenir de l’accord budgétaire?'],\n",
       " ['https://www.lesoir.be/469983/article/2022-10-08/yves-van-laethem-sur-la-remontee-du-coronavirus-il-serait-etonnant-quon-ait',\n",
       "  'Entretien\\nYves Van Laethem sur la remontée du coronavirus: «Il serait étonnant qu’on ait encore un problème de santé publique»'],\n",
       " ['https://www.lesoir.be/470318/article/2022-10-10/au-palais-royal-aussi-renove-et-economise-lenergie',\n",
       "  'Au Palais royal aussi, on rénove et on économise l’énergie'],\n",
       " ['https://www.lesoir.be/469254/article/2022-10-04/comment-metoo-change-les-mentalites',\n",
       "  'Grand format\\nComment #MeToo a changé les mentalités'],\n",
       " ['https://www.lesoir.be/470640/article/2022-10-11/gelees-plus-de-20-degres-voici-les-previsions-meteo-paradoxales-des-prochains',\n",
       "  'Gelées, plus de 20 degrés… voici les prévisions météo paradoxales des prochains jours'],\n",
       " ['https://www.lesoir.be/470638/article/2022-10-11/medecins-en-formation-le-controle-du-temps-de-travail-semble-deficient',\n",
       "  'Médecins en formation: «Le contrôle du temps de travail semble déficient»'],\n",
       " ['https://www.lesoir.be/470319/article/2022-10-10/christo-grozev-si-ca-continue-poutine-tombera-dici-un',\n",
       "  'Christo Grozev: «Si ça continue, Poutine tombera d’ici un an»'],\n",
       " ['https://www.lesoir.be/470167/article/2022-10-09/larmee-ukrainienne-mene-la-danse-partout-selon-lexpert-joseph-henrotin',\n",
       "  \"Entretien\\n«L’armée ukrainienne mène la danse partout», selon l'expert Joseph Henrotin\"],\n",
       " ['https://www.lesoir.be/470160/article/2022-10-09/le-prince-saoudien-mbs-regle-ses-comptes-avec-biden',\n",
       "  'Le prince saoudien MBS règle ses comptes avec Biden'],\n",
       " ['https://www.lesoir.be/470635/article/2022-10-11/suisse-un-ado-de-14-ans-roule-plus-de-200kmh-sur-lautoroute-avec-la-voiture-de',\n",
       "  'Suisse: un ado de 14 ans roule à plus de 200km/h sur l’autoroute avec la voiture de son père'],\n",
       " ['https://www.lesoir.be/470634/article/2022-10-11/le-professeur-dhistoire-militaire-kris-quanten-poutine-na-plus-beaucoup-doptions',\n",
       "  'Entretien\\nLe professeur d’histoire militaire Kris Quanten: «Poutine n’a plus beaucoup d’options»'],\n",
       " ['https://www.lesoir.be/470627/article/2022-10-11/le-roi-charles-iii-sera-couronne-le-6-mai-labbaye-de-westminster',\n",
       "  'Le roi Charles III sera couronné le 6 mai à l’abbaye de Westminster'],\n",
       " ['https://www.lesoir.be/470366/article/2022-10-10/joe-biden-deroule-le-tapis-rouge-aux-donnees-europeennes',\n",
       "  'Joe Biden déroule le tapis rouge aux données européennes'],\n",
       " ['https://www.lesoir.be/470450/article/2022-10-11/teletravail-puis-je-reclamer-un-dedommagement-mon-employeur-pour-ma-facture',\n",
       "  'Télétravail: puis-je réclamer un dédommagement à mon employeur pour ma facture d’énergie?'],\n",
       " ['https://www.lesoir.be/470357/article/2022-10-10/benoit-deper-daerospacelab-lusine-de-satellites-va-nous-permettre-de-garder',\n",
       "  'Entretien\\nBenoît Deper, d’Aerospacelab: «L’usine de satellites va nous permettre de garder notre avance»'],\n",
       " ['https://www.lesoir.be/470615/article/2022-10-11/budget-federal-febelfin-alerte-sur-les-consequences-dune-hausse-de-la-taxe',\n",
       "  'Budget fédéral: Febelfin alerte sur les conséquences d’une hausse de la taxe bancaire'],\n",
       " ['https://www.lesoir.be/470596/article/2022-10-11/charbon-ou-nucleaire-greta-thunberg-tranche',\n",
       "  'Charbon ou nucléaire? Greta Thunberg a tranché'],\n",
       " ['https://www.lesoir.be/470621/article/2022-10-11/cest-reparti-pour-une-nouvelle-saga-mbappe',\n",
       "  'Analyse\\nC’est reparti pour une nouvelle saga Mbappé'],\n",
       " ['https://www.lesoir.be/470632/article/2022-10-11/eden-hazard-titulaire-avec-le-real-contre-le-shakhtar-donetsk',\n",
       "  'Eden Hazard titulaire avec le Real contre le Shakhtar Donetsk'],\n",
       " ['https://www.lesoir.be/470517/article/2022-10-11/kylian-mbappe-veut-quitter-le-psg-en-janvier',\n",
       "  'Kylian Mbappé veut quitter le PSG en janvier'],\n",
       " ['https://www.lesoir.be/470637/article/2022-10-11/pas-encore-de-fumee-blanche-dans-le-dossier-amallah-au-standard',\n",
       "  'Pas encore de fumée blanche dans le dossier Amallah au Standard'],\n",
       " ['https://www.lesoir.be/470588/article/2022-10-11/ligue-des-champions-ferran-jutgla-un-retour-en-espagne-par-la-grande-porte',\n",
       "  'Analyse\\nLigue des champions: Ferran Jutglà, un retour en Espagne par la grande porte'],\n",
       " ['https://www.lesoir.be/470528/article/2022-10-11/la-qualification-pour-les-huitiemes-de-finale-de-la-ligue-des-champions-est',\n",
       "  'La qualification pour les huitièmes de finale de la Ligue des champions est toute proche: un partage à l’Atlético Madrid suffit au bonheur du Club de Bruges'],\n",
       " ['https://www.lesoir.be/470488/article/2022-10-11/les-trente-ans-daka-moon-au-festival-des-libertes-cest-trente-ans-de-reves',\n",
       "  'Entretien\\nLes trente ans d’Aka Moon au Festival des Libertés: «C’est trente ans de rêves»'],\n",
       " ['https://www.lesoir.be/470508/article/2022-10-11/le-petit-nicolas-quest-ce-quon-attend-pour-etre-heureux',\n",
       "  'Critique\\nLe Petit Nicolas: qu’est-ce qu’on attend pour être heureux?'],\n",
       " ['https://www.lesoir.be/470511/article/2022-10-11/sebastien-marnier-propos-de-lorigine-du-mal-le-cinema-de-genre-nest-plus-un-gros',\n",
       "  'Entretien\\nSébastien Marnier à propos de «L’origine du mal»: «Le cinéma de genre n’est plus un gros mot»'],\n",
       " ['https://www.lesoir.be/470631/article/2022-10-11/anne-goscinny-le-petit-nicolas-cest-lenfance-revee',\n",
       "  'Anne Goscinny: «Le petit Nicolas, c’est l’enfance rêvée»'],\n",
       " ['https://www.lesoir.be/470630/article/2022-10-11/podcast-une-retrospective-sempe-la-fondation-folon',\n",
       "  'Podcast – Une rétrospective Sempé à la Fondation Folon'],\n",
       " ['https://www.lesoir.be/470625/article/2022-10-11/martine-gossieaux-son-epouse-tout-etait-imagination-chez-jean-jacques-sempe',\n",
       "  'Entretien\\nMartine Gossieaux, son épouse: «Tout était imagination chez Jean-Jacques Sempé»'],\n",
       " ['https://www.lesoir.be/470572/article/2022-10-11/le-petit-nicolas-lorigine-du-mal-simone-les-5-sorties-cinema-ne-pas-manquer',\n",
       "  '«Le petit Nicolas», «L’origine du mal», «Simone»...: les 5 sorties cinéma à ne pas manquer cette semaine'],\n",
       " ['https://www.lesoir.be/470496/article/2022-10-11/louis-garrel-propos-de-linnocent-ma-mere-est-une-heroine-pour-qui-je-minquiete',\n",
       "  'Entretien\\nLouis Garrel à propos de «L’innocent»: «Ma mère est une héroïne pour qui je m’inquiète»'],\n",
       " ['https://www.lesoir.be/470321/article/2022-10-10/manset-ramazzotti-lynn-cassiers-les-5-disques-ne-pas-manquer-cette-semaine',\n",
       "  'Manset, Ramazzotti, Lynn Cassiers...: les 5 disques à ne pas manquer cette semaine'],\n",
       " ['https://www.lesoir.be/469757/article/2022-10-06/justine-bougerol-arie-mandelbaum-les-cinq-expos-ne-pas-manquer-cette-semaine',\n",
       "  'Justine Bougerol, Arié Mandelbaum...: les cinq expos à ne pas manquer cette semaine'],\n",
       " ['https://www.lesoir.be/469752/article/2022-10-06/hedda-desobeir-les-cinq-spectacles-ne-pas-manquer-cette-semaine',\n",
       "  '«Hedda», «Désobéir»... : les cinq spectacles à ne pas manquer cette semaine'],\n",
       " ['https://www.lesoir.be/469249/article/2022-10-04/les-coups-de-coeur-du-mad-video',\n",
       "  'Vidéo\\nLes coups de cœur du MAD (vidéo)'],\n",
       " ['https://www.lesoir.behttps://clubdusoir.lesoir.be/the-libertines-cirque-royal',\n",
       "  'Concert de The Libertines'],\n",
       " ['https://www.lesoir.behttps://clubdusoir.lesoir.be/joan-miro',\n",
       "  'Exposition \"Joan Miró. L\\'essence des choses passées et présentes\"'],\n",
       " ['https://www.lesoir.behttps://clubdusoir.lesoir.be/quadrille',\n",
       "  \"Pièce 'Quadrille' de Sacha Guitry\"],\n",
       " ['https://www.lesoir.behttps://clubdusoir.lesoir.be/the-four-tops-and-the-temptations',\n",
       "  'Concert de The Four Tops & The Temptations'],\n",
       " ['https://www.lesoir.be/470312/article/2022-10-10/des-regions-entieres-vont-devenir-invivables-au-cours-des-prochaines-decennies',\n",
       "  'Infographie\\nDes régions entières vont devenir invivables au cours des prochaines décennies: les infographies qui alertent'],\n",
       " ['https://www.lesoir.be/469512/article/2022-10-06/climat-la-desobeissance-civile-la-nouvelle-arme-de-la-mobilisation-citoyenne',\n",
       "  'Climat: la désobéissance civile, la nouvelle arme de la mobilisation citoyenne'],\n",
       " ['https://www.lesoir.be/470076/article/2022-10-08/totalenergies-libere-code-rouge-promet-de-recidiver',\n",
       "  'Reportage\\nTotalEnergies libéré, Code rouge promet de récidiver'],\n",
       " ['https://www.lesoir.be/470596/article/2022-10-11/charbon-ou-nucleaire-greta-thunberg-tranche',\n",
       "  'Charbon ou nucléaire? Greta Thunberg a tranché'],\n",
       " ['https://www.lesoir.be/468363/article/2022-09-29/renover-vite-et-fort-les-grandes-manoeuvres-ont-commence',\n",
       "  'Rénover vite et fort: les grandes manœuvres ont commencé'],\n",
       " ['https://www.lesoir.be/470176/article/2022-10-09/mort-de-bruno-latour-lhomme-de-la-planete',\n",
       "  'Mort de Bruno Latour, l’homme de la Planète A'],\n",
       " ['https://www.lesoir.be/469446/article/2022-10-05/la-meditation-de-pleine-conscience-benefique-pour-le-corps-et-lesprit',\n",
       "  'La méditation de pleine conscience, bénéfique pour le corps et l’esprit'],\n",
       " ['https://www.lesoir.be/468147/article/2022-09-28/lhelicobacter-pylori-cette-bacterie-qui-colonise-lestomac',\n",
       "  'L’Helicobacter pylori, cette bactérie qui colonise l’estomac'],\n",
       " ['https://www.lesoir.be/467516/article/2022-09-25/les-vaccins-tout-ce-quil-faut-savoir-le-livre-qui-pique-la-curiosite-des-enfants',\n",
       "  '«Les vaccins: tout ce qu’il faut savoir», le livre qui pique la curiosité des enfants'],\n",
       " ['https://www.lesoir.be/466840/article/2022-09-21/dormir-peu-et-mal-augmente-le-risque-de-maladies-cardiovasculaires',\n",
       "  'Dormir peu et mal augmente le risque de maladies cardiovasculaires'],\n",
       " ['https://www.lesoir.be/465405/article/2022-09-14/comment-des-odeurs-peuvent-raviver-nos-souvenirs',\n",
       "  'Comment des odeurs peuvent raviver nos souvenirs'],\n",
       " ['https://www.lesoir.be/462633/article/2022-08-31/pourquoi-la-retention-deau-est-elle-plus-marquee-quand-il-fait-chaud',\n",
       "  'Pourquoi la rétention d’eau est-elle plus marquée quand il fait chaud?'],\n",
       " ['https://www.lesoir.be/470308/article/2022-10-10/cancer-du-sein-comment-lamerique-invente-octobre-rose-et-son-ruban',\n",
       "  'Récit\\nCancer du sein: comment l’Amérique a inventé «Octobre rose» et son ruban'],\n",
       " ['https://www.lesoir.be/469404/article/2022-10-05/attention-votre-suv-tue-les-degonfleurs-de-pneus-essaiment',\n",
       "  'Reportage\\n«Attention, votre SUV tue»: les «dégonfleurs de pneus» essaiment'],\n",
       " ['https://www.lesoir.be/468926/article/2022-10-03/en-ukraine-dariia-enfin-retrouve-ilia-cest-un-honneur-detre-la-petite-amie-dun',\n",
       "  'En Ukraine, Dariia a enfin retrouvé Ilia: «C’est un honneur d’être la petite amie d’un héros»'],\n",
       " ['https://www.lesoir.be/469422/article/2022-10-05/ludovico-einaudi-et-lecologie-prend-progressivement-conscience-dune-catastrophe',\n",
       "  'Entretien\\nLudovico Einaudi et l’écologie: «On prend progressivement conscience d’une catastrophe généralisée»'],\n",
       " ['https://www.lesoir.be/469457/article/2022-10-05/populisme-polarisation-et-post-verite-lultime-seduction-du-pouvoir',\n",
       "  'Populisme, polarisation et post-vérité: l’ultime séduction du pouvoir'],\n",
       " ['https://www.lesoir.be/469684/article/2022-10-06/double-vainqueur-lironman-la-course-pied-est-une-sorte-de-danse-de-morceau-de',\n",
       "  'Entretien\\nDouble vainqueur à l’Ironman: «La course à pied est une sorte de danse, de morceau de musique»'],\n",
       " ['https://www.lesoir.be/468363/article/2022-09-29/renover-vite-et-fort-les-grandes-manoeuvres-ont-commence',\n",
       "  'Rénover vite et fort: les grandes manœuvres ont commencé'],\n",
       " ['https://www.lesoir.be/468107/article/2022-09-28/habitat-durable-vers-une-non-intervention-reflechie-dans-son-jardin',\n",
       "  'Habitat durable: vers une «non-intervention réfléchie» dans son jardin'],\n",
       " ['https://www.lesoir.be/468412/article/2022-09-29/un-pacte-la-consommation-pour-depasser-la-crise-du-pouvoir-dachat',\n",
       "  'Un pacte à la consommation pour dépasser la crise du pouvoir d’achat'],\n",
       " ['https://www.lesoir.be/468413/article/2022-09-29/au-fiff-la-decouverte-des-jeunes-talents-de-la-diaspora-francophone',\n",
       "  'Au FIFF, à la découverte des jeunes talents de la diaspora francophone'],\n",
       " ['https://www.lesoir.be/468491/article/2022-09-30/les-distributeurs-automatiques-de-pizzas-simposent-dans-le-paysage',\n",
       "  'Les distributeurs automatiques de pizzas s’imposent dans le paysage'],\n",
       " ['https://www.lesoir.be/468306/article/2022-09-29/la-brique-de-jus-pas-si-saine-quelle-ne-parait',\n",
       "  'La brique de jus, pas si saine qu’elle ne paraît']]"
      ]
     },
     "execution_count": 5,
     "metadata": {},
     "output_type": "execute_result"
    }
   ],
   "source": [
    "headers = {'User-Agent': 'Mozilla/5.0 (Macintosh; Intel Mac OS X 10_10_1) AppleWebKit/537.36 (KHTML, like Gecko) Chrome/39.0.2171.95 Safari/537.36'}\n",
    "\n",
    "articles = []\n",
    "\n",
    "root_url = f\"https://www.lesoir.be\"\n",
    "response = requests.get(root_url, headers=headers)\n",
    "soup = BeautifulSoup(response.text, 'html.parser')\n",
    "for link in soup.find_all(\"a\", {\"class\":\"r-article--link\"}):\n",
    "    title = link.text.strip()\n",
    "    url = root_url + link.get('href')\n",
    "    articles.append([url, title])\n",
    "articles"
   ]
  },
  {
   "cell_type": "code",
   "execution_count": 6,
   "metadata": {},
   "outputs": [
    {
     "data": {
      "text/plain": [
       "82"
      ]
     },
     "execution_count": 6,
     "metadata": {},
     "output_type": "execute_result"
    }
   ],
   "source": [
    "# Affichage du nombre d'articles récupérés\n",
    "len(articles)"
   ]
  },
  {
   "cell_type": "code",
   "execution_count": 7,
   "metadata": {},
   "outputs": [
    {
     "data": {
      "text/plain": [
       "[['https://www.lesoir.be/470628/article/2022-10-11/le-gouvernement-survit-lepreuve-budgetaire-de-croo-se-relance',\n",
       "  'Décodage\\nLe gouvernement survit à l’épreuve budgétaire, De Croo se relance'],\n",
       " ['https://www.lesoir.be/470604/article/2022-10-11/des-dizaines-de-civils-dont-un-enfant-exhumes-dans-les-villes-reconquises-par',\n",
       "  'Des dizaines de civils, dont un enfant, exhumés dans les villes reconquises par l’armée ukrainienne'],\n",
       " ['https://www.lesoir.be/470526/article/2022-10-11/sauve-par-des-soldats-russes-et-des-medecins-ukrainiens-un-journaliste-italien',\n",
       "  'Sauvé par des soldats russes et des médecins ukrainiens, un journaliste italien témoigne'],\n",
       " ['https://www.lesoir.be/470642/article/2022-10-11/un-vaisseau-de-la-nasa-reussi-devier-un-asteroide-de-sa-trajectoire-un-moment',\n",
       "  'Un vaisseau de la Nasa a réussi à dévier un astéroïde de sa trajectoire: «Un moment décisif pour l’humanité»'],\n",
       " ['https://www.lesoir.be/470641/article/2022-10-11/ligue-des-champions-hazard-titulaire-avec-le-real-le-psg-peut-se-qualifier-pour',\n",
       "  'Ligue des champions: Hazard titulaire avec le Real, le PSG peut se qualifier pour les 8es (direct à 21h)'],\n",
       " ['https://www.lesoir.be/470621/article/2022-10-11/cest-reparti-pour-une-nouvelle-saga-mbappe',\n",
       "  'Analyse\\nC’est reparti pour une nouvelle saga Mbappé'],\n",
       " ['https://www.lesoir.be/470618/article/2022-10-11/podcast-que-faut-il-retenir-de-laccord-budgetaire',\n",
       "  'Podcast – Que faut-il retenir de l’accord budgétaire?'],\n",
       " ['https://www.lesoir.be/470587/article/2022-10-11/bruxelles-des-changements-autour-de-la-place-flagey-des-la-fin-du-mois-doctobre',\n",
       "  'Bruxelles: des changements autour de la place Flagey dès la fin du mois d’octobre'],\n",
       " ['https://www.lesoir.be/470596/article/2022-10-11/charbon-ou-nucleaire-greta-thunberg-tranche',\n",
       "  'Charbon ou nucléaire? Greta Thunberg a tranché'],\n",
       " ['https://www.lesoir.be/470610/article/2022-10-11/chaos-migratoire-fedasil-est-contraint-de-laisser-des-ados-la-rue',\n",
       "  'Chaos migratoire: Fedasil est contraint de laisser des ados à la rue']]"
      ]
     },
     "execution_count": 7,
     "metadata": {},
     "output_type": "execute_result"
    }
   ],
   "source": [
    "# Affichage des 10 premières entrées\n",
    "articles[:10]"
   ]
  },
  {
   "cell_type": "markdown",
   "metadata": {},
   "source": [
    "## Création d'un dataframe avec les liens et les titres des articles\n"
   ]
  },
  {
   "cell_type": "code",
   "execution_count": 8,
   "metadata": {},
   "outputs": [
    {
     "data": {
      "text/html": [
       "<div>\n",
       "<style scoped>\n",
       "    .dataframe tbody tr th:only-of-type {\n",
       "        vertical-align: middle;\n",
       "    }\n",
       "\n",
       "    .dataframe tbody tr th {\n",
       "        vertical-align: top;\n",
       "    }\n",
       "\n",
       "    .dataframe thead th {\n",
       "        text-align: right;\n",
       "    }\n",
       "</style>\n",
       "<table border=\"1\" class=\"dataframe\">\n",
       "  <thead>\n",
       "    <tr style=\"text-align: right;\">\n",
       "      <th></th>\n",
       "      <th>link</th>\n",
       "      <th>title</th>\n",
       "    </tr>\n",
       "  </thead>\n",
       "  <tbody>\n",
       "    <tr>\n",
       "      <th>0</th>\n",
       "      <td>https://www.lesoir.be/470628/article/2022-10-1...</td>\n",
       "      <td>Décodage\\nLe gouvernement survit à l’épreuve b...</td>\n",
       "    </tr>\n",
       "    <tr>\n",
       "      <th>1</th>\n",
       "      <td>https://www.lesoir.be/470604/article/2022-10-1...</td>\n",
       "      <td>Des dizaines de civils, dont un enfant, exhumé...</td>\n",
       "    </tr>\n",
       "    <tr>\n",
       "      <th>2</th>\n",
       "      <td>https://www.lesoir.be/470526/article/2022-10-1...</td>\n",
       "      <td>Sauvé par des soldats russes et des médecins u...</td>\n",
       "    </tr>\n",
       "    <tr>\n",
       "      <th>3</th>\n",
       "      <td>https://www.lesoir.be/470642/article/2022-10-1...</td>\n",
       "      <td>Un vaisseau de la Nasa a réussi à dévier un as...</td>\n",
       "    </tr>\n",
       "    <tr>\n",
       "      <th>4</th>\n",
       "      <td>https://www.lesoir.be/470641/article/2022-10-1...</td>\n",
       "      <td>Ligue des champions: Hazard titulaire avec le ...</td>\n",
       "    </tr>\n",
       "    <tr>\n",
       "      <th>...</th>\n",
       "      <td>...</td>\n",
       "      <td>...</td>\n",
       "    </tr>\n",
       "    <tr>\n",
       "      <th>77</th>\n",
       "      <td>https://www.lesoir.be/468107/article/2022-09-2...</td>\n",
       "      <td>Habitat durable: vers une «non-intervention ré...</td>\n",
       "    </tr>\n",
       "    <tr>\n",
       "      <th>78</th>\n",
       "      <td>https://www.lesoir.be/468412/article/2022-09-2...</td>\n",
       "      <td>Un pacte à la consommation pour dépasser la cr...</td>\n",
       "    </tr>\n",
       "    <tr>\n",
       "      <th>79</th>\n",
       "      <td>https://www.lesoir.be/468413/article/2022-09-2...</td>\n",
       "      <td>Au FIFF, à la découverte des jeunes talents de...</td>\n",
       "    </tr>\n",
       "    <tr>\n",
       "      <th>80</th>\n",
       "      <td>https://www.lesoir.be/468491/article/2022-09-3...</td>\n",
       "      <td>Les distributeurs automatiques de pizzas s’imp...</td>\n",
       "    </tr>\n",
       "    <tr>\n",
       "      <th>81</th>\n",
       "      <td>https://www.lesoir.be/468306/article/2022-09-2...</td>\n",
       "      <td>La brique de jus, pas si saine qu’elle ne paraît</td>\n",
       "    </tr>\n",
       "  </tbody>\n",
       "</table>\n",
       "<p>82 rows × 2 columns</p>\n",
       "</div>"
      ],
      "text/plain": [
       "                                                 link  \\\n",
       "0   https://www.lesoir.be/470628/article/2022-10-1...   \n",
       "1   https://www.lesoir.be/470604/article/2022-10-1...   \n",
       "2   https://www.lesoir.be/470526/article/2022-10-1...   \n",
       "3   https://www.lesoir.be/470642/article/2022-10-1...   \n",
       "4   https://www.lesoir.be/470641/article/2022-10-1...   \n",
       "..                                                ...   \n",
       "77  https://www.lesoir.be/468107/article/2022-09-2...   \n",
       "78  https://www.lesoir.be/468412/article/2022-09-2...   \n",
       "79  https://www.lesoir.be/468413/article/2022-09-2...   \n",
       "80  https://www.lesoir.be/468491/article/2022-09-3...   \n",
       "81  https://www.lesoir.be/468306/article/2022-09-2...   \n",
       "\n",
       "                                                title  \n",
       "0   Décodage\\nLe gouvernement survit à l’épreuve b...  \n",
       "1   Des dizaines de civils, dont un enfant, exhumé...  \n",
       "2   Sauvé par des soldats russes et des médecins u...  \n",
       "3   Un vaisseau de la Nasa a réussi à dévier un as...  \n",
       "4   Ligue des champions: Hazard titulaire avec le ...  \n",
       "..                                                ...  \n",
       "77  Habitat durable: vers une «non-intervention ré...  \n",
       "78  Un pacte à la consommation pour dépasser la cr...  \n",
       "79  Au FIFF, à la découverte des jeunes talents de...  \n",
       "80  Les distributeurs automatiques de pizzas s’imp...  \n",
       "81   La brique de jus, pas si saine qu’elle ne paraît  \n",
       "\n",
       "[82 rows x 2 columns]"
      ]
     },
     "execution_count": 8,
     "metadata": {},
     "output_type": "execute_result"
    }
   ],
   "source": [
    "df = pd.DataFrame(articles, columns=['link', 'title'])\n",
    "df"
   ]
  },
  {
   "cell_type": "code",
   "execution_count": 9,
   "metadata": {},
   "outputs": [],
   "source": [
    "# Sauvegarde du dataframe dans un fichier csv\n",
    "df.to_csv(f\"../data/lesoir_{time.strftime('%Y%m%d')}.csv\", index=False)"
   ]
  },
  {
   "cell_type": "markdown",
   "metadata": {},
   "source": [
    "## Téléchargement d'un article et affichage du texte"
   ]
  },
  {
   "cell_type": "code",
   "execution_count": 10,
   "metadata": {},
   "outputs": [
    {
     "name": "stdout",
     "output_type": "stream",
     "text": [
      "Le gouvernement survit à l’épreuve budgétaire, De Croo se relance\n",
      "==================================\n",
      "Le gouvernement Vivaldi conclut un accord budgétaire 2023-2024. Alexander De Croo décrit un exécutif qui « protège ». Il s’accroche et se relance après les rumeurs, cet été, de crise politique. Les partis de la Vivaldi et leurs présidents repartent, eux, sans trophée.\n",
      "==================================\n",
      "  L e Seize communiquait intensément mardi matin, avant le discours du Premier ministre à la Chambre : « Le maître mot de cet exercice budgétaire, c’est “protéger”\n",
      "                     ». Alexander De Croo s’exécutera devant les élus de la nation quelques heures plus tard. Il conjuguera de toutes les façons : on protège les familles en prolongeant le paquet de base énergie ; on protège les entreprises en baissant les charges sociales ; on protège notre pays en Europe par temps de guerre en réinvestissant dans l’armée ; on protège notre Etat contre les narcotrafiquants ; on en oublie… Chacun jugera, mais le concept est là. \n",
      "\n"
     ]
    }
   ],
   "source": [
    "# Récupération du premier lien du dataframe\n",
    "article_url = df.iloc[0][0]\n",
    "\n",
    "# Ouverture de la page\n",
    "response = requests.get(article_url, headers=headers)\n",
    "soup = BeautifulSoup(response.text, 'html.parser')\n",
    "\n",
    "# Parsing du contenu\n",
    "title = soup.find(\"h1\").get_text(separator=' ')\n",
    "chapo = soup.find(\"r-article--chapo\").get_text(separator=' ')\n",
    "content = soup.find(\"r-article--section\").get_text(separator=' ')\n",
    "\n",
    "print(title)\n",
    "print(\"==================================\")\n",
    "print(chapo)\n",
    "print(\"==================================\")\n",
    "print(content)"
   ]
  },
  {
   "cell_type": "markdown",
   "metadata": {},
   "source": [
    "### Nettoyage du texte à l'aide d'expressions régulières"
   ]
  },
  {
   "cell_type": "code",
   "execution_count": 11,
   "metadata": {},
   "outputs": [
    {
     "name": "stdout",
     "output_type": "stream",
     "text": [
      "  L e Seize communiquait intensément mardi matin, avant le discours du Premier ministre à la Chambre : « Le maître mot de cet exercice budgétaire, c’est “protéger”\n",
      "                     ». Alexander De Croo s’exécutera devant les élus de la nation quelques heures plus tard. Il conjuguera de toutes les façons : on protège les familles en prolongeant le paquet de base énergie ; on protège les entreprises en baissant les charges sociales ; on protège notre pays en Europe par temps de guerre en réinvestissant dans l’armée ; on protège notre Etat contre les narcotrafiquants ; on en oublie… Chacun jugera, mais le concept est là. \n",
      "\n",
      "==================================\n",
      " L e Seize communiquait intensément mardi matin, avant le discours du Premier ministre à la Chambre : « Le maître mot de cet exercice budgétaire, c’est “protéger” ». Alexander De Croo s’exécutera devant les élus de la nation quelques heures plus tard. Il conjuguera de toutes les façons : on protège les familles en prolongeant le paquet de base énergie ; on protège les entreprises en baissant les charges sociales ; on protège notre pays en Europe par temps de guerre en réinvestissant dans l’armée ; on protège notre Etat contre les narcotrafiquants ; on en oublie… Chacun jugera, mais le concept est là. \n"
     ]
    }
   ],
   "source": [
    "# Suppression de tout ce qui se trouve entre parenthèses\n",
    "clean_content = re.sub(\"\\([^\\)]+\\)\", \" \", content)\n",
    "# Suppression des espaces multiples\n",
    "clean_content = re.sub(\"\\s+\", \" \", clean_content)\n",
    "\n",
    "print(content)\n",
    "print(\"==================================\")\n",
    "print(clean_content)\n"
   ]
  },
  {
   "cell_type": "markdown",
   "metadata": {},
   "source": [
    "### Création d'un fichier avec le contenu de l'article\n"
   ]
  },
  {
   "cell_type": "code",
   "execution_count": null,
   "metadata": {},
   "outputs": [],
   "source": [
    "with open(\"../data/lesoir_example.txt\", \"w\") as writer:\n",
    "    writer.write(f\"{title}\\n\\n{chapo}\\n\\n{clean_content}\")"
   ]
  },
  {
   "cell_type": "markdown",
   "metadata": {},
   "source": [
    "## Pour en savoir plus"
   ]
  },
  {
   "cell_type": "markdown",
   "metadata": {},
   "source": [
    "- Le web scraping avec Python: https://realpython.com/beautiful-soup-web-scraper-python/\n",
    "- Tutoriel sur les expressions régulières: https://www.w3schools.com/python/python_regex.asp"
   ]
  }
 ],
 "metadata": {
  "kernelspec": {
   "display_name": "Python 3.10.7 ('tac_venv': venv)",
   "language": "python",
   "name": "python3"
  },
  "language_info": {
   "codemirror_mode": {
    "name": "ipython",
    "version": 3
   },
   "file_extension": ".py",
   "mimetype": "text/x-python",
   "name": "python",
   "nbconvert_exporter": "python",
   "pygments_lexer": "ipython3",
   "version": "3.10.7 (v3.10.7:6cc6b13308, Sep  5 2022, 14:02:52) [Clang 13.0.0 (clang-1300.0.29.30)]"
  },
  "vscode": {
   "interpreter": {
    "hash": "22eb57bff7284fa477302938a752c329165cd0000dc5945798efe1987041d9d3"
   }
  }
 },
 "nbformat": 4,
 "nbformat_minor": 4
}

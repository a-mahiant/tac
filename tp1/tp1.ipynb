{
 "cells": [
  {
   "cell_type": "markdown",
   "metadata": {},
   "source": [
    "# API: HTML requests"
   ]
  },
  {
   "cell_type": "markdown",
   "metadata": {},
   "source": [
    "## Imports"
   ]
  },
  {
   "cell_type": "code",
   "execution_count": 1,
   "metadata": {},
   "outputs": [],
   "source": [
    "import json\n",
    "import requests\n",
    "from datetime import datetime as dt\n",
    "from SPARQLWrapper import SPARQLWrapper, JSON"
   ]
  },
  {
   "cell_type": "markdown",
   "metadata": {},
   "source": [
    "## Using Wikidata to identify famous belgian journalists"
   ]
  },
  {
   "cell_type": "code",
   "execution_count": 2,
   "metadata": {},
   "outputs": [
    {
     "name": "stdout",
     "output_type": "stream",
     "text": [
      "\n",
      "2869 Belgian journalists found\n",
      "\n",
      "[{'person': {'type': 'uri', 'value': 'http://www.wikidata.org/entity/Q47532275'}, 'personLabel': {'xml:lang': 'fr', 'type': 'literal', 'value': 'Bo Van Spilbeeck'}, 'professionLabel': {'xml:lang': 'fr', 'type': 'literal', 'value': 'journaliste'}, 'genderLabel': {'xml:lang': 'fr', 'type': 'literal', 'value': 'femme trans'}, 'dobLabel': {'datatype': 'http://www.w3.org/2001/XMLSchema#dateTime', 'type': 'literal', 'value': '1959-02-07T00:00:00Z'}}, {'person': {'type': 'uri', 'value': 'http://www.wikidata.org/entity/Q371203'}, 'personLabel': {'xml:lang': 'fr', 'type': 'literal', 'value': 'Maria-Esméralda de Belgique'}, 'professionLabel': {'xml:lang': 'fr', 'type': 'literal', 'value': 'journaliste'}, 'genderLabel': {'xml:lang': 'fr', 'type': 'literal', 'value': 'féminin'}, 'dobLabel': {'datatype': 'http://www.w3.org/2001/XMLSchema#dateTime', 'type': 'literal', 'value': '1956-09-30T00:00:00Z'}}, {'person': {'type': 'uri', 'value': 'http://www.wikidata.org/entity/Q458084'}, 'personLabel': {'xml:lang': 'fr', 'type': 'literal', 'value': 'Frédérique Ries'}, 'professionLabel': {'xml:lang': 'fr', 'type': 'literal', 'value': 'personnalité politique'}, 'genderLabel': {'xml:lang': 'fr', 'type': 'literal', 'value': 'féminin'}, 'dobLabel': {'datatype': 'http://www.w3.org/2001/XMLSchema#dateTime', 'type': 'literal', 'value': '1959-05-14T00:00:00Z'}}, {'person': {'type': 'uri', 'value': 'http://www.wikidata.org/entity/Q458084'}, 'personLabel': {'xml:lang': 'fr', 'type': 'literal', 'value': 'Frédérique Ries'}, 'professionLabel': {'xml:lang': 'fr', 'type': 'literal', 'value': 'journaliste'}, 'genderLabel': {'xml:lang': 'fr', 'type': 'literal', 'value': 'féminin'}, 'dobLabel': {'datatype': 'http://www.w3.org/2001/XMLSchema#dateTime', 'type': 'literal', 'value': '1959-05-14T00:00:00Z'}}, {'person': {'type': 'uri', 'value': 'http://www.wikidata.org/entity/Q460714'}, 'personLabel': {'xml:lang': 'fr', 'type': 'literal', 'value': 'Anne Delvaux'}, 'professionLabel': {'xml:lang': 'fr', 'type': 'literal', 'value': 'personnalité politique'}, 'genderLabel': {'xml:lang': 'fr', 'type': 'literal', 'value': 'féminin'}, 'dobLabel': {'datatype': 'http://www.w3.org/2001/XMLSchema#dateTime', 'type': 'literal', 'value': '1970-10-20T00:00:00Z'}}, {'person': {'type': 'uri', 'value': 'http://www.wikidata.org/entity/Q460714'}, 'personLabel': {'xml:lang': 'fr', 'type': 'literal', 'value': 'Anne Delvaux'}, 'professionLabel': {'xml:lang': 'fr', 'type': 'literal', 'value': 'présentateur ou présentatrice de journal'}, 'genderLabel': {'xml:lang': 'fr', 'type': 'literal', 'value': 'féminin'}, 'dobLabel': {'datatype': 'http://www.w3.org/2001/XMLSchema#dateTime', 'type': 'literal', 'value': '1970-10-20T00:00:00Z'}}, {'person': {'type': 'uri', 'value': 'http://www.wikidata.org/entity/Q460714'}, 'personLabel': {'xml:lang': 'fr', 'type': 'literal', 'value': 'Anne Delvaux'}, 'professionLabel': {'xml:lang': 'fr', 'type': 'literal', 'value': 'animateur ou animatrice de télévision'}, 'genderLabel': {'xml:lang': 'fr', 'type': 'literal', 'value': 'féminin'}, 'dobLabel': {'datatype': 'http://www.w3.org/2001/XMLSchema#dateTime', 'type': 'literal', 'value': '1970-10-20T00:00:00Z'}}, {'person': {'type': 'uri', 'value': 'http://www.wikidata.org/entity/Q460714'}, 'personLabel': {'xml:lang': 'fr', 'type': 'literal', 'value': 'Anne Delvaux'}, 'professionLabel': {'xml:lang': 'fr', 'type': 'literal', 'value': 'journaliste'}, 'genderLabel': {'xml:lang': 'fr', 'type': 'literal', 'value': 'féminin'}, 'dobLabel': {'datatype': 'http://www.w3.org/2001/XMLSchema#dateTime', 'type': 'literal', 'value': '1970-10-20T00:00:00Z'}}, {'person': {'type': 'uri', 'value': 'http://www.wikidata.org/entity/Q469333'}, 'personLabel': {'xml:lang': 'fr', 'type': 'literal', 'value': 'Maria Rosseels'}, 'professionLabel': {'xml:lang': 'fr', 'type': 'literal', 'value': 'écrivain ou écrivaine'}, 'genderLabel': {'xml:lang': 'fr', 'type': 'literal', 'value': 'féminin'}, 'dobLabel': {'datatype': 'http://www.w3.org/2001/XMLSchema#dateTime', 'type': 'literal', 'value': '1916-10-23T00:00:00Z'}}, {'person': {'type': 'uri', 'value': 'http://www.wikidata.org/entity/Q469333'}, 'personLabel': {'xml:lang': 'fr', 'type': 'literal', 'value': 'Maria Rosseels'}, 'professionLabel': {'xml:lang': 'fr', 'type': 'literal', 'value': 'journaliste'}, 'genderLabel': {'xml:lang': 'fr', 'type': 'literal', 'value': 'féminin'}, 'dobLabel': {'datatype': 'http://www.w3.org/2001/XMLSchema#dateTime', 'type': 'literal', 'value': '1916-10-23T00:00:00Z'}}]\n"
     ]
    }
   ],
   "source": [
    "endpoint = \"https://query.wikidata.org/bigdata/namespace/wdq/sparql\"\n",
    "sparql = SPARQLWrapper(endpoint)\n",
    "\n",
    "statement = \"\"\"\n",
    "SELECT DISTINCT ?person ?personLabel ?professionLabel ?genderLabel ?dobLabel\n",
    "WHERE{\n",
    "       ?person wdt:P106 wd:Q1930187 . # Journalist\n",
    "       ?person wdt:P106 ?profession . # Profession\n",
    "       ?person wdt:P21 ?gender . # Gender\n",
    "       ?person wdt:P569 ?dobLabel . # Birthdate\n",
    "       ?person wdt:P27 wd:Q31 . # Country of citizenship - Belgium\n",
    "       SERVICE wikibase:label {bd:serviceParam wikibase:language \"fr\" }\n",
    "}\n",
    "ORDER BY ASC(?gender)\n",
    "\"\"\"\n",
    "\n",
    "sparql.setQuery(statement)\n",
    "sparql.setReturnFormat(JSON)\n",
    "results = sparql.query().convert()\n",
    "\n",
    "rows = results['results']['bindings']\n",
    "print(f\"\\n{len(rows)} Belgian journalists found\\n\")\n",
    "print(rows[:10])"
   ]
  }
 ],
 "metadata": {
  "kernelspec": {
   "display_name": "tac_venv",
   "language": "python",
   "name": "python3"
  },
  "language_info": {
   "codemirror_mode": {
    "name": "ipython",
    "version": 3
   },
   "file_extension": ".py",
   "mimetype": "text/x-python",
   "name": "python",
   "nbconvert_exporter": "python",
   "pygments_lexer": "ipython3",
   "version": "3.10.7"
  },
  "orig_nbformat": 4,
  "vscode": {
   "interpreter": {
    "hash": "22eb57bff7284fa477302938a752c329165cd0000dc5945798efe1987041d9d3"
   }
  }
 },
 "nbformat": 4,
 "nbformat_minor": 2
}

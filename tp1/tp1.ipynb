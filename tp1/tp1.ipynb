{
 "cells": [
  {
   "cell_type": "markdown",
   "metadata": {},
   "source": [
    "# API: HTML requests"
   ]
  },
  {
   "cell_type": "markdown",
   "metadata": {},
   "source": [
    "## Imports"
   ]
  },
  {
   "cell_type": "code",
   "execution_count": 1,
   "metadata": {},
   "outputs": [],
   "source": [
    "import json\n",
    "import requests"
   ]
  },
  {
   "cell_type": "markdown",
   "metadata": {},
   "source": [
    "## Using Wikidata to identify famous belgian journalists"
   ]
  },
  {
   "cell_type": "code",
   "execution_count": 2,
   "metadata": {},
   "outputs": [],
   "source": [
    "url = \"https://www.wikidata.org/w/api.php\"\n",
    "\n",
    "while True:\n",
    "    query = input(\"Enter entity code : \")\n",
    "    if query == \"quit\":\n",
    "        break\n",
    "    else:\n",
    "        params = {\n",
    "        \"action\" : \"wbsearchentities\",\n",
    "        \"language\" : \"en\",\n",
    "        \"format\" : \"json\",\n",
    "        \"search\" : query \n",
    "        }\n",
    "        try:\n",
    "            data = requests.get(url,params=params)\n",
    "            print(data.json())\n",
    "        except:\n",
    "            print(\"Invalid input, try again with another one\")"
   ]
  }
 ],
 "metadata": {
  "kernelspec": {
   "display_name": "tac_venv",
   "language": "python",
   "name": "python3"
  },
  "language_info": {
   "codemirror_mode": {
    "name": "ipython",
    "version": 3
   },
   "file_extension": ".py",
   "mimetype": "text/x-python",
   "name": "python",
   "nbconvert_exporter": "python",
   "pygments_lexer": "ipython3",
   "version": "3.10.7"
  },
  "orig_nbformat": 4,
  "vscode": {
   "interpreter": {
    "hash": "22eb57bff7284fa477302938a752c329165cd0000dc5945798efe1987041d9d3"
   }
  }
 },
 "nbformat": 4,
 "nbformat_minor": 2
}
